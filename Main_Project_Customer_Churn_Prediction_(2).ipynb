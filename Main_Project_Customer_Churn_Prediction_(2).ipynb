{
  "cells": [
    {
      "cell_type": "markdown",
      "metadata": {
        "id": "view-in-github",
        "colab_type": "text"
      },
      "source": [
        "<a href=\"https://colab.research.google.com/github/Khuks/Customer-Churn-Prediction/blob/main/Main_Project_Customer_Churn_Prediction_(2).ipynb\" target=\"_parent\"><img src=\"https://colab.research.google.com/assets/colab-badge.svg\" alt=\"Open In Colab\"/></a>"
      ]
    },
    {
      "cell_type": "markdown",
      "metadata": {
        "id": "VphQAs_vt1Zc"
      },
      "source": [
        "**Churn Classification** \n",
        "By Nokwanda Sihlongonyane\n",
        "\n",
        "This is a machine learning project for the prediction if a User would churn or not. The data set contain several features, with a need application of a classification model."
      ]
    },
    {
      "cell_type": "markdown",
      "metadata": {
        "id": "kt2-HVRouej9"
      },
      "source": [
        "so let's start importing needed libraries"
      ]
    },
    {
      "cell_type": "code",
      "execution_count": 3,
      "metadata": {
        "id": "IQRVS3OGF8-H"
      },
      "outputs": [],
      "source": [
        "import numpy as np # linear algebra\n",
        "import pandas as pd # data processing, CSV file I/O (e.g. pd.read_csv)\n",
        "from IPython.display import display\n",
        "import plotly.express as px \n",
        "import seaborn as sns\n",
        "import matplotlib.pyplot as plt\n",
        "%matplotlib inline\n",
        "import plotly.express as px\n",
        "from sklearn.preprocessing import StandardScaler\n",
        "from joblib import dump, load\n",
        "from sklearn.model_selection import train_test_split\n",
        "from sklearn.tree import DecisionTreeClassifier\n",
        "from sklearn.metrics import classification_report, accuracy_score,recall_score \n",
        "from sklearn.model_selection import cross_val_score\n",
        "from sklearn.pipeline import make_pipeline\n",
        "from sklearn.linear_model import LogisticRegression\n",
        "from sklearn.model_selection import train_test_split, cross_val_score, GridSearchCV, StratifiedKFold\n",
        "from sklearn.preprocessing import LabelEncoder\n",
        "from imblearn.combine import SMOTEENN \n",
        "from imblearn.combine import SMOTETomek \n",
        "from google.colab import files\n",
        "import io\n",
        "from sklearn import metrics\n",
        "from sklearn.metrics import classification_report, confusion_matrix"
      ]
    },
    {
      "cell_type": "code",
      "execution_count": 4,
      "metadata": {
        "colab": {
          "base_uri": "https://localhost:8080/"
        },
        "id": "13xHkzuNdSQp",
        "outputId": "82143d4d-667e-49a0-ecf9-24abdd88c2e8"
      },
      "outputs": [
        {
          "output_type": "stream",
          "name": "stdout",
          "text": [
            "Mounted at /content/drive\n"
          ]
        }
      ],
      "source": [
        "from google.colab import drive\n",
        "drive.mount('/content/drive')"
      ]
    },
    {
      "cell_type": "code",
      "execution_count": 5,
      "metadata": {
        "id": "PGd1SCAzl6SX"
      },
      "outputs": [],
      "source": [
        "data = pd.read_csv('/content/drive/MyDrive/Train.csv')"
      ]
    },
    {
      "cell_type": "markdown",
      "metadata": {
        "id": "37z_dG0MvMcs"
      },
      "source": [
        "Data Exploration"
      ]
    },
    {
      "cell_type": "code",
      "execution_count": 6,
      "metadata": {
        "colab": {
          "base_uri": "https://localhost:8080/",
          "height": 1000
        },
        "id": "m-oKBmWNGN4R",
        "outputId": "58b62c1b-a260-4be7-d524-9591c0124242"
      },
      "outputs": [
        {
          "output_type": "stream",
          "name": "stdout",
          "text": [
            "Data Information Table\n",
            "<class 'pandas.core.frame.DataFrame'>\n",
            "RangeIndex: 1077024 entries, 0 to 1077023\n",
            "Data columns (total 19 columns):\n",
            " #   Column          Non-Null Count    Dtype  \n",
            "---  ------          --------------    -----  \n",
            " 0   user_id         1077024 non-null  object \n",
            " 1   REGION          652687 non-null   object \n",
            " 2   TENURE          1077024 non-null  object \n",
            " 3   MONTANT         699139 non-null   float64\n",
            " 4   FREQUENCE_RECH  699139 non-null   float64\n",
            " 5   REVENUE         714669 non-null   float64\n",
            " 6   ARPU_SEGMENT    714669 non-null   float64\n",
            " 7   FREQUENCE       714669 non-null   float64\n",
            " 8   DATA_VOLUME     547261 non-null   float64\n",
            " 9   ON_NET          683850 non-null   float64\n",
            " 10  ORANGE          629880 non-null   float64\n",
            " 11  TIGO            432250 non-null   float64\n",
            " 12  ZONE1           84898 non-null    float64\n",
            " 13  ZONE2           68794 non-null    float64\n",
            " 14  MRG             1077024 non-null  object \n",
            " 15  REGULARITY      1077024 non-null  int64  \n",
            " 16  TOP_PACK        626129 non-null   object \n",
            " 17  FREQ_TOP_PACK   626129 non-null   float64\n",
            " 18  CHURN           1077024 non-null  int64  \n",
            "dtypes: float64(12), int64(2), object(5)\n",
            "memory usage: 156.1+ MB\n"
          ]
        },
        {
          "output_type": "display_data",
          "data": {
            "text/plain": [
              "None"
            ]
          },
          "metadata": {}
        },
        {
          "output_type": "stream",
          "name": "stdout",
          "text": [
            "Data Head Table\n"
          ]
        },
        {
          "output_type": "display_data",
          "data": {
            "text/plain": [
              "                                    user_id       REGION        TENURE  \\\n",
              "0  7ee9e11e342e27c70455960acc80d3f91c1286d1        DAKAR  K > 24 month   \n",
              "1  50443f42bdc92b10388fc56e520e4421a5fa655c          NaN  K > 24 month   \n",
              "2  da90b5c1a9b204c186079f89969aa01cb03c91b2          NaN  K > 24 month   \n",
              "3  364ec1b424cdc64c25441a444a16930289a0051e  SAINT-LOUIS  K > 24 month   \n",
              "4  d5a5247005bc6d41d3d99f4ef312ebb5f640f2cb        DAKAR  K > 24 month   \n",
              "\n",
              "   MONTANT  FREQUENCE_RECH  REVENUE  ARPU_SEGMENT  FREQUENCE  DATA_VOLUME  \\\n",
              "0  20000.0            47.0  21602.0        7201.0       52.0       8835.0   \n",
              "1      NaN             NaN      NaN           NaN        NaN          NaN   \n",
              "2      NaN             NaN      NaN           NaN        NaN          NaN   \n",
              "3   7900.0            19.0   7896.0        2632.0       25.0       9385.0   \n",
              "4  12350.0            21.0  12351.0        4117.0       29.0       9360.0   \n",
              "\n",
              "   ON_NET  ORANGE   TIGO  ZONE1  ZONE2 MRG  REGULARITY  \\\n",
              "0  3391.0   396.0  185.0    NaN    NaN  NO          62   \n",
              "1     NaN     NaN    NaN    NaN    NaN  NO           3   \n",
              "2     NaN     NaN    NaN    NaN    NaN  NO           1   \n",
              "3    27.0    46.0   20.0    NaN    2.0  NO          61   \n",
              "4    66.0   102.0   34.0    NaN    NaN  NO          56   \n",
              "\n",
              "                         TOP_PACK  FREQ_TOP_PACK  CHURN  \n",
              "0  On net 200F=Unlimited _call24H           30.0      0  \n",
              "1                             NaN            NaN      0  \n",
              "2                             NaN            NaN      0  \n",
              "3                Data:490F=1GB,7d            7.0      0  \n",
              "4           All-net 500F=2000F;5d           11.0      0  "
            ],
            "text/html": [
              "\n",
              "  <div id=\"df-694b8f41-1e0c-40bd-890d-13707bbdce1b\">\n",
              "    <div class=\"colab-df-container\">\n",
              "      <div>\n",
              "<style scoped>\n",
              "    .dataframe tbody tr th:only-of-type {\n",
              "        vertical-align: middle;\n",
              "    }\n",
              "\n",
              "    .dataframe tbody tr th {\n",
              "        vertical-align: top;\n",
              "    }\n",
              "\n",
              "    .dataframe thead th {\n",
              "        text-align: right;\n",
              "    }\n",
              "</style>\n",
              "<table border=\"1\" class=\"dataframe\">\n",
              "  <thead>\n",
              "    <tr style=\"text-align: right;\">\n",
              "      <th></th>\n",
              "      <th>user_id</th>\n",
              "      <th>REGION</th>\n",
              "      <th>TENURE</th>\n",
              "      <th>MONTANT</th>\n",
              "      <th>FREQUENCE_RECH</th>\n",
              "      <th>REVENUE</th>\n",
              "      <th>ARPU_SEGMENT</th>\n",
              "      <th>FREQUENCE</th>\n",
              "      <th>DATA_VOLUME</th>\n",
              "      <th>ON_NET</th>\n",
              "      <th>ORANGE</th>\n",
              "      <th>TIGO</th>\n",
              "      <th>ZONE1</th>\n",
              "      <th>ZONE2</th>\n",
              "      <th>MRG</th>\n",
              "      <th>REGULARITY</th>\n",
              "      <th>TOP_PACK</th>\n",
              "      <th>FREQ_TOP_PACK</th>\n",
              "      <th>CHURN</th>\n",
              "    </tr>\n",
              "  </thead>\n",
              "  <tbody>\n",
              "    <tr>\n",
              "      <th>0</th>\n",
              "      <td>7ee9e11e342e27c70455960acc80d3f91c1286d1</td>\n",
              "      <td>DAKAR</td>\n",
              "      <td>K &gt; 24 month</td>\n",
              "      <td>20000.0</td>\n",
              "      <td>47.0</td>\n",
              "      <td>21602.0</td>\n",
              "      <td>7201.0</td>\n",
              "      <td>52.0</td>\n",
              "      <td>8835.0</td>\n",
              "      <td>3391.0</td>\n",
              "      <td>396.0</td>\n",
              "      <td>185.0</td>\n",
              "      <td>NaN</td>\n",
              "      <td>NaN</td>\n",
              "      <td>NO</td>\n",
              "      <td>62</td>\n",
              "      <td>On net 200F=Unlimited _call24H</td>\n",
              "      <td>30.0</td>\n",
              "      <td>0</td>\n",
              "    </tr>\n",
              "    <tr>\n",
              "      <th>1</th>\n",
              "      <td>50443f42bdc92b10388fc56e520e4421a5fa655c</td>\n",
              "      <td>NaN</td>\n",
              "      <td>K &gt; 24 month</td>\n",
              "      <td>NaN</td>\n",
              "      <td>NaN</td>\n",
              "      <td>NaN</td>\n",
              "      <td>NaN</td>\n",
              "      <td>NaN</td>\n",
              "      <td>NaN</td>\n",
              "      <td>NaN</td>\n",
              "      <td>NaN</td>\n",
              "      <td>NaN</td>\n",
              "      <td>NaN</td>\n",
              "      <td>NaN</td>\n",
              "      <td>NO</td>\n",
              "      <td>3</td>\n",
              "      <td>NaN</td>\n",
              "      <td>NaN</td>\n",
              "      <td>0</td>\n",
              "    </tr>\n",
              "    <tr>\n",
              "      <th>2</th>\n",
              "      <td>da90b5c1a9b204c186079f89969aa01cb03c91b2</td>\n",
              "      <td>NaN</td>\n",
              "      <td>K &gt; 24 month</td>\n",
              "      <td>NaN</td>\n",
              "      <td>NaN</td>\n",
              "      <td>NaN</td>\n",
              "      <td>NaN</td>\n",
              "      <td>NaN</td>\n",
              "      <td>NaN</td>\n",
              "      <td>NaN</td>\n",
              "      <td>NaN</td>\n",
              "      <td>NaN</td>\n",
              "      <td>NaN</td>\n",
              "      <td>NaN</td>\n",
              "      <td>NO</td>\n",
              "      <td>1</td>\n",
              "      <td>NaN</td>\n",
              "      <td>NaN</td>\n",
              "      <td>0</td>\n",
              "    </tr>\n",
              "    <tr>\n",
              "      <th>3</th>\n",
              "      <td>364ec1b424cdc64c25441a444a16930289a0051e</td>\n",
              "      <td>SAINT-LOUIS</td>\n",
              "      <td>K &gt; 24 month</td>\n",
              "      <td>7900.0</td>\n",
              "      <td>19.0</td>\n",
              "      <td>7896.0</td>\n",
              "      <td>2632.0</td>\n",
              "      <td>25.0</td>\n",
              "      <td>9385.0</td>\n",
              "      <td>27.0</td>\n",
              "      <td>46.0</td>\n",
              "      <td>20.0</td>\n",
              "      <td>NaN</td>\n",
              "      <td>2.0</td>\n",
              "      <td>NO</td>\n",
              "      <td>61</td>\n",
              "      <td>Data:490F=1GB,7d</td>\n",
              "      <td>7.0</td>\n",
              "      <td>0</td>\n",
              "    </tr>\n",
              "    <tr>\n",
              "      <th>4</th>\n",
              "      <td>d5a5247005bc6d41d3d99f4ef312ebb5f640f2cb</td>\n",
              "      <td>DAKAR</td>\n",
              "      <td>K &gt; 24 month</td>\n",
              "      <td>12350.0</td>\n",
              "      <td>21.0</td>\n",
              "      <td>12351.0</td>\n",
              "      <td>4117.0</td>\n",
              "      <td>29.0</td>\n",
              "      <td>9360.0</td>\n",
              "      <td>66.0</td>\n",
              "      <td>102.0</td>\n",
              "      <td>34.0</td>\n",
              "      <td>NaN</td>\n",
              "      <td>NaN</td>\n",
              "      <td>NO</td>\n",
              "      <td>56</td>\n",
              "      <td>All-net 500F=2000F;5d</td>\n",
              "      <td>11.0</td>\n",
              "      <td>0</td>\n",
              "    </tr>\n",
              "  </tbody>\n",
              "</table>\n",
              "</div>\n",
              "      <button class=\"colab-df-convert\" onclick=\"convertToInteractive('df-694b8f41-1e0c-40bd-890d-13707bbdce1b')\"\n",
              "              title=\"Convert this dataframe to an interactive table.\"\n",
              "              style=\"display:none;\">\n",
              "        \n",
              "  <svg xmlns=\"http://www.w3.org/2000/svg\" height=\"24px\"viewBox=\"0 0 24 24\"\n",
              "       width=\"24px\">\n",
              "    <path d=\"M0 0h24v24H0V0z\" fill=\"none\"/>\n",
              "    <path d=\"M18.56 5.44l.94 2.06.94-2.06 2.06-.94-2.06-.94-.94-2.06-.94 2.06-2.06.94zm-11 1L8.5 8.5l.94-2.06 2.06-.94-2.06-.94L8.5 2.5l-.94 2.06-2.06.94zm10 10l.94 2.06.94-2.06 2.06-.94-2.06-.94-.94-2.06-.94 2.06-2.06.94z\"/><path d=\"M17.41 7.96l-1.37-1.37c-.4-.4-.92-.59-1.43-.59-.52 0-1.04.2-1.43.59L10.3 9.45l-7.72 7.72c-.78.78-.78 2.05 0 2.83L4 21.41c.39.39.9.59 1.41.59.51 0 1.02-.2 1.41-.59l7.78-7.78 2.81-2.81c.8-.78.8-2.07 0-2.86zM5.41 20L4 18.59l7.72-7.72 1.47 1.35L5.41 20z\"/>\n",
              "  </svg>\n",
              "      </button>\n",
              "      \n",
              "  <style>\n",
              "    .colab-df-container {\n",
              "      display:flex;\n",
              "      flex-wrap:wrap;\n",
              "      gap: 12px;\n",
              "    }\n",
              "\n",
              "    .colab-df-convert {\n",
              "      background-color: #E8F0FE;\n",
              "      border: none;\n",
              "      border-radius: 50%;\n",
              "      cursor: pointer;\n",
              "      display: none;\n",
              "      fill: #1967D2;\n",
              "      height: 32px;\n",
              "      padding: 0 0 0 0;\n",
              "      width: 32px;\n",
              "    }\n",
              "\n",
              "    .colab-df-convert:hover {\n",
              "      background-color: #E2EBFA;\n",
              "      box-shadow: 0px 1px 2px rgba(60, 64, 67, 0.3), 0px 1px 3px 1px rgba(60, 64, 67, 0.15);\n",
              "      fill: #174EA6;\n",
              "    }\n",
              "\n",
              "    [theme=dark] .colab-df-convert {\n",
              "      background-color: #3B4455;\n",
              "      fill: #D2E3FC;\n",
              "    }\n",
              "\n",
              "    [theme=dark] .colab-df-convert:hover {\n",
              "      background-color: #434B5C;\n",
              "      box-shadow: 0px 1px 3px 1px rgba(0, 0, 0, 0.15);\n",
              "      filter: drop-shadow(0px 1px 2px rgba(0, 0, 0, 0.3));\n",
              "      fill: #FFFFFF;\n",
              "    }\n",
              "  </style>\n",
              "\n",
              "      <script>\n",
              "        const buttonEl =\n",
              "          document.querySelector('#df-694b8f41-1e0c-40bd-890d-13707bbdce1b button.colab-df-convert');\n",
              "        buttonEl.style.display =\n",
              "          google.colab.kernel.accessAllowed ? 'block' : 'none';\n",
              "\n",
              "        async function convertToInteractive(key) {\n",
              "          const element = document.querySelector('#df-694b8f41-1e0c-40bd-890d-13707bbdce1b');\n",
              "          const dataTable =\n",
              "            await google.colab.kernel.invokeFunction('convertToInteractive',\n",
              "                                                     [key], {});\n",
              "          if (!dataTable) return;\n",
              "\n",
              "          const docLinkHtml = 'Like what you see? Visit the ' +\n",
              "            '<a target=\"_blank\" href=https://colab.research.google.com/notebooks/data_table.ipynb>data table notebook</a>'\n",
              "            + ' to learn more about interactive tables.';\n",
              "          element.innerHTML = '';\n",
              "          dataTable['output_type'] = 'display_data';\n",
              "          await google.colab.output.renderOutput(dataTable, element);\n",
              "          const docLink = document.createElement('div');\n",
              "          docLink.innerHTML = docLinkHtml;\n",
              "          element.appendChild(docLink);\n",
              "        }\n",
              "      </script>\n",
              "    </div>\n",
              "  </div>\n",
              "  "
            ]
          },
          "metadata": {}
        },
        {
          "output_type": "stream",
          "name": "stdout",
          "text": [
            "Data Describe Information Table\n"
          ]
        },
        {
          "output_type": "display_data",
          "data": {
            "text/plain": [
              "             MONTANT  FREQUENCE_RECH        REVENUE   ARPU_SEGMENT  \\\n",
              "count  699139.000000   699139.000000  714669.000000  714669.000000   \n",
              "mean     5529.210895       11.523756    5506.050798    1835.355961   \n",
              "std      7104.737952       13.261938    7175.625010    2391.870902   \n",
              "min        20.000000        1.000000       1.000000       0.000000   \n",
              "25%      1000.000000        2.000000    1000.000000     333.000000   \n",
              "50%      3000.000000        7.000000    3000.000000    1000.000000   \n",
              "75%      7350.000000       16.000000    7360.000000    2453.000000   \n",
              "max    470000.000000      131.000000  532177.000000  177392.000000   \n",
              "\n",
              "           FREQUENCE   DATA_VOLUME         ON_NET         ORANGE  \\\n",
              "count  714669.000000  5.472610e+05  683850.000000  629880.000000   \n",
              "mean       13.974439  3.368802e+03     277.065798      95.160804   \n",
              "std        14.687059  1.289893e+04     874.315378     203.020261   \n",
              "min         1.000000  0.000000e+00       0.000000       0.000000   \n",
              "25%         3.000000  0.000000e+00       5.000000       7.000000   \n",
              "50%         9.000000  2.580000e+02      27.000000      29.000000   \n",
              "75%        20.000000  2.905000e+03     156.000000      99.000000   \n",
              "max        91.000000  1.702309e+06   50809.000000   12040.000000   \n",
              "\n",
              "                TIGO         ZONE1         ZONE2    REGULARITY  FREQ_TOP_PACK  \\\n",
              "count  432250.000000  84898.000000  68794.000000  1.077024e+06  626129.000000   \n",
              "mean       23.105018      8.167483      7.709844  2.804450e+01       9.262446   \n",
              "std        64.035464     39.245883     36.090513  2.228861e+01      12.242316   \n",
              "min         0.000000      0.000000      0.000000  1.000000e+00       1.000000   \n",
              "25%         2.000000      0.000000      0.000000  6.000000e+00       2.000000   \n",
              "50%         6.000000      1.000000      2.000000  2.400000e+01       5.000000   \n",
              "75%        20.000000      3.000000      5.000000  5.100000e+01      12.000000   \n",
              "max      4174.000000   2507.000000   3697.000000  6.200000e+01     624.000000   \n",
              "\n",
              "              CHURN  \n",
              "count  1.077024e+06  \n",
              "mean   1.875474e-01  \n",
              "std    3.903505e-01  \n",
              "min    0.000000e+00  \n",
              "25%    0.000000e+00  \n",
              "50%    0.000000e+00  \n",
              "75%    0.000000e+00  \n",
              "max    1.000000e+00  "
            ],
            "text/html": [
              "\n",
              "  <div id=\"df-c3aafb83-43e1-45e1-9f74-c501b160aebe\">\n",
              "    <div class=\"colab-df-container\">\n",
              "      <div>\n",
              "<style scoped>\n",
              "    .dataframe tbody tr th:only-of-type {\n",
              "        vertical-align: middle;\n",
              "    }\n",
              "\n",
              "    .dataframe tbody tr th {\n",
              "        vertical-align: top;\n",
              "    }\n",
              "\n",
              "    .dataframe thead th {\n",
              "        text-align: right;\n",
              "    }\n",
              "</style>\n",
              "<table border=\"1\" class=\"dataframe\">\n",
              "  <thead>\n",
              "    <tr style=\"text-align: right;\">\n",
              "      <th></th>\n",
              "      <th>MONTANT</th>\n",
              "      <th>FREQUENCE_RECH</th>\n",
              "      <th>REVENUE</th>\n",
              "      <th>ARPU_SEGMENT</th>\n",
              "      <th>FREQUENCE</th>\n",
              "      <th>DATA_VOLUME</th>\n",
              "      <th>ON_NET</th>\n",
              "      <th>ORANGE</th>\n",
              "      <th>TIGO</th>\n",
              "      <th>ZONE1</th>\n",
              "      <th>ZONE2</th>\n",
              "      <th>REGULARITY</th>\n",
              "      <th>FREQ_TOP_PACK</th>\n",
              "      <th>CHURN</th>\n",
              "    </tr>\n",
              "  </thead>\n",
              "  <tbody>\n",
              "    <tr>\n",
              "      <th>count</th>\n",
              "      <td>699139.000000</td>\n",
              "      <td>699139.000000</td>\n",
              "      <td>714669.000000</td>\n",
              "      <td>714669.000000</td>\n",
              "      <td>714669.000000</td>\n",
              "      <td>5.472610e+05</td>\n",
              "      <td>683850.000000</td>\n",
              "      <td>629880.000000</td>\n",
              "      <td>432250.000000</td>\n",
              "      <td>84898.000000</td>\n",
              "      <td>68794.000000</td>\n",
              "      <td>1.077024e+06</td>\n",
              "      <td>626129.000000</td>\n",
              "      <td>1.077024e+06</td>\n",
              "    </tr>\n",
              "    <tr>\n",
              "      <th>mean</th>\n",
              "      <td>5529.210895</td>\n",
              "      <td>11.523756</td>\n",
              "      <td>5506.050798</td>\n",
              "      <td>1835.355961</td>\n",
              "      <td>13.974439</td>\n",
              "      <td>3.368802e+03</td>\n",
              "      <td>277.065798</td>\n",
              "      <td>95.160804</td>\n",
              "      <td>23.105018</td>\n",
              "      <td>8.167483</td>\n",
              "      <td>7.709844</td>\n",
              "      <td>2.804450e+01</td>\n",
              "      <td>9.262446</td>\n",
              "      <td>1.875474e-01</td>\n",
              "    </tr>\n",
              "    <tr>\n",
              "      <th>std</th>\n",
              "      <td>7104.737952</td>\n",
              "      <td>13.261938</td>\n",
              "      <td>7175.625010</td>\n",
              "      <td>2391.870902</td>\n",
              "      <td>14.687059</td>\n",
              "      <td>1.289893e+04</td>\n",
              "      <td>874.315378</td>\n",
              "      <td>203.020261</td>\n",
              "      <td>64.035464</td>\n",
              "      <td>39.245883</td>\n",
              "      <td>36.090513</td>\n",
              "      <td>2.228861e+01</td>\n",
              "      <td>12.242316</td>\n",
              "      <td>3.903505e-01</td>\n",
              "    </tr>\n",
              "    <tr>\n",
              "      <th>min</th>\n",
              "      <td>20.000000</td>\n",
              "      <td>1.000000</td>\n",
              "      <td>1.000000</td>\n",
              "      <td>0.000000</td>\n",
              "      <td>1.000000</td>\n",
              "      <td>0.000000e+00</td>\n",
              "      <td>0.000000</td>\n",
              "      <td>0.000000</td>\n",
              "      <td>0.000000</td>\n",
              "      <td>0.000000</td>\n",
              "      <td>0.000000</td>\n",
              "      <td>1.000000e+00</td>\n",
              "      <td>1.000000</td>\n",
              "      <td>0.000000e+00</td>\n",
              "    </tr>\n",
              "    <tr>\n",
              "      <th>25%</th>\n",
              "      <td>1000.000000</td>\n",
              "      <td>2.000000</td>\n",
              "      <td>1000.000000</td>\n",
              "      <td>333.000000</td>\n",
              "      <td>3.000000</td>\n",
              "      <td>0.000000e+00</td>\n",
              "      <td>5.000000</td>\n",
              "      <td>7.000000</td>\n",
              "      <td>2.000000</td>\n",
              "      <td>0.000000</td>\n",
              "      <td>0.000000</td>\n",
              "      <td>6.000000e+00</td>\n",
              "      <td>2.000000</td>\n",
              "      <td>0.000000e+00</td>\n",
              "    </tr>\n",
              "    <tr>\n",
              "      <th>50%</th>\n",
              "      <td>3000.000000</td>\n",
              "      <td>7.000000</td>\n",
              "      <td>3000.000000</td>\n",
              "      <td>1000.000000</td>\n",
              "      <td>9.000000</td>\n",
              "      <td>2.580000e+02</td>\n",
              "      <td>27.000000</td>\n",
              "      <td>29.000000</td>\n",
              "      <td>6.000000</td>\n",
              "      <td>1.000000</td>\n",
              "      <td>2.000000</td>\n",
              "      <td>2.400000e+01</td>\n",
              "      <td>5.000000</td>\n",
              "      <td>0.000000e+00</td>\n",
              "    </tr>\n",
              "    <tr>\n",
              "      <th>75%</th>\n",
              "      <td>7350.000000</td>\n",
              "      <td>16.000000</td>\n",
              "      <td>7360.000000</td>\n",
              "      <td>2453.000000</td>\n",
              "      <td>20.000000</td>\n",
              "      <td>2.905000e+03</td>\n",
              "      <td>156.000000</td>\n",
              "      <td>99.000000</td>\n",
              "      <td>20.000000</td>\n",
              "      <td>3.000000</td>\n",
              "      <td>5.000000</td>\n",
              "      <td>5.100000e+01</td>\n",
              "      <td>12.000000</td>\n",
              "      <td>0.000000e+00</td>\n",
              "    </tr>\n",
              "    <tr>\n",
              "      <th>max</th>\n",
              "      <td>470000.000000</td>\n",
              "      <td>131.000000</td>\n",
              "      <td>532177.000000</td>\n",
              "      <td>177392.000000</td>\n",
              "      <td>91.000000</td>\n",
              "      <td>1.702309e+06</td>\n",
              "      <td>50809.000000</td>\n",
              "      <td>12040.000000</td>\n",
              "      <td>4174.000000</td>\n",
              "      <td>2507.000000</td>\n",
              "      <td>3697.000000</td>\n",
              "      <td>6.200000e+01</td>\n",
              "      <td>624.000000</td>\n",
              "      <td>1.000000e+00</td>\n",
              "    </tr>\n",
              "  </tbody>\n",
              "</table>\n",
              "</div>\n",
              "      <button class=\"colab-df-convert\" onclick=\"convertToInteractive('df-c3aafb83-43e1-45e1-9f74-c501b160aebe')\"\n",
              "              title=\"Convert this dataframe to an interactive table.\"\n",
              "              style=\"display:none;\">\n",
              "        \n",
              "  <svg xmlns=\"http://www.w3.org/2000/svg\" height=\"24px\"viewBox=\"0 0 24 24\"\n",
              "       width=\"24px\">\n",
              "    <path d=\"M0 0h24v24H0V0z\" fill=\"none\"/>\n",
              "    <path d=\"M18.56 5.44l.94 2.06.94-2.06 2.06-.94-2.06-.94-.94-2.06-.94 2.06-2.06.94zm-11 1L8.5 8.5l.94-2.06 2.06-.94-2.06-.94L8.5 2.5l-.94 2.06-2.06.94zm10 10l.94 2.06.94-2.06 2.06-.94-2.06-.94-.94-2.06-.94 2.06-2.06.94z\"/><path d=\"M17.41 7.96l-1.37-1.37c-.4-.4-.92-.59-1.43-.59-.52 0-1.04.2-1.43.59L10.3 9.45l-7.72 7.72c-.78.78-.78 2.05 0 2.83L4 21.41c.39.39.9.59 1.41.59.51 0 1.02-.2 1.41-.59l7.78-7.78 2.81-2.81c.8-.78.8-2.07 0-2.86zM5.41 20L4 18.59l7.72-7.72 1.47 1.35L5.41 20z\"/>\n",
              "  </svg>\n",
              "      </button>\n",
              "      \n",
              "  <style>\n",
              "    .colab-df-container {\n",
              "      display:flex;\n",
              "      flex-wrap:wrap;\n",
              "      gap: 12px;\n",
              "    }\n",
              "\n",
              "    .colab-df-convert {\n",
              "      background-color: #E8F0FE;\n",
              "      border: none;\n",
              "      border-radius: 50%;\n",
              "      cursor: pointer;\n",
              "      display: none;\n",
              "      fill: #1967D2;\n",
              "      height: 32px;\n",
              "      padding: 0 0 0 0;\n",
              "      width: 32px;\n",
              "    }\n",
              "\n",
              "    .colab-df-convert:hover {\n",
              "      background-color: #E2EBFA;\n",
              "      box-shadow: 0px 1px 2px rgba(60, 64, 67, 0.3), 0px 1px 3px 1px rgba(60, 64, 67, 0.15);\n",
              "      fill: #174EA6;\n",
              "    }\n",
              "\n",
              "    [theme=dark] .colab-df-convert {\n",
              "      background-color: #3B4455;\n",
              "      fill: #D2E3FC;\n",
              "    }\n",
              "\n",
              "    [theme=dark] .colab-df-convert:hover {\n",
              "      background-color: #434B5C;\n",
              "      box-shadow: 0px 1px 3px 1px rgba(0, 0, 0, 0.15);\n",
              "      filter: drop-shadow(0px 1px 2px rgba(0, 0, 0, 0.3));\n",
              "      fill: #FFFFFF;\n",
              "    }\n",
              "  </style>\n",
              "\n",
              "      <script>\n",
              "        const buttonEl =\n",
              "          document.querySelector('#df-c3aafb83-43e1-45e1-9f74-c501b160aebe button.colab-df-convert');\n",
              "        buttonEl.style.display =\n",
              "          google.colab.kernel.accessAllowed ? 'block' : 'none';\n",
              "\n",
              "        async function convertToInteractive(key) {\n",
              "          const element = document.querySelector('#df-c3aafb83-43e1-45e1-9f74-c501b160aebe');\n",
              "          const dataTable =\n",
              "            await google.colab.kernel.invokeFunction('convertToInteractive',\n",
              "                                                     [key], {});\n",
              "          if (!dataTable) return;\n",
              "\n",
              "          const docLinkHtml = 'Like what you see? Visit the ' +\n",
              "            '<a target=\"_blank\" href=https://colab.research.google.com/notebooks/data_table.ipynb>data table notebook</a>'\n",
              "            + ' to learn more about interactive tables.';\n",
              "          element.innerHTML = '';\n",
              "          dataTable['output_type'] = 'display_data';\n",
              "          await google.colab.output.renderOutput(dataTable, element);\n",
              "          const docLink = document.createElement('div');\n",
              "          docLink.innerHTML = docLinkHtml;\n",
              "          element.appendChild(docLink);\n",
              "        }\n",
              "      </script>\n",
              "    </div>\n",
              "  </div>\n",
              "  "
            ]
          },
          "metadata": {}
        },
        {
          "output_type": "stream",
          "name": "stdout",
          "text": [
            "\n",
            " Data Shape: (1077024, 19)\n",
            "Data Columns Index(['user_id', 'REGION', 'TENURE', 'MONTANT', 'FREQUENCE_RECH', 'REVENUE',\n",
            "       'ARPU_SEGMENT', 'FREQUENCE', 'DATA_VOLUME', 'ON_NET', 'ORANGE', 'TIGO',\n",
            "       'ZONE1', 'ZONE2', 'MRG', 'REGULARITY', 'TOP_PACK', 'FREQ_TOP_PACK',\n",
            "       'CHURN'],\n",
            "      dtype='object')\n"
          ]
        }
      ],
      "source": [
        "print('Data Information Table')\n",
        "display(data.info(verbose = True,show_counts=True))\n",
        "print('Data Head Table')\n",
        "display(data.head())\n",
        "print('Data Describe Information Table')\n",
        "display(data.describe())\n",
        "print(f'\\n Data Shape: {data.shape}')\n",
        "print(f'Data Columns {data.columns}')"
      ]
    },
    {
      "cell_type": "code",
      "execution_count": 7,
      "metadata": {
        "id": "gt-K1bnzGdGQ"
      },
      "outputs": [],
      "source": [
        "missing = (round(((data.isnull().sum()/len(data.index))*100),2).to_frame('null')).sort_values('null', ascending=False)"
      ]
    },
    {
      "cell_type": "code",
      "execution_count": 8,
      "metadata": {
        "colab": {
          "base_uri": "https://localhost:8080/",
          "height": 645
        },
        "id": "irLth29jHPKj",
        "outputId": "dc1bad54-672b-42ed-a22d-fa627bc10a4a"
      },
      "outputs": [
        {
          "output_type": "execute_result",
          "data": {
            "text/plain": [
              "                 null\n",
              "ZONE2           93.61\n",
              "ZONE1           92.12\n",
              "TIGO            59.87\n",
              "DATA_VOLUME     49.19\n",
              "FREQ_TOP_PACK   41.86\n",
              "TOP_PACK        41.86\n",
              "ORANGE          41.52\n",
              "REGION          39.40\n",
              "ON_NET          36.51\n",
              "MONTANT         35.09\n",
              "FREQUENCE_RECH  35.09\n",
              "REVENUE         33.64\n",
              "ARPU_SEGMENT    33.64\n",
              "FREQUENCE       33.64\n",
              "REGULARITY       0.00\n",
              "user_id          0.00\n",
              "MRG              0.00\n",
              "TENURE           0.00\n",
              "CHURN            0.00"
            ],
            "text/html": [
              "\n",
              "  <div id=\"df-cca7c775-02c3-4c0c-bc1d-5ffde89fac67\">\n",
              "    <div class=\"colab-df-container\">\n",
              "      <div>\n",
              "<style scoped>\n",
              "    .dataframe tbody tr th:only-of-type {\n",
              "        vertical-align: middle;\n",
              "    }\n",
              "\n",
              "    .dataframe tbody tr th {\n",
              "        vertical-align: top;\n",
              "    }\n",
              "\n",
              "    .dataframe thead th {\n",
              "        text-align: right;\n",
              "    }\n",
              "</style>\n",
              "<table border=\"1\" class=\"dataframe\">\n",
              "  <thead>\n",
              "    <tr style=\"text-align: right;\">\n",
              "      <th></th>\n",
              "      <th>null</th>\n",
              "    </tr>\n",
              "  </thead>\n",
              "  <tbody>\n",
              "    <tr>\n",
              "      <th>ZONE2</th>\n",
              "      <td>93.61</td>\n",
              "    </tr>\n",
              "    <tr>\n",
              "      <th>ZONE1</th>\n",
              "      <td>92.12</td>\n",
              "    </tr>\n",
              "    <tr>\n",
              "      <th>TIGO</th>\n",
              "      <td>59.87</td>\n",
              "    </tr>\n",
              "    <tr>\n",
              "      <th>DATA_VOLUME</th>\n",
              "      <td>49.19</td>\n",
              "    </tr>\n",
              "    <tr>\n",
              "      <th>FREQ_TOP_PACK</th>\n",
              "      <td>41.86</td>\n",
              "    </tr>\n",
              "    <tr>\n",
              "      <th>TOP_PACK</th>\n",
              "      <td>41.86</td>\n",
              "    </tr>\n",
              "    <tr>\n",
              "      <th>ORANGE</th>\n",
              "      <td>41.52</td>\n",
              "    </tr>\n",
              "    <tr>\n",
              "      <th>REGION</th>\n",
              "      <td>39.40</td>\n",
              "    </tr>\n",
              "    <tr>\n",
              "      <th>ON_NET</th>\n",
              "      <td>36.51</td>\n",
              "    </tr>\n",
              "    <tr>\n",
              "      <th>MONTANT</th>\n",
              "      <td>35.09</td>\n",
              "    </tr>\n",
              "    <tr>\n",
              "      <th>FREQUENCE_RECH</th>\n",
              "      <td>35.09</td>\n",
              "    </tr>\n",
              "    <tr>\n",
              "      <th>REVENUE</th>\n",
              "      <td>33.64</td>\n",
              "    </tr>\n",
              "    <tr>\n",
              "      <th>ARPU_SEGMENT</th>\n",
              "      <td>33.64</td>\n",
              "    </tr>\n",
              "    <tr>\n",
              "      <th>FREQUENCE</th>\n",
              "      <td>33.64</td>\n",
              "    </tr>\n",
              "    <tr>\n",
              "      <th>REGULARITY</th>\n",
              "      <td>0.00</td>\n",
              "    </tr>\n",
              "    <tr>\n",
              "      <th>user_id</th>\n",
              "      <td>0.00</td>\n",
              "    </tr>\n",
              "    <tr>\n",
              "      <th>MRG</th>\n",
              "      <td>0.00</td>\n",
              "    </tr>\n",
              "    <tr>\n",
              "      <th>TENURE</th>\n",
              "      <td>0.00</td>\n",
              "    </tr>\n",
              "    <tr>\n",
              "      <th>CHURN</th>\n",
              "      <td>0.00</td>\n",
              "    </tr>\n",
              "  </tbody>\n",
              "</table>\n",
              "</div>\n",
              "      <button class=\"colab-df-convert\" onclick=\"convertToInteractive('df-cca7c775-02c3-4c0c-bc1d-5ffde89fac67')\"\n",
              "              title=\"Convert this dataframe to an interactive table.\"\n",
              "              style=\"display:none;\">\n",
              "        \n",
              "  <svg xmlns=\"http://www.w3.org/2000/svg\" height=\"24px\"viewBox=\"0 0 24 24\"\n",
              "       width=\"24px\">\n",
              "    <path d=\"M0 0h24v24H0V0z\" fill=\"none\"/>\n",
              "    <path d=\"M18.56 5.44l.94 2.06.94-2.06 2.06-.94-2.06-.94-.94-2.06-.94 2.06-2.06.94zm-11 1L8.5 8.5l.94-2.06 2.06-.94-2.06-.94L8.5 2.5l-.94 2.06-2.06.94zm10 10l.94 2.06.94-2.06 2.06-.94-2.06-.94-.94-2.06-.94 2.06-2.06.94z\"/><path d=\"M17.41 7.96l-1.37-1.37c-.4-.4-.92-.59-1.43-.59-.52 0-1.04.2-1.43.59L10.3 9.45l-7.72 7.72c-.78.78-.78 2.05 0 2.83L4 21.41c.39.39.9.59 1.41.59.51 0 1.02-.2 1.41-.59l7.78-7.78 2.81-2.81c.8-.78.8-2.07 0-2.86zM5.41 20L4 18.59l7.72-7.72 1.47 1.35L5.41 20z\"/>\n",
              "  </svg>\n",
              "      </button>\n",
              "      \n",
              "  <style>\n",
              "    .colab-df-container {\n",
              "      display:flex;\n",
              "      flex-wrap:wrap;\n",
              "      gap: 12px;\n",
              "    }\n",
              "\n",
              "    .colab-df-convert {\n",
              "      background-color: #E8F0FE;\n",
              "      border: none;\n",
              "      border-radius: 50%;\n",
              "      cursor: pointer;\n",
              "      display: none;\n",
              "      fill: #1967D2;\n",
              "      height: 32px;\n",
              "      padding: 0 0 0 0;\n",
              "      width: 32px;\n",
              "    }\n",
              "\n",
              "    .colab-df-convert:hover {\n",
              "      background-color: #E2EBFA;\n",
              "      box-shadow: 0px 1px 2px rgba(60, 64, 67, 0.3), 0px 1px 3px 1px rgba(60, 64, 67, 0.15);\n",
              "      fill: #174EA6;\n",
              "    }\n",
              "\n",
              "    [theme=dark] .colab-df-convert {\n",
              "      background-color: #3B4455;\n",
              "      fill: #D2E3FC;\n",
              "    }\n",
              "\n",
              "    [theme=dark] .colab-df-convert:hover {\n",
              "      background-color: #434B5C;\n",
              "      box-shadow: 0px 1px 3px 1px rgba(0, 0, 0, 0.15);\n",
              "      filter: drop-shadow(0px 1px 2px rgba(0, 0, 0, 0.3));\n",
              "      fill: #FFFFFF;\n",
              "    }\n",
              "  </style>\n",
              "\n",
              "      <script>\n",
              "        const buttonEl =\n",
              "          document.querySelector('#df-cca7c775-02c3-4c0c-bc1d-5ffde89fac67 button.colab-df-convert');\n",
              "        buttonEl.style.display =\n",
              "          google.colab.kernel.accessAllowed ? 'block' : 'none';\n",
              "\n",
              "        async function convertToInteractive(key) {\n",
              "          const element = document.querySelector('#df-cca7c775-02c3-4c0c-bc1d-5ffde89fac67');\n",
              "          const dataTable =\n",
              "            await google.colab.kernel.invokeFunction('convertToInteractive',\n",
              "                                                     [key], {});\n",
              "          if (!dataTable) return;\n",
              "\n",
              "          const docLinkHtml = 'Like what you see? Visit the ' +\n",
              "            '<a target=\"_blank\" href=https://colab.research.google.com/notebooks/data_table.ipynb>data table notebook</a>'\n",
              "            + ' to learn more about interactive tables.';\n",
              "          element.innerHTML = '';\n",
              "          dataTable['output_type'] = 'display_data';\n",
              "          await google.colab.output.renderOutput(dataTable, element);\n",
              "          const docLink = document.createElement('div');\n",
              "          docLink.innerHTML = docLinkHtml;\n",
              "          element.appendChild(docLink);\n",
              "        }\n",
              "      </script>\n",
              "    </div>\n",
              "  </div>\n",
              "  "
            ]
          },
          "metadata": {},
          "execution_count": 8
        }
      ],
      "source": [
        "missing"
      ]
    },
    {
      "cell_type": "markdown",
      "metadata": {
        "id": "a2MgrTOUvVTH"
      },
      "source": [
        "**Unique Values**"
      ]
    },
    {
      "cell_type": "code",
      "execution_count": 9,
      "metadata": {
        "colab": {
          "base_uri": "https://localhost:8080/"
        },
        "id": "AGafFxc8vYeA",
        "outputId": "b4bcf75e-49a2-489f-9c16-d268c09aff2b"
      },
      "outputs": [
        {
          "output_type": "stream",
          "name": "stdout",
          "text": [
            "Number of unique data for user_id is 1077024\n",
            "unique data for user_id is ['7ee9e11e342e27c70455960acc80d3f91c1286d1'\n",
            " '50443f42bdc92b10388fc56e520e4421a5fa655c'\n",
            " 'da90b5c1a9b204c186079f89969aa01cb03c91b2' ...\n",
            " 'd6831b8edacb7d9928b3f053fb1283574577ae42'\n",
            " 'cb1f6510b084173c0deae49095f35ac29f916701'\n",
            " '28f56fd0d9f8d8647bb6c62e7a3f4f35f49f4d6f']\n",
            "=====================================\n",
            "Number of unique data for REGION is 15\n",
            "unique data for REGION is ['DAKAR' nan 'SAINT-LOUIS' 'THIES' 'LOUGA' 'MATAM' 'FATICK' 'KAOLACK'\n",
            " 'DIOURBEL' 'TAMBACOUNDA' 'ZIGUINCHOR' 'KOLDA' 'KAFFRINE' 'SEDHIOU'\n",
            " 'KEDOUGOU']\n",
            "=====================================\n",
            "Number of unique data for TENURE is 8\n",
            "unique data for TENURE is ['K > 24 month' 'E 6-9 month' 'H 15-18 month' 'G 12-15 month'\n",
            " 'I 18-21 month' 'J 21-24 month' 'F 9-12 month' 'D 3-6 month']\n",
            "=====================================\n",
            "Number of unique data for MONTANT is 4358\n",
            "unique data for MONTANT is [20000.    nan  7900. ... 35475.  6216.  8949.]\n",
            "=====================================\n",
            "Number of unique data for FREQUENCE_RECH is 120\n",
            "unique data for FREQUENCE_RECH is [ 47.  nan  19.  21.   2.   1.  13.   3.   5.  14.   7.  20.  15.   4.\n",
            "  16.  11.   8.  23.  18.  17.  12.  27.  50.  40.   9.   6.  32.  39.\n",
            "  33.  38.  48.  60.  26.  49.  10.  44.  22.  30.  28.  46.  52.  25.\n",
            "  45.  24.  36.  62.  37.  58.  29.  69.  51.  31.  64.  35.  56.  85.\n",
            "  73.  53.  55.  34.  57.  43.  72.  70.  65.  68.  61.  75.  41.  42.\n",
            "  54.  76.  80.  71.  83.  82.  81.  59.  74.  67.  63.  66.  93.  78.\n",
            "  77.  84.  79.  87.  88.  92.  94. 110.  86.  95.  98.  89.  96. 101.\n",
            " 100. 114.  91. 104.  90. 103.  97. 106. 109.  99. 117. 113. 112. 121.\n",
            " 115. 108. 111. 119. 118. 102. 105. 131.]\n",
            "=====================================\n",
            "Number of unique data for REVENUE is 31811\n",
            "unique data for REVENUE is [21602.    nan  7896. ... 37609. 21676. 26489.]\n",
            "=====================================\n",
            "Number of unique data for ARPU_SEGMENT is 14063\n",
            "unique data for ARPU_SEGMENT is [ 7201.    nan  2632. ... 12064. 13153.  8426.]\n",
            "=====================================\n",
            "Number of unique data for FREQUENCE is 92\n",
            "unique data for FREQUENCE is [52. nan 25. 29.  3.  1. 14. 46. 13.  7. 21. 81.  5.  4.  2. 10. 18. 12.\n",
            "  6. 23. 28. 22.  9. 39. 51. 44. 40. 19. 43. 17. 49. 26. 83.  8. 16. 11.\n",
            " 66. 41. 20. 30. 15. 55. 82. 24. 32. 48. 36. 38. 35. 54. 27. 31. 37. 33.\n",
            " 59. 58. 34. 74. 53. 67. 47. 64. 50. 87. 73. 61. 45. 62. 42. 77. 76. 69.\n",
            " 78. 60. 63. 89. 71. 56. 65. 70. 68. 90. 57. 85. 79. 72. 75. 88. 84. 80.\n",
            " 86. 91.]\n",
            "=====================================\n",
            "Number of unique data for DATA_VOLUME is 32460\n",
            "unique data for DATA_VOLUME is [ 8835.    nan  9385. ... 80216. 33402. 42695.]\n",
            "=====================================\n",
            "Number of unique data for ON_NET is 8203\n",
            "unique data for ON_NET is [3391.   nan   27. ... 6897. 5332. 6794.]\n",
            "=====================================\n",
            "Number of unique data for ORANGE is 2675\n",
            "unique data for ORANGE is [ 396.   nan   46. ... 3250. 3505. 2635.]\n",
            "=====================================\n",
            "Number of unique data for TIGO is 1106\n",
            "unique data for TIGO is [ 185.   nan   20. ... 1009.  703. 1014.]\n",
            "=====================================\n",
            "Number of unique data for ZONE1 is 483\n",
            "unique data for ZONE1 is [      nan 0.000e+00 3.000e+00 8.000e+00 1.000e+00 4.500e+01 2.000e+00\n",
            " 2.100e+01 2.600e+01 6.600e+01 5.000e+00 1.400e+01 6.000e+00 1.410e+02\n",
            " 7.000e+00 8.400e+01 2.200e+01 2.700e+01 4.000e+00 1.600e+01 3.900e+01\n",
            " 1.300e+01 1.500e+01 7.100e+01 5.600e+01 1.100e+01 9.000e+00 2.300e+01\n",
            " 4.870e+02 6.500e+01 2.000e+01 4.100e+01 2.500e+01 1.000e+01 5.300e+01\n",
            " 3.700e+01 7.000e+01 1.200e+01 3.160e+02 5.100e+01 1.050e+02 4.900e+01\n",
            " 1.060e+02 9.600e+01 1.690e+02 7.670e+02 3.100e+01 2.950e+02 1.160e+02\n",
            " 1.800e+01 1.700e+01 1.170e+02 2.800e+01 5.690e+02 1.090e+02 3.200e+01\n",
            " 7.500e+01 3.600e+01 6.000e+01 8.000e+01 1.020e+02 3.000e+01 6.700e+01\n",
            " 3.300e+01 3.000e+02 5.900e+01 1.220e+02 5.700e+01 4.240e+02 1.260e+02\n",
            " 4.300e+01 8.200e+01 8.500e+01 6.200e+01 1.630e+02 5.400e+01 1.310e+02\n",
            " 1.010e+02 1.900e+01 3.800e+01 2.280e+02 1.880e+02 5.000e+01 2.830e+02\n",
            " 7.900e+01 7.800e+01 9.200e+01 4.600e+01 4.800e+01 7.600e+01 2.400e+01\n",
            " 3.500e+01 6.400e+01 2.980e+02 1.540e+02 4.000e+01 6.800e+01 1.200e+02\n",
            " 1.390e+02 1.240e+02 2.900e+01 4.400e+01 3.400e+01 5.500e+01 1.790e+02\n",
            " 8.600e+01 8.100e+01 1.330e+02 7.400e+01 4.200e+01 9.100e+01 3.120e+02\n",
            " 7.700e+01 1.660e+02 2.790e+02 1.070e+02 6.900e+01 5.800e+01 1.130e+02\n",
            " 1.230e+02 6.300e+01 2.410e+02 2.880e+02 6.340e+02 5.200e+01 1.760e+02\n",
            " 7.300e+01 1.280e+02 6.690e+02 1.180e+02 3.720e+02 1.040e+02 1.210e+02\n",
            " 1.590e+02 1.000e+02 2.190e+02 1.990e+02 1.730e+02 3.740e+02 1.360e+02\n",
            " 8.800e+01 5.200e+02 9.300e+01 1.710e+02 1.320e+02 2.460e+02 9.400e+01\n",
            " 2.250e+02 7.200e+01 8.700e+01 3.230e+02 2.160e+02 5.030e+02 1.140e+02\n",
            " 3.030e+02 4.700e+01 2.070e+02 6.110e+02 1.480e+02 2.500e+02 4.130e+02\n",
            " 3.100e+02 3.910e+02 4.060e+02 1.530e+02 2.630e+02 2.520e+02 9.500e+01\n",
            " 1.700e+02 1.490e+02 1.290e+02 4.020e+02 3.770e+02 1.030e+02 3.260e+02\n",
            " 2.740e+02 3.700e+02 3.760e+02 7.390e+02 1.830e+02 1.150e+02 5.110e+02\n",
            " 2.360e+02 4.160e+02 1.810e+02 9.800e+01 1.860e+02 6.640e+02 3.350e+02\n",
            " 3.670e+02 3.240e+02 2.270e+02 9.700e+01 2.210e+02 4.210e+02 1.750e+02\n",
            " 2.850e+02 2.430e+02 2.050e+02 6.100e+01 1.930e+02 4.010e+02 2.130e+02\n",
            " 4.360e+02 1.610e+02 1.340e+02 2.220e+02 4.150e+02 2.180e+02 2.340e+02\n",
            " 1.970e+02 6.430e+02 3.620e+02 1.300e+02 7.160e+02 1.720e+02 7.500e+02\n",
            " 2.040e+02 1.870e+02 2.140e+02 9.000e+01 4.550e+02 2.640e+02 1.650e+02\n",
            " 1.960e+02 3.080e+02 7.310e+02 1.350e+02 8.300e+01 3.820e+02 2.700e+02\n",
            " 2.310e+02 1.250e+02 5.390e+02 4.940e+02 1.080e+02 1.460e+02 1.550e+02\n",
            " 2.590e+02 1.380e+02 4.100e+02 2.440e+02 4.570e+02 1.450e+02 2.230e+02\n",
            " 1.120e+02 1.980e+02 3.020e+02 2.670e+02 2.240e+02 2.800e+02 1.110e+02\n",
            " 1.430e+02 1.600e+02 4.640e+02 2.060e+02 1.400e+02 2.710e+02 3.380e+02\n",
            " 8.900e+01 3.420e+02 1.440e+02 3.970e+02 2.200e+02 1.890e+02 2.900e+02\n",
            " 6.460e+02 1.800e+02 1.500e+02 2.890e+02 2.530e+02 3.180e+02 1.740e+02\n",
            " 4.220e+02 1.820e+02 2.600e+02 1.840e+02 1.270e+02 2.170e+02 5.000e+02\n",
            " 5.830e+02 3.710e+02 2.260e+02 1.850e+02 8.210e+02 3.140e+02 2.020e+02\n",
            " 1.680e+02 6.300e+02 1.804e+03 3.370e+02 3.870e+02 1.670e+02 2.510e+02\n",
            " 6.130e+02 5.720e+02 2.100e+02 2.540e+02 3.590e+02 1.370e+02 2.030e+02\n",
            " 1.420e+02 9.900e+01 2.610e+02 1.470e+02 6.670e+02 4.580e+02 1.175e+03\n",
            " 5.860e+02 2.120e+02 2.970e+02 6.910e+02 2.150e+02 1.190e+02 1.580e+02\n",
            " 2.350e+02 1.620e+02 7.690e+02 3.660e+02 2.910e+02 3.680e+02 4.440e+02\n",
            " 1.920e+02 4.170e+02 7.230e+02 3.800e+02 5.120e+02 1.640e+02 4.260e+02\n",
            " 3.210e+02 3.250e+02 3.390e+02 3.580e+02 3.170e+02 5.310e+02 5.540e+02\n",
            " 1.510e+02 1.059e+03 2.960e+02 6.090e+02 3.280e+02 3.550e+02 3.040e+02\n",
            " 3.050e+02 1.780e+02 1.100e+02 1.684e+03 3.270e+02 5.460e+02 3.070e+02\n",
            " 2.550e+02 3.560e+02 1.730e+03 1.900e+02 2.690e+02 2.860e+02 6.310e+02\n",
            " 3.940e+02 4.450e+02 5.320e+02 7.070e+02 5.240e+02 1.950e+02 7.130e+02\n",
            " 4.040e+02 5.300e+02 3.340e+02 5.220e+02 3.320e+02 6.610e+02 2.000e+02\n",
            " 1.070e+03 2.820e+02 4.530e+02 3.300e+02 6.380e+02 3.400e+02 1.910e+02\n",
            " 2.650e+02 2.750e+02 4.250e+02 1.770e+02 9.630e+02 8.230e+02 8.200e+02\n",
            " 5.800e+02 2.330e+02 4.500e+02 2.090e+02 6.770e+02 2.110e+02 4.660e+02\n",
            " 4.630e+02 3.610e+02 5.920e+02 6.570e+02 2.720e+02 9.720e+02 7.630e+02\n",
            " 1.560e+02 2.290e+02 4.890e+02 4.690e+02 1.570e+02 2.810e+02 6.930e+02\n",
            " 4.110e+02 1.395e+03 1.520e+02 3.950e+02 2.080e+02 2.010e+02 3.090e+02\n",
            " 7.110e+02 2.300e+02 2.490e+02 2.480e+02 2.770e+02 1.018e+03 4.730e+02\n",
            " 1.000e+03 2.620e+02 2.400e+02 8.830e+02 5.440e+02 3.900e+02 3.220e+02\n",
            " 4.460e+02 1.323e+03 5.740e+02 3.840e+02 3.540e+02 4.140e+02 5.940e+02\n",
            " 2.470e+02 1.986e+03 1.204e+03 2.320e+02 8.130e+02 4.080e+02 2.370e+02\n",
            " 3.190e+02 8.550e+02 3.780e+02 3.410e+02 3.650e+02 2.940e+02 2.420e+02\n",
            " 6.020e+02 6.140e+02 9.230e+02 4.880e+02 3.520e+02 7.440e+02 3.510e+02\n",
            " 6.730e+02 9.400e+02 3.060e+02 4.610e+02 3.200e+02 2.390e+02 1.427e+03\n",
            " 5.070e+02 6.250e+02 5.330e+02 3.440e+02 3.830e+02 2.380e+02 1.040e+03\n",
            " 3.880e+02 4.710e+02 2.920e+02 5.520e+02 2.507e+03 2.560e+02 1.366e+03\n",
            " 3.480e+02 6.270e+02 2.580e+02 3.110e+02 4.180e+02 4.830e+02 4.410e+02]\n",
            "=====================================\n",
            "Number of unique data for ZONE2 is 395\n",
            "unique data for ZONE2 is [      nan 2.000e+00 0.000e+00 9.000e+00 8.000e+00 5.000e+00 1.000e+00\n",
            " 4.000e+00 1.800e+01 3.000e+00 1.500e+01 7.000e+00 1.200e+01 3.400e+01\n",
            " 6.000e+00 1.600e+01 1.000e+01 6.300e+01 2.000e+01 1.400e+01 2.300e+01\n",
            " 2.900e+01 1.700e+01 2.400e+01 6.000e+01 2.200e+01 1.900e+01 2.600e+01\n",
            " 1.300e+01 4.400e+01 1.100e+01 3.700e+01 2.500e+01 3.200e+01 3.100e+01\n",
            " 3.000e+01 8.300e+01 6.700e+01 6.600e+01 4.840e+02 1.740e+02 1.230e+02\n",
            " 5.500e+01 6.900e+01 3.420e+02 3.460e+02 5.900e+01 3.500e+01 2.700e+01\n",
            " 1.060e+02 1.590e+02 4.200e+01 4.000e+01 5.010e+02 4.600e+01 2.100e+01\n",
            " 4.100e+01 3.600e+01 9.500e+01 5.800e+01 3.300e+01 3.410e+02 6.800e+01\n",
            " 3.800e+01 1.630e+02 8.100e+01 4.080e+02 1.960e+02 1.220e+02 5.200e+01\n",
            " 9.300e+01 8.400e+01 7.000e+01 4.300e+01 1.140e+02 1.990e+02 3.860e+02\n",
            " 3.697e+03 7.100e+01 1.090e+02 6.100e+01 3.900e+01 7.400e+01 1.020e+02\n",
            " 2.080e+02 9.600e+01 1.310e+02 1.320e+02 1.420e+02 4.700e+01 2.800e+01\n",
            " 1.980e+02 6.400e+01 6.410e+02 9.400e+01 1.120e+02 4.500e+01 5.600e+01\n",
            " 4.800e+01 6.500e+01 9.200e+01 5.100e+01 7.500e+01 4.400e+02 1.390e+02\n",
            " 8.000e+01 1.130e+02 9.800e+01 6.200e+01 5.260e+02 5.300e+01 5.410e+02\n",
            " 1.410e+02 8.800e+01 3.290e+02 1.680e+02 5.000e+01 2.008e+03 2.350e+02\n",
            " 3.130e+02 1.050e+02 4.900e+01 1.770e+02 5.700e+01 1.720e+02 1.010e+02\n",
            " 1.750e+02 2.570e+02 1.150e+02 1.510e+02 8.900e+01 1.210e+02 3.120e+02\n",
            " 2.920e+02 2.470e+02 7.600e+01 3.160e+02 1.350e+02 1.190e+02 9.000e+01\n",
            " 1.700e+02 7.300e+01 2.100e+02 7.200e+01 2.690e+02 9.100e+01 2.750e+02\n",
            " 7.700e+01 1.000e+02 9.900e+01 1.370e+02 1.250e+02 1.180e+02 1.170e+02\n",
            " 2.060e+02 7.900e+01 1.160e+02 2.070e+02 1.280e+02 1.530e+02 5.400e+01\n",
            " 1.460e+02 3.680e+02 1.260e+02 3.910e+02 3.620e+02 2.870e+02 2.580e+02\n",
            " 1.970e+02 7.800e+01 1.360e+02 8.700e+01 2.540e+02 1.730e+02 2.010e+02\n",
            " 7.580e+02 7.920e+02 2.400e+02 2.710e+02 1.110e+02 4.630e+02 3.000e+02\n",
            " 3.350e+02 4.060e+02 3.650e+02 5.880e+02 1.900e+02 8.200e+01 8.500e+01\n",
            " 4.240e+02 2.930e+02 2.830e+02 3.940e+02 1.200e+02 1.330e+02 1.400e+02\n",
            " 8.600e+01 2.000e+02 1.910e+02 1.080e+02 1.860e+02 1.950e+02 1.670e+02\n",
            " 1.920e+02 1.780e+02 3.360e+02 1.040e+02 1.580e+02 2.780e+02 4.500e+02\n",
            " 2.330e+02 2.310e+02 9.700e+01 1.690e+02 1.340e+02 1.440e+02 5.120e+02\n",
            " 2.490e+02 1.560e+02 2.290e+02 3.660e+02 4.070e+02 1.430e+02 1.290e+02\n",
            " 1.600e+02 1.030e+02 2.460e+02 2.520e+02 1.100e+02 3.520e+02 2.680e+02\n",
            " 3.170e+02 3.490e+02 2.420e+02 7.380e+02 5.500e+02 1.830e+02 1.380e+02\n",
            " 2.590e+02 2.620e+02 2.380e+02 1.520e+02 1.480e+02 3.700e+02 2.250e+02\n",
            " 3.600e+02 3.280e+02 2.880e+02 2.320e+02 2.200e+02 2.210e+02 1.240e+02\n",
            " 3.220e+02 7.530e+02 3.510e+02 1.500e+02 2.810e+02 2.560e+02 2.790e+02\n",
            " 3.850e+02 5.670e+02 5.030e+02 3.100e+02 4.510e+02 3.920e+02 4.180e+02\n",
            " 4.270e+02 4.310e+02 1.930e+02 4.010e+02 1.640e+02 5.160e+02 6.610e+02\n",
            " 2.140e+02 2.550e+02 1.800e+02 1.810e+02 3.740e+02 2.660e+02 3.750e+02\n",
            " 1.880e+02 2.890e+02 2.760e+02 1.620e+02 2.150e+02 1.300e+02 4.800e+02\n",
            " 2.020e+02 2.360e+02 4.230e+02 1.790e+02 6.980e+02 3.470e+02 1.570e+02\n",
            " 1.940e+02 1.070e+02 5.910e+02 3.330e+02 5.600e+02 1.550e+02 1.450e+02\n",
            " 2.130e+02 3.960e+02 2.270e+02 1.490e+02 2.670e+02 1.270e+02 2.430e+02\n",
            " 6.870e+02 1.660e+02 6.570e+02 3.140e+02 3.450e+02 3.320e+02 2.820e+02\n",
            " 3.710e+02 3.040e+02 5.340e+02 9.320e+02 1.650e+02 4.700e+02 4.710e+02\n",
            " 4.030e+02 1.011e+03 1.870e+02 7.140e+02 3.830e+02 2.340e+02 3.230e+02\n",
            " 3.240e+02 6.850e+02 3.050e+02 3.260e+02 1.840e+02 3.840e+02 7.490e+02\n",
            " 6.220e+02 1.321e+03 4.690e+02 3.210e+02 1.850e+02 2.510e+02 4.110e+02\n",
            " 2.860e+02 2.040e+02 2.610e+02 2.850e+02 3.980e+02 2.900e+02 3.430e+02\n",
            " 3.550e+02 1.167e+03 3.020e+02 1.710e+02 5.750e+02 3.990e+02 2.170e+02\n",
            " 1.760e+02 2.230e+02 1.324e+03 3.580e+02 2.090e+02 6.390e+02 2.410e+02\n",
            " 5.990e+02 2.910e+02 4.550e+02 5.460e+02 2.160e+02 6.080e+02 8.040e+02\n",
            " 2.450e+02 3.880e+02 1.470e+02 3.890e+02 9.040e+02 6.520e+02 5.980e+02\n",
            " 5.650e+02 5.110e+02 2.940e+02 2.960e+02 3.670e+02 2.240e+02 2.530e+02\n",
            " 2.390e+02 2.650e+02 4.850e+02 5.850e+02 6.880e+02 1.346e+03 3.530e+02\n",
            " 3.143e+03 9.780e+02 5.430e+02]\n",
            "=====================================\n",
            "Number of unique data for MRG is 1\n",
            "unique data for MRG is ['NO']\n",
            "=====================================\n",
            "Number of unique data for REGULARITY is 62\n",
            "unique data for REGULARITY is [62  3  1 61 56  6 10  2 16 43  8 18 12 24 54 29 14 40 23 52 60 34 13 46\n",
            " 47 31  9 58 38 36 19  5 39 55 27  4 32 26 17 48 22 53 59 20 44  7 41 49\n",
            " 33 42 28 30 15 57 21 11 45 50 25 37 51 35]\n",
            "=====================================\n",
            "Number of unique data for TOP_PACK is 127\n",
            "unique data for TOP_PACK is ['On net 200F=Unlimited _call24H' nan 'Data:490F=1GB,7d'\n",
            " 'All-net 500F=2000F;5d' 'On-net 500=4000,10d' 'Data:3000F=10GB,30d'\n",
            " 'Data:200F=Unlimited,24H' 'IVR Echat_Daily_50F' 'Data:1000F=2GB,30d'\n",
            " 'Mixt 250F=Unlimited_call24H' 'On-net 1000F=10MilF;10d'\n",
            " 'MIXT:500F= 2500F on net _2500F off net;2d' 'Data: 200 F=100MB,24H'\n",
            " 'All-net 600F= 3000F ;5d' 'On-net 200F=60mn;1d' 'Twter_U2opia_Daily'\n",
            " 'Data: 100 F=40MB,24H' 'All-net 500F =2000F_AllNet_Unlimited'\n",
            " 'On net 200F= 3000F_10Mo ;24H' '200=Unlimited1Day' 'Jokko_Daily'\n",
            " 'Data:1000F=5GB,7d' 'Data:700F=1.5GB,7d' 'All-net 1000=5000;5d'\n",
            " 'Data:150F=SPPackage1,24H' 'IVR Echat_Monthly_500F'\n",
            " 'VAS(IVR_Radio_Daily)' 'MIXT: 390F=04HOn-net_400SMS_400 Mo;4h\\t'\n",
            " 'MIXT: 200mnoff net _unl on net _5Go;30d' 'On-net 500F_FNF;3d'\n",
            " 'MIXT: 590F=02H_On-net_200SMS_200 Mo;24h\\t\\t' 'Data:1500F=3GB,30D'\n",
            " 'Data:300F=100MB,2d' 'Data:500F=2GB,24H' 'Data: 490F=Night,00H-08H'\n",
            " 'All-net 1000F=(3000F On+3000F Off);5d' 'New_YAKALMA_4_ALL'\n",
            " 'MIXT:10000F=10hAllnet_3Go_1h_Zone3;30d\\t\\t' 'Yewouleen_PKG'\n",
            " 'Data:1500F=SPPackage1,30d' 'WIFI_Family_2MBPS'\n",
            " 'All-net 500F=1250F_AllNet_1250_Onnet;48h' 'On-net 300F=1800F;3d'\n",
            " 'Twter_U2opia_Weekly' 'Data:50F=30MB_24H'\n",
            " 'MIXT:1000F=4250 Off net _ 4250F On net _100Mo; 5d' 'WIFI_ Family _4MBPS'\n",
            " 'Data:700F=SPPackage1,7d' 'Jokko_promo' 'CVM_on-net bundle 500=5000'\n",
            " 'Pilot_Youth4_490' 'All-net 300=600;2d' 'Twter_U2opia_Monthly'\n",
            " 'IVR Echat_Weekly_200F' 'TelmunCRBT_daily' 'MROMO_TIMWES_RENEW'\n",
            " 'MIXT: 500F=75(SMS, ONNET, Mo)_1000FAllNet;24h\\t\\t' 'Pilot_Youth1_290'\n",
            " 'On-net 2000f_One_Month_100H; 30d' 'Data:DailyCycle_Pilot_1.5GB'\n",
            " 'Jokko_Monthly' 'Facebook_MIX_2D' 'CVM_200f=400MB'\n",
            " 'YMGX 100=1 hour FNF, 24H/1 month' 'Jokko_Weekly'\n",
            " 'Internat: 1000F_Zone_1;24H\\t\\t' 'Data:30Go_V 30_Days' 'SUPERMAGIK_5000'\n",
            " 'FNF2 ( JAPPANTE)' '200F=10mnOnNetValid1H'\n",
            " 'MIXT: 5000F=80Konnet_20Koffnet_250Mo;30d\\t\\t' 'pilot_offer6'\n",
            " '500=Unlimited3Day' 'VAS(IVR_Radio_Monthly)' 'MROMO_TIMWES_OneDAY'\n",
            " 'Mixt : 500F=2500Fonnet_2500Foffnet ;5d' 'Internat: 1000F_Zone_3;24h\\t\\t'\n",
            " 'All-net 5000= 20000off+20000on;30d' 'EVC_500=2000F' 'Data: 200F=1GB,24H'\n",
            " 'Staff_CPE_Rent' 'SUPERMAGIK_1000' 'All-net 500F=4000F ; 5d' '305155009'\n",
            " 'DataPack_Incoming' 'Incoming_Bonus_woma' 'FIFA_TS_daily'\n",
            " 'VAS(IVR_Radio_Weekly)' '1000=Unlimited7Day'\n",
            " 'Internat: 2000F_Zone_2;24H\\t\\t' 'FNF_Youth_ESN' 'WIFI_ Family _10MBPS'\n",
            " 'Data_EVC_2Go24H' 'MIXT: 4900F= 10H on net_1,5Go ;30d' 'EVC_Jokko_Weekly'\n",
            " 'EVC_JOKKO30' 'Data_Mifi_20Go' 'Data_Mifi_10Go_Monthly'\n",
            " 'CVM_150F_unlimited' 'CVM_100F_unlimited' 'CVM_100f=200 MB'\n",
            " 'FIFA_TS_weekly' '150=unlimited pilot auto' 'CVM_100f=500 onNet'\n",
            " 'GPRS_3000Equal10GPORTAL' 'EVC_100Mo' 'GPRS_PKG_5GO_ILLIMITE'\n",
            " 'NEW_CLIR_PERMANENT_LIBERTE_MOBILE' 'EVC_1Go' 'pilot_offer4'\n",
            " 'CVM_500f=2GB' 'pack_chinguitel_24h' 'Postpaid FORFAIT 10H Package'\n",
            " 'EVC_700Mo' 'CVM_On-net 400f=2200F' 'CVM_On-net 1300f=12500'\n",
            " 'All-net 500= 4000off+4000on;24H' 'SMS Max' 'EVC_4900=12000F'\n",
            " 'APANews_weekly' 'NEW_CLIR_TEMPALLOWED_LIBERTE_MOBILE'\n",
            " 'Data:OneTime_Pilot_1.5GB' 'YMGX on-net 100=700F, 24H' '301765007'\n",
            " '1500=Unlimited7Day' 'APANews_monthly' '200=unlimited pilot auto']\n",
            "=====================================\n",
            "Number of unique data for FREQ_TOP_PACK is 207\n",
            "unique data for FREQ_TOP_PACK is [ 30.  nan   7.  11.   1.  12.   3.   9.  79.   2.  13.   8.   6.  26.\n",
            "   4.   5.  21.  10.  18.  19.  49.  20.  16.  40.  23.  36.  42. 122.\n",
            "  24.  46.  27.  17.  14.  31.  53.  15.  58.  28.  65.  22.  60.  25.\n",
            "  80.  51.  29.  41.  39.  54.  47.  48.  71.  52.  45.  44.  38.  32.\n",
            "  66.  33.  78.  59.  37.  64.  34.  57.  87.  35.  50.  61.  90.  81.\n",
            "  76.  84.  67.  56.  43. 100.  69.  70.  89.  88.  82. 106.  55.  62.\n",
            "  63.  74.  75. 130.  72.  95.  68. 127. 102. 109.  83.  77. 190.  99.\n",
            "  73. 225.  91.  92. 110.  85. 258. 103. 101.  97.  86. 114. 104. 105.\n",
            "  94.  93.  98. 108. 126. 200.  96. 129. 134. 124. 125. 113. 148. 159.\n",
            " 138. 180. 117. 161. 144. 119. 107. 151. 118. 178. 592. 154. 115. 112.\n",
            " 170. 139. 128. 320. 120. 340. 152. 142. 133. 116. 168. 166. 132. 163.\n",
            " 173. 111. 121. 624. 169. 261. 137. 244. 183. 145. 143. 136. 177. 123.\n",
            " 195. 135. 407. 131. 141. 350. 147. 189. 198. 146. 193. 227. 172. 174.\n",
            " 433. 413. 239. 274. 243. 188. 171. 164. 237. 511. 203. 165. 235. 316.\n",
            " 201. 150. 158. 206. 262. 254. 149. 217. 253. 155. 212.]\n",
            "=====================================\n",
            "Number of unique data for CHURN is 2\n",
            "unique data for CHURN is [0 1]\n",
            "=====================================\n"
          ]
        }
      ],
      "source": [
        "for column in data.columns : \n",
        "    print('Number of unique data for {0} is {1}'.format(column , len(data[column].unique())))\n",
        "    print('unique data for {0} is {1}'.format(column , data[column].unique()))\n",
        "    print('=====================================')"
      ]
    },
    {
      "cell_type": "markdown",
      "metadata": {
        "id": "dPnxIduMviaz"
      },
      "source": [
        "**Needed Functions For Visualization**"
      ]
    },
    {
      "cell_type": "code",
      "execution_count": 10,
      "metadata": {
        "id": "r-6YWjM9JA5T"
      },
      "outputs": [],
      "source": [
        "def PlotMultiplePie(df,categorical_features = None,dropna = False):\n",
        "    # set a threshold of 30 unique variables, more than 50 can lead to ugly pie charts \n",
        "    threshold = 30\n",
        "    \n",
        "    # if user did not set categorical_features \n",
        "    if categorical_features == None: \n",
        "        categorical_features = df.select_dtypes(['object','category']).columns.to_list()\n",
        "        print(categorical_features)\n",
        "    \n",
        "    # loop through the list of categorical_features \n",
        "    for cat_feature in categorical_features: \n",
        "        num_unique = df[cat_feature].nunique(dropna = dropna)\n",
        "        num_missing = df[cat_feature].isna().sum()\n",
        "        if num_unique <= threshold:\n",
        "            print('Chart for: ', cat_feature)\n",
        "            print('Number of Unique Values: ', num_unique)\n",
        "            print('Number of Missing Values: ', num_missing)\n",
        "            fig = px.bar(df[cat_feature].value_counts(dropna = dropna), x=cat_feature, \n",
        "                 y = df[cat_feature].value_counts(dropna = dropna).index,title = cat_feature,template='ggplot2')\n",
        "    \n",
        "            fig.show()\n",
        "        else: \n",
        "            print('Chart for ',cat_feature,' is unavailable due high number of Unique Values ')\n",
        "            print('Number of Unique Values: ', num_unique)\n",
        "            print('Number of Missing Values: ', num_missing)\n",
        "            print('\\n')\n",
        "    return\n",
        "\n",
        "def plotForContinousFeaturesInDataSet(data):\n",
        "    continous_features = data.select_dtypes(['float64']).columns.to_list()\n",
        "    for cont_feature in continous_features: \n",
        "        plt.figure()\n",
        "        plt.title(cont_feature)\n",
        "        ax = sns.distplot(data[cont_feature])\n",
        "    return\n",
        "        \n",
        "def plotForDiscreteFeaturesInDataSet(data):\n",
        "    discrete_features = data.select_dtypes(['int64']).columns.to_list()\n",
        "    for disc_feature in discrete_features: \n",
        "        plt.figure()\n",
        "        plt.title(disc_feature)\n",
        "        ax = sns.distplot(data[disc_feature],kde = False)\n",
        "    return"
      ]
    },
    {
      "cell_type": "markdown",
      "metadata": {
        "id": "H9_IdiO-vtEE"
      },
      "source": [
        "**Visualization**"
      ]
    },
    {
      "cell_type": "code",
      "execution_count": 11,
      "metadata": {
        "colab": {
          "base_uri": "https://localhost:8080/",
          "height": 1000
        },
        "id": "ZkX_eGZzJC5F",
        "outputId": "aa74e8db-1885-44a5-c2c4-cb2edce5f3c4"
      },
      "outputs": [
        {
          "output_type": "stream",
          "name": "stdout",
          "text": [
            "['user_id', 'REGION', 'TENURE', 'MRG', 'TOP_PACK']\n",
            "Chart for  user_id  is unavailable due high number of Unique Values \n",
            "Number of Unique Values:  1077024\n",
            "Number of Missing Values:  0\n",
            "\n",
            "\n",
            "Chart for:  REGION\n",
            "Number of Unique Values:  15\n",
            "Number of Missing Values:  424337\n"
          ]
        },
        {
          "output_type": "display_data",
          "data": {
            "text/html": [
              "<html>\n",
              "<head><meta charset=\"utf-8\" /></head>\n",
              "<body>\n",
              "    <div>            <script src=\"https://cdnjs.cloudflare.com/ajax/libs/mathjax/2.7.5/MathJax.js?config=TeX-AMS-MML_SVG\"></script><script type=\"text/javascript\">if (window.MathJax) {MathJax.Hub.Config({SVG: {font: \"STIX-Web\"}});}</script>                <script type=\"text/javascript\">window.PlotlyConfig = {MathJaxConfig: 'local'};</script>\n",
              "        <script src=\"https://cdn.plot.ly/plotly-2.8.3.min.js\"></script>                <div id=\"78d67978-0756-4bd2-a752-6a42cf348d69\" class=\"plotly-graph-div\" style=\"height:525px; width:100%;\"></div>            <script type=\"text/javascript\">                                    window.PLOTLYENV=window.PLOTLYENV || {};                                    if (document.getElementById(\"78d67978-0756-4bd2-a752-6a42cf348d69\")) {                    Plotly.newPlot(                        \"78d67978-0756-4bd2-a752-6a42cf348d69\",                        [{\"alignmentgroup\":\"True\",\"hovertemplate\":\"REGION=%{x}<br>y=%{y}<extra></extra>\",\"legendgroup\":\"\",\"marker\":{\"color\":\"#F8766D\",\"pattern\":{\"shape\":\"\"}},\"name\":\"\",\"offsetgroup\":\"\",\"orientation\":\"h\",\"showlegend\":false,\"textposition\":\"auto\",\"x\":[424337,256259,90171,59895,49679,48498,33564,27562,22067,19464,17775,14650,11036,1553,514],\"xaxis\":\"x\",\"y\":[null,\"DAKAR\",\"THIES\",\"SAINT-LOUIS\",\"LOUGA\",\"KAOLACK\",\"DIOURBEL\",\"TAMBACOUNDA\",\"KAFFRINE\",\"KOLDA\",\"FATICK\",\"MATAM\",\"ZIGUINCHOR\",\"SEDHIOU\",\"KEDOUGOU\"],\"yaxis\":\"y\",\"type\":\"bar\"}],                        {\"template\":{\"data\":{\"barpolar\":[{\"marker\":{\"line\":{\"color\":\"rgb(237,237,237)\",\"width\":0.5},\"pattern\":{\"fillmode\":\"overlay\",\"size\":10,\"solidity\":0.2}},\"type\":\"barpolar\"}],\"bar\":[{\"error_x\":{\"color\":\"rgb(51,51,51)\"},\"error_y\":{\"color\":\"rgb(51,51,51)\"},\"marker\":{\"line\":{\"color\":\"rgb(237,237,237)\",\"width\":0.5},\"pattern\":{\"fillmode\":\"overlay\",\"size\":10,\"solidity\":0.2}},\"type\":\"bar\"}],\"carpet\":[{\"aaxis\":{\"endlinecolor\":\"rgb(51,51,51)\",\"gridcolor\":\"white\",\"linecolor\":\"white\",\"minorgridcolor\":\"white\",\"startlinecolor\":\"rgb(51,51,51)\"},\"baxis\":{\"endlinecolor\":\"rgb(51,51,51)\",\"gridcolor\":\"white\",\"linecolor\":\"white\",\"minorgridcolor\":\"white\",\"startlinecolor\":\"rgb(51,51,51)\"},\"type\":\"carpet\"}],\"choropleth\":[{\"colorbar\":{\"outlinewidth\":0,\"tickcolor\":\"rgb(237,237,237)\",\"ticklen\":6,\"ticks\":\"inside\"},\"type\":\"choropleth\"}],\"contourcarpet\":[{\"colorbar\":{\"outlinewidth\":0,\"tickcolor\":\"rgb(237,237,237)\",\"ticklen\":6,\"ticks\":\"inside\"},\"type\":\"contourcarpet\"}],\"contour\":[{\"colorbar\":{\"outlinewidth\":0,\"tickcolor\":\"rgb(237,237,237)\",\"ticklen\":6,\"ticks\":\"inside\"},\"colorscale\":[[0,\"rgb(20,44,66)\"],[1,\"rgb(90,179,244)\"]],\"type\":\"contour\"}],\"heatmapgl\":[{\"colorbar\":{\"outlinewidth\":0,\"tickcolor\":\"rgb(237,237,237)\",\"ticklen\":6,\"ticks\":\"inside\"},\"colorscale\":[[0,\"rgb(20,44,66)\"],[1,\"rgb(90,179,244)\"]],\"type\":\"heatmapgl\"}],\"heatmap\":[{\"colorbar\":{\"outlinewidth\":0,\"tickcolor\":\"rgb(237,237,237)\",\"ticklen\":6,\"ticks\":\"inside\"},\"colorscale\":[[0,\"rgb(20,44,66)\"],[1,\"rgb(90,179,244)\"]],\"type\":\"heatmap\"}],\"histogram2dcontour\":[{\"colorbar\":{\"outlinewidth\":0,\"tickcolor\":\"rgb(237,237,237)\",\"ticklen\":6,\"ticks\":\"inside\"},\"colorscale\":[[0,\"rgb(20,44,66)\"],[1,\"rgb(90,179,244)\"]],\"type\":\"histogram2dcontour\"}],\"histogram2d\":[{\"colorbar\":{\"outlinewidth\":0,\"tickcolor\":\"rgb(237,237,237)\",\"ticklen\":6,\"ticks\":\"inside\"},\"colorscale\":[[0,\"rgb(20,44,66)\"],[1,\"rgb(90,179,244)\"]],\"type\":\"histogram2d\"}],\"histogram\":[{\"marker\":{\"pattern\":{\"fillmode\":\"overlay\",\"size\":10,\"solidity\":0.2}},\"type\":\"histogram\"}],\"mesh3d\":[{\"colorbar\":{\"outlinewidth\":0,\"tickcolor\":\"rgb(237,237,237)\",\"ticklen\":6,\"ticks\":\"inside\"},\"type\":\"mesh3d\"}],\"parcoords\":[{\"line\":{\"colorbar\":{\"outlinewidth\":0,\"tickcolor\":\"rgb(237,237,237)\",\"ticklen\":6,\"ticks\":\"inside\"}},\"type\":\"parcoords\"}],\"pie\":[{\"automargin\":true,\"type\":\"pie\"}],\"scatter3d\":[{\"line\":{\"colorbar\":{\"outlinewidth\":0,\"tickcolor\":\"rgb(237,237,237)\",\"ticklen\":6,\"ticks\":\"inside\"}},\"marker\":{\"colorbar\":{\"outlinewidth\":0,\"tickcolor\":\"rgb(237,237,237)\",\"ticklen\":6,\"ticks\":\"inside\"}},\"type\":\"scatter3d\"}],\"scattercarpet\":[{\"marker\":{\"colorbar\":{\"outlinewidth\":0,\"tickcolor\":\"rgb(237,237,237)\",\"ticklen\":6,\"ticks\":\"inside\"}},\"type\":\"scattercarpet\"}],\"scattergeo\":[{\"marker\":{\"colorbar\":{\"outlinewidth\":0,\"tickcolor\":\"rgb(237,237,237)\",\"ticklen\":6,\"ticks\":\"inside\"}},\"type\":\"scattergeo\"}],\"scattergl\":[{\"marker\":{\"colorbar\":{\"outlinewidth\":0,\"tickcolor\":\"rgb(237,237,237)\",\"ticklen\":6,\"ticks\":\"inside\"}},\"type\":\"scattergl\"}],\"scattermapbox\":[{\"marker\":{\"colorbar\":{\"outlinewidth\":0,\"tickcolor\":\"rgb(237,237,237)\",\"ticklen\":6,\"ticks\":\"inside\"}},\"type\":\"scattermapbox\"}],\"scatterpolargl\":[{\"marker\":{\"colorbar\":{\"outlinewidth\":0,\"tickcolor\":\"rgb(237,237,237)\",\"ticklen\":6,\"ticks\":\"inside\"}},\"type\":\"scatterpolargl\"}],\"scatterpolar\":[{\"marker\":{\"colorbar\":{\"outlinewidth\":0,\"tickcolor\":\"rgb(237,237,237)\",\"ticklen\":6,\"ticks\":\"inside\"}},\"type\":\"scatterpolar\"}],\"scatter\":[{\"marker\":{\"colorbar\":{\"outlinewidth\":0,\"tickcolor\":\"rgb(237,237,237)\",\"ticklen\":6,\"ticks\":\"inside\"}},\"type\":\"scatter\"}],\"scatterternary\":[{\"marker\":{\"colorbar\":{\"outlinewidth\":0,\"tickcolor\":\"rgb(237,237,237)\",\"ticklen\":6,\"ticks\":\"inside\"}},\"type\":\"scatterternary\"}],\"surface\":[{\"colorbar\":{\"outlinewidth\":0,\"tickcolor\":\"rgb(237,237,237)\",\"ticklen\":6,\"ticks\":\"inside\"},\"colorscale\":[[0,\"rgb(20,44,66)\"],[1,\"rgb(90,179,244)\"]],\"type\":\"surface\"}],\"table\":[{\"cells\":{\"fill\":{\"color\":\"rgb(237,237,237)\"},\"line\":{\"color\":\"white\"}},\"header\":{\"fill\":{\"color\":\"rgb(217,217,217)\"},\"line\":{\"color\":\"white\"}},\"type\":\"table\"}]},\"layout\":{\"annotationdefaults\":{\"arrowhead\":0,\"arrowwidth\":1},\"autotypenumbers\":\"strict\",\"coloraxis\":{\"colorbar\":{\"outlinewidth\":0,\"tickcolor\":\"rgb(237,237,237)\",\"ticklen\":6,\"ticks\":\"inside\"}},\"colorscale\":{\"sequential\":[[0,\"rgb(20,44,66)\"],[1,\"rgb(90,179,244)\"]],\"sequentialminus\":[[0,\"rgb(20,44,66)\"],[1,\"rgb(90,179,244)\"]]},\"colorway\":[\"#F8766D\",\"#A3A500\",\"#00BF7D\",\"#00B0F6\",\"#E76BF3\"],\"font\":{\"color\":\"rgb(51,51,51)\"},\"geo\":{\"bgcolor\":\"white\",\"lakecolor\":\"white\",\"landcolor\":\"rgb(237,237,237)\",\"showlakes\":true,\"showland\":true,\"subunitcolor\":\"white\"},\"hoverlabel\":{\"align\":\"left\"},\"hovermode\":\"closest\",\"paper_bgcolor\":\"white\",\"plot_bgcolor\":\"rgb(237,237,237)\",\"polar\":{\"angularaxis\":{\"gridcolor\":\"white\",\"linecolor\":\"white\",\"showgrid\":true,\"tickcolor\":\"rgb(51,51,51)\",\"ticks\":\"outside\"},\"bgcolor\":\"rgb(237,237,237)\",\"radialaxis\":{\"gridcolor\":\"white\",\"linecolor\":\"white\",\"showgrid\":true,\"tickcolor\":\"rgb(51,51,51)\",\"ticks\":\"outside\"}},\"scene\":{\"xaxis\":{\"backgroundcolor\":\"rgb(237,237,237)\",\"gridcolor\":\"white\",\"gridwidth\":2,\"linecolor\":\"white\",\"showbackground\":true,\"showgrid\":true,\"tickcolor\":\"rgb(51,51,51)\",\"ticks\":\"outside\",\"zerolinecolor\":\"white\"},\"yaxis\":{\"backgroundcolor\":\"rgb(237,237,237)\",\"gridcolor\":\"white\",\"gridwidth\":2,\"linecolor\":\"white\",\"showbackground\":true,\"showgrid\":true,\"tickcolor\":\"rgb(51,51,51)\",\"ticks\":\"outside\",\"zerolinecolor\":\"white\"},\"zaxis\":{\"backgroundcolor\":\"rgb(237,237,237)\",\"gridcolor\":\"white\",\"gridwidth\":2,\"linecolor\":\"white\",\"showbackground\":true,\"showgrid\":true,\"tickcolor\":\"rgb(51,51,51)\",\"ticks\":\"outside\",\"zerolinecolor\":\"white\"}},\"shapedefaults\":{\"fillcolor\":\"black\",\"line\":{\"width\":0},\"opacity\":0.3},\"ternary\":{\"aaxis\":{\"gridcolor\":\"white\",\"linecolor\":\"white\",\"showgrid\":true,\"tickcolor\":\"rgb(51,51,51)\",\"ticks\":\"outside\"},\"baxis\":{\"gridcolor\":\"white\",\"linecolor\":\"white\",\"showgrid\":true,\"tickcolor\":\"rgb(51,51,51)\",\"ticks\":\"outside\"},\"bgcolor\":\"rgb(237,237,237)\",\"caxis\":{\"gridcolor\":\"white\",\"linecolor\":\"white\",\"showgrid\":true,\"tickcolor\":\"rgb(51,51,51)\",\"ticks\":\"outside\"}},\"xaxis\":{\"automargin\":true,\"gridcolor\":\"white\",\"linecolor\":\"white\",\"showgrid\":true,\"tickcolor\":\"rgb(51,51,51)\",\"ticks\":\"outside\",\"title\":{\"standoff\":15},\"zerolinecolor\":\"white\"},\"yaxis\":{\"automargin\":true,\"gridcolor\":\"white\",\"linecolor\":\"white\",\"showgrid\":true,\"tickcolor\":\"rgb(51,51,51)\",\"ticks\":\"outside\",\"title\":{\"standoff\":15},\"zerolinecolor\":\"white\"}}},\"xaxis\":{\"anchor\":\"y\",\"domain\":[0.0,1.0],\"title\":{\"text\":\"REGION\"}},\"yaxis\":{\"anchor\":\"x\",\"domain\":[0.0,1.0],\"title\":{\"text\":\"y\"}},\"legend\":{\"tracegroupgap\":0},\"title\":{\"text\":\"REGION\"},\"barmode\":\"relative\"},                        {\"responsive\": true}                    ).then(function(){\n",
              "                            \n",
              "var gd = document.getElementById('78d67978-0756-4bd2-a752-6a42cf348d69');\n",
              "var x = new MutationObserver(function (mutations, observer) {{\n",
              "        var display = window.getComputedStyle(gd).display;\n",
              "        if (!display || display === 'none') {{\n",
              "            console.log([gd, 'removed!']);\n",
              "            Plotly.purge(gd);\n",
              "            observer.disconnect();\n",
              "        }}\n",
              "}});\n",
              "\n",
              "// Listen for the removal of the full notebook cells\n",
              "var notebookContainer = gd.closest('#notebook-container');\n",
              "if (notebookContainer) {{\n",
              "    x.observe(notebookContainer, {childList: true});\n",
              "}}\n",
              "\n",
              "// Listen for the clearing of the current output cell\n",
              "var outputEl = gd.closest('.output');\n",
              "if (outputEl) {{\n",
              "    x.observe(outputEl, {childList: true});\n",
              "}}\n",
              "\n",
              "                        })                };                            </script>        </div>\n",
              "</body>\n",
              "</html>"
            ]
          },
          "metadata": {}
        },
        {
          "output_type": "stream",
          "name": "stdout",
          "text": [
            "Chart for:  TENURE\n",
            "Number of Unique Values:  8\n",
            "Number of Missing Values:  0\n"
          ]
        },
        {
          "output_type": "display_data",
          "data": {
            "text/html": [
              "<html>\n",
              "<head><meta charset=\"utf-8\" /></head>\n",
              "<body>\n",
              "    <div>            <script src=\"https://cdnjs.cloudflare.com/ajax/libs/mathjax/2.7.5/MathJax.js?config=TeX-AMS-MML_SVG\"></script><script type=\"text/javascript\">if (window.MathJax) {MathJax.Hub.Config({SVG: {font: \"STIX-Web\"}});}</script>                <script type=\"text/javascript\">window.PlotlyConfig = {MathJaxConfig: 'local'};</script>\n",
              "        <script src=\"https://cdn.plot.ly/plotly-2.8.3.min.js\"></script>                <div id=\"b54f13bb-98a8-4cce-b58a-53e21d4491cc\" class=\"plotly-graph-div\" style=\"height:525px; width:100%;\"></div>            <script type=\"text/javascript\">                                    window.PLOTLYENV=window.PLOTLYENV || {};                                    if (document.getElementById(\"b54f13bb-98a8-4cce-b58a-53e21d4491cc\")) {                    Plotly.newPlot(                        \"b54f13bb-98a8-4cce-b58a-53e21d4491cc\",                        [{\"alignmentgroup\":\"True\",\"hovertemplate\":\"TENURE=%{x}<br>y=%{y}<extra></extra>\",\"legendgroup\":\"\",\"marker\":{\"color\":\"#F8766D\",\"pattern\":{\"shape\":\"\"}},\"name\":\"\",\"offsetgroup\":\"\",\"orientation\":\"h\",\"showlegend\":false,\"textposition\":\"auto\",\"x\":[1021853,22494,12913,7520,6324,4604,929,387],\"xaxis\":\"x\",\"y\":[\"K > 24 month\",\"I 18-21 month\",\"H 15-18 month\",\"G 12-15 month\",\"J 21-24 month\",\"F 9-12 month\",\"E 6-9 month\",\"D 3-6 month\"],\"yaxis\":\"y\",\"type\":\"bar\"}],                        {\"template\":{\"data\":{\"barpolar\":[{\"marker\":{\"line\":{\"color\":\"rgb(237,237,237)\",\"width\":0.5},\"pattern\":{\"fillmode\":\"overlay\",\"size\":10,\"solidity\":0.2}},\"type\":\"barpolar\"}],\"bar\":[{\"error_x\":{\"color\":\"rgb(51,51,51)\"},\"error_y\":{\"color\":\"rgb(51,51,51)\"},\"marker\":{\"line\":{\"color\":\"rgb(237,237,237)\",\"width\":0.5},\"pattern\":{\"fillmode\":\"overlay\",\"size\":10,\"solidity\":0.2}},\"type\":\"bar\"}],\"carpet\":[{\"aaxis\":{\"endlinecolor\":\"rgb(51,51,51)\",\"gridcolor\":\"white\",\"linecolor\":\"white\",\"minorgridcolor\":\"white\",\"startlinecolor\":\"rgb(51,51,51)\"},\"baxis\":{\"endlinecolor\":\"rgb(51,51,51)\",\"gridcolor\":\"white\",\"linecolor\":\"white\",\"minorgridcolor\":\"white\",\"startlinecolor\":\"rgb(51,51,51)\"},\"type\":\"carpet\"}],\"choropleth\":[{\"colorbar\":{\"outlinewidth\":0,\"tickcolor\":\"rgb(237,237,237)\",\"ticklen\":6,\"ticks\":\"inside\"},\"type\":\"choropleth\"}],\"contourcarpet\":[{\"colorbar\":{\"outlinewidth\":0,\"tickcolor\":\"rgb(237,237,237)\",\"ticklen\":6,\"ticks\":\"inside\"},\"type\":\"contourcarpet\"}],\"contour\":[{\"colorbar\":{\"outlinewidth\":0,\"tickcolor\":\"rgb(237,237,237)\",\"ticklen\":6,\"ticks\":\"inside\"},\"colorscale\":[[0,\"rgb(20,44,66)\"],[1,\"rgb(90,179,244)\"]],\"type\":\"contour\"}],\"heatmapgl\":[{\"colorbar\":{\"outlinewidth\":0,\"tickcolor\":\"rgb(237,237,237)\",\"ticklen\":6,\"ticks\":\"inside\"},\"colorscale\":[[0,\"rgb(20,44,66)\"],[1,\"rgb(90,179,244)\"]],\"type\":\"heatmapgl\"}],\"heatmap\":[{\"colorbar\":{\"outlinewidth\":0,\"tickcolor\":\"rgb(237,237,237)\",\"ticklen\":6,\"ticks\":\"inside\"},\"colorscale\":[[0,\"rgb(20,44,66)\"],[1,\"rgb(90,179,244)\"]],\"type\":\"heatmap\"}],\"histogram2dcontour\":[{\"colorbar\":{\"outlinewidth\":0,\"tickcolor\":\"rgb(237,237,237)\",\"ticklen\":6,\"ticks\":\"inside\"},\"colorscale\":[[0,\"rgb(20,44,66)\"],[1,\"rgb(90,179,244)\"]],\"type\":\"histogram2dcontour\"}],\"histogram2d\":[{\"colorbar\":{\"outlinewidth\":0,\"tickcolor\":\"rgb(237,237,237)\",\"ticklen\":6,\"ticks\":\"inside\"},\"colorscale\":[[0,\"rgb(20,44,66)\"],[1,\"rgb(90,179,244)\"]],\"type\":\"histogram2d\"}],\"histogram\":[{\"marker\":{\"pattern\":{\"fillmode\":\"overlay\",\"size\":10,\"solidity\":0.2}},\"type\":\"histogram\"}],\"mesh3d\":[{\"colorbar\":{\"outlinewidth\":0,\"tickcolor\":\"rgb(237,237,237)\",\"ticklen\":6,\"ticks\":\"inside\"},\"type\":\"mesh3d\"}],\"parcoords\":[{\"line\":{\"colorbar\":{\"outlinewidth\":0,\"tickcolor\":\"rgb(237,237,237)\",\"ticklen\":6,\"ticks\":\"inside\"}},\"type\":\"parcoords\"}],\"pie\":[{\"automargin\":true,\"type\":\"pie\"}],\"scatter3d\":[{\"line\":{\"colorbar\":{\"outlinewidth\":0,\"tickcolor\":\"rgb(237,237,237)\",\"ticklen\":6,\"ticks\":\"inside\"}},\"marker\":{\"colorbar\":{\"outlinewidth\":0,\"tickcolor\":\"rgb(237,237,237)\",\"ticklen\":6,\"ticks\":\"inside\"}},\"type\":\"scatter3d\"}],\"scattercarpet\":[{\"marker\":{\"colorbar\":{\"outlinewidth\":0,\"tickcolor\":\"rgb(237,237,237)\",\"ticklen\":6,\"ticks\":\"inside\"}},\"type\":\"scattercarpet\"}],\"scattergeo\":[{\"marker\":{\"colorbar\":{\"outlinewidth\":0,\"tickcolor\":\"rgb(237,237,237)\",\"ticklen\":6,\"ticks\":\"inside\"}},\"type\":\"scattergeo\"}],\"scattergl\":[{\"marker\":{\"colorbar\":{\"outlinewidth\":0,\"tickcolor\":\"rgb(237,237,237)\",\"ticklen\":6,\"ticks\":\"inside\"}},\"type\":\"scattergl\"}],\"scattermapbox\":[{\"marker\":{\"colorbar\":{\"outlinewidth\":0,\"tickcolor\":\"rgb(237,237,237)\",\"ticklen\":6,\"ticks\":\"inside\"}},\"type\":\"scattermapbox\"}],\"scatterpolargl\":[{\"marker\":{\"colorbar\":{\"outlinewidth\":0,\"tickcolor\":\"rgb(237,237,237)\",\"ticklen\":6,\"ticks\":\"inside\"}},\"type\":\"scatterpolargl\"}],\"scatterpolar\":[{\"marker\":{\"colorbar\":{\"outlinewidth\":0,\"tickcolor\":\"rgb(237,237,237)\",\"ticklen\":6,\"ticks\":\"inside\"}},\"type\":\"scatterpolar\"}],\"scatter\":[{\"marker\":{\"colorbar\":{\"outlinewidth\":0,\"tickcolor\":\"rgb(237,237,237)\",\"ticklen\":6,\"ticks\":\"inside\"}},\"type\":\"scatter\"}],\"scatterternary\":[{\"marker\":{\"colorbar\":{\"outlinewidth\":0,\"tickcolor\":\"rgb(237,237,237)\",\"ticklen\":6,\"ticks\":\"inside\"}},\"type\":\"scatterternary\"}],\"surface\":[{\"colorbar\":{\"outlinewidth\":0,\"tickcolor\":\"rgb(237,237,237)\",\"ticklen\":6,\"ticks\":\"inside\"},\"colorscale\":[[0,\"rgb(20,44,66)\"],[1,\"rgb(90,179,244)\"]],\"type\":\"surface\"}],\"table\":[{\"cells\":{\"fill\":{\"color\":\"rgb(237,237,237)\"},\"line\":{\"color\":\"white\"}},\"header\":{\"fill\":{\"color\":\"rgb(217,217,217)\"},\"line\":{\"color\":\"white\"}},\"type\":\"table\"}]},\"layout\":{\"annotationdefaults\":{\"arrowhead\":0,\"arrowwidth\":1},\"autotypenumbers\":\"strict\",\"coloraxis\":{\"colorbar\":{\"outlinewidth\":0,\"tickcolor\":\"rgb(237,237,237)\",\"ticklen\":6,\"ticks\":\"inside\"}},\"colorscale\":{\"sequential\":[[0,\"rgb(20,44,66)\"],[1,\"rgb(90,179,244)\"]],\"sequentialminus\":[[0,\"rgb(20,44,66)\"],[1,\"rgb(90,179,244)\"]]},\"colorway\":[\"#F8766D\",\"#A3A500\",\"#00BF7D\",\"#00B0F6\",\"#E76BF3\"],\"font\":{\"color\":\"rgb(51,51,51)\"},\"geo\":{\"bgcolor\":\"white\",\"lakecolor\":\"white\",\"landcolor\":\"rgb(237,237,237)\",\"showlakes\":true,\"showland\":true,\"subunitcolor\":\"white\"},\"hoverlabel\":{\"align\":\"left\"},\"hovermode\":\"closest\",\"paper_bgcolor\":\"white\",\"plot_bgcolor\":\"rgb(237,237,237)\",\"polar\":{\"angularaxis\":{\"gridcolor\":\"white\",\"linecolor\":\"white\",\"showgrid\":true,\"tickcolor\":\"rgb(51,51,51)\",\"ticks\":\"outside\"},\"bgcolor\":\"rgb(237,237,237)\",\"radialaxis\":{\"gridcolor\":\"white\",\"linecolor\":\"white\",\"showgrid\":true,\"tickcolor\":\"rgb(51,51,51)\",\"ticks\":\"outside\"}},\"scene\":{\"xaxis\":{\"backgroundcolor\":\"rgb(237,237,237)\",\"gridcolor\":\"white\",\"gridwidth\":2,\"linecolor\":\"white\",\"showbackground\":true,\"showgrid\":true,\"tickcolor\":\"rgb(51,51,51)\",\"ticks\":\"outside\",\"zerolinecolor\":\"white\"},\"yaxis\":{\"backgroundcolor\":\"rgb(237,237,237)\",\"gridcolor\":\"white\",\"gridwidth\":2,\"linecolor\":\"white\",\"showbackground\":true,\"showgrid\":true,\"tickcolor\":\"rgb(51,51,51)\",\"ticks\":\"outside\",\"zerolinecolor\":\"white\"},\"zaxis\":{\"backgroundcolor\":\"rgb(237,237,237)\",\"gridcolor\":\"white\",\"gridwidth\":2,\"linecolor\":\"white\",\"showbackground\":true,\"showgrid\":true,\"tickcolor\":\"rgb(51,51,51)\",\"ticks\":\"outside\",\"zerolinecolor\":\"white\"}},\"shapedefaults\":{\"fillcolor\":\"black\",\"line\":{\"width\":0},\"opacity\":0.3},\"ternary\":{\"aaxis\":{\"gridcolor\":\"white\",\"linecolor\":\"white\",\"showgrid\":true,\"tickcolor\":\"rgb(51,51,51)\",\"ticks\":\"outside\"},\"baxis\":{\"gridcolor\":\"white\",\"linecolor\":\"white\",\"showgrid\":true,\"tickcolor\":\"rgb(51,51,51)\",\"ticks\":\"outside\"},\"bgcolor\":\"rgb(237,237,237)\",\"caxis\":{\"gridcolor\":\"white\",\"linecolor\":\"white\",\"showgrid\":true,\"tickcolor\":\"rgb(51,51,51)\",\"ticks\":\"outside\"}},\"xaxis\":{\"automargin\":true,\"gridcolor\":\"white\",\"linecolor\":\"white\",\"showgrid\":true,\"tickcolor\":\"rgb(51,51,51)\",\"ticks\":\"outside\",\"title\":{\"standoff\":15},\"zerolinecolor\":\"white\"},\"yaxis\":{\"automargin\":true,\"gridcolor\":\"white\",\"linecolor\":\"white\",\"showgrid\":true,\"tickcolor\":\"rgb(51,51,51)\",\"ticks\":\"outside\",\"title\":{\"standoff\":15},\"zerolinecolor\":\"white\"}}},\"xaxis\":{\"anchor\":\"y\",\"domain\":[0.0,1.0],\"title\":{\"text\":\"TENURE\"}},\"yaxis\":{\"anchor\":\"x\",\"domain\":[0.0,1.0],\"title\":{\"text\":\"y\"}},\"legend\":{\"tracegroupgap\":0},\"title\":{\"text\":\"TENURE\"},\"barmode\":\"relative\"},                        {\"responsive\": true}                    ).then(function(){\n",
              "                            \n",
              "var gd = document.getElementById('b54f13bb-98a8-4cce-b58a-53e21d4491cc');\n",
              "var x = new MutationObserver(function (mutations, observer) {{\n",
              "        var display = window.getComputedStyle(gd).display;\n",
              "        if (!display || display === 'none') {{\n",
              "            console.log([gd, 'removed!']);\n",
              "            Plotly.purge(gd);\n",
              "            observer.disconnect();\n",
              "        }}\n",
              "}});\n",
              "\n",
              "// Listen for the removal of the full notebook cells\n",
              "var notebookContainer = gd.closest('#notebook-container');\n",
              "if (notebookContainer) {{\n",
              "    x.observe(notebookContainer, {childList: true});\n",
              "}}\n",
              "\n",
              "// Listen for the clearing of the current output cell\n",
              "var outputEl = gd.closest('.output');\n",
              "if (outputEl) {{\n",
              "    x.observe(outputEl, {childList: true});\n",
              "}}\n",
              "\n",
              "                        })                };                            </script>        </div>\n",
              "</body>\n",
              "</html>"
            ]
          },
          "metadata": {}
        },
        {
          "output_type": "stream",
          "name": "stdout",
          "text": [
            "Chart for:  MRG\n",
            "Number of Unique Values:  1\n",
            "Number of Missing Values:  0\n"
          ]
        },
        {
          "output_type": "display_data",
          "data": {
            "text/html": [
              "<html>\n",
              "<head><meta charset=\"utf-8\" /></head>\n",
              "<body>\n",
              "    <div>            <script src=\"https://cdnjs.cloudflare.com/ajax/libs/mathjax/2.7.5/MathJax.js?config=TeX-AMS-MML_SVG\"></script><script type=\"text/javascript\">if (window.MathJax) {MathJax.Hub.Config({SVG: {font: \"STIX-Web\"}});}</script>                <script type=\"text/javascript\">window.PlotlyConfig = {MathJaxConfig: 'local'};</script>\n",
              "        <script src=\"https://cdn.plot.ly/plotly-2.8.3.min.js\"></script>                <div id=\"ccf1752c-d85d-47d1-909a-ab1f5d456522\" class=\"plotly-graph-div\" style=\"height:525px; width:100%;\"></div>            <script type=\"text/javascript\">                                    window.PLOTLYENV=window.PLOTLYENV || {};                                    if (document.getElementById(\"ccf1752c-d85d-47d1-909a-ab1f5d456522\")) {                    Plotly.newPlot(                        \"ccf1752c-d85d-47d1-909a-ab1f5d456522\",                        [{\"alignmentgroup\":\"True\",\"hovertemplate\":\"MRG=%{x}<br>y=%{y}<extra></extra>\",\"legendgroup\":\"\",\"marker\":{\"color\":\"#F8766D\",\"pattern\":{\"shape\":\"\"}},\"name\":\"\",\"offsetgroup\":\"\",\"orientation\":\"h\",\"showlegend\":false,\"textposition\":\"auto\",\"x\":[1077024],\"xaxis\":\"x\",\"y\":[\"NO\"],\"yaxis\":\"y\",\"type\":\"bar\"}],                        {\"template\":{\"data\":{\"barpolar\":[{\"marker\":{\"line\":{\"color\":\"rgb(237,237,237)\",\"width\":0.5},\"pattern\":{\"fillmode\":\"overlay\",\"size\":10,\"solidity\":0.2}},\"type\":\"barpolar\"}],\"bar\":[{\"error_x\":{\"color\":\"rgb(51,51,51)\"},\"error_y\":{\"color\":\"rgb(51,51,51)\"},\"marker\":{\"line\":{\"color\":\"rgb(237,237,237)\",\"width\":0.5},\"pattern\":{\"fillmode\":\"overlay\",\"size\":10,\"solidity\":0.2}},\"type\":\"bar\"}],\"carpet\":[{\"aaxis\":{\"endlinecolor\":\"rgb(51,51,51)\",\"gridcolor\":\"white\",\"linecolor\":\"white\",\"minorgridcolor\":\"white\",\"startlinecolor\":\"rgb(51,51,51)\"},\"baxis\":{\"endlinecolor\":\"rgb(51,51,51)\",\"gridcolor\":\"white\",\"linecolor\":\"white\",\"minorgridcolor\":\"white\",\"startlinecolor\":\"rgb(51,51,51)\"},\"type\":\"carpet\"}],\"choropleth\":[{\"colorbar\":{\"outlinewidth\":0,\"tickcolor\":\"rgb(237,237,237)\",\"ticklen\":6,\"ticks\":\"inside\"},\"type\":\"choropleth\"}],\"contourcarpet\":[{\"colorbar\":{\"outlinewidth\":0,\"tickcolor\":\"rgb(237,237,237)\",\"ticklen\":6,\"ticks\":\"inside\"},\"type\":\"contourcarpet\"}],\"contour\":[{\"colorbar\":{\"outlinewidth\":0,\"tickcolor\":\"rgb(237,237,237)\",\"ticklen\":6,\"ticks\":\"inside\"},\"colorscale\":[[0,\"rgb(20,44,66)\"],[1,\"rgb(90,179,244)\"]],\"type\":\"contour\"}],\"heatmapgl\":[{\"colorbar\":{\"outlinewidth\":0,\"tickcolor\":\"rgb(237,237,237)\",\"ticklen\":6,\"ticks\":\"inside\"},\"colorscale\":[[0,\"rgb(20,44,66)\"],[1,\"rgb(90,179,244)\"]],\"type\":\"heatmapgl\"}],\"heatmap\":[{\"colorbar\":{\"outlinewidth\":0,\"tickcolor\":\"rgb(237,237,237)\",\"ticklen\":6,\"ticks\":\"inside\"},\"colorscale\":[[0,\"rgb(20,44,66)\"],[1,\"rgb(90,179,244)\"]],\"type\":\"heatmap\"}],\"histogram2dcontour\":[{\"colorbar\":{\"outlinewidth\":0,\"tickcolor\":\"rgb(237,237,237)\",\"ticklen\":6,\"ticks\":\"inside\"},\"colorscale\":[[0,\"rgb(20,44,66)\"],[1,\"rgb(90,179,244)\"]],\"type\":\"histogram2dcontour\"}],\"histogram2d\":[{\"colorbar\":{\"outlinewidth\":0,\"tickcolor\":\"rgb(237,237,237)\",\"ticklen\":6,\"ticks\":\"inside\"},\"colorscale\":[[0,\"rgb(20,44,66)\"],[1,\"rgb(90,179,244)\"]],\"type\":\"histogram2d\"}],\"histogram\":[{\"marker\":{\"pattern\":{\"fillmode\":\"overlay\",\"size\":10,\"solidity\":0.2}},\"type\":\"histogram\"}],\"mesh3d\":[{\"colorbar\":{\"outlinewidth\":0,\"tickcolor\":\"rgb(237,237,237)\",\"ticklen\":6,\"ticks\":\"inside\"},\"type\":\"mesh3d\"}],\"parcoords\":[{\"line\":{\"colorbar\":{\"outlinewidth\":0,\"tickcolor\":\"rgb(237,237,237)\",\"ticklen\":6,\"ticks\":\"inside\"}},\"type\":\"parcoords\"}],\"pie\":[{\"automargin\":true,\"type\":\"pie\"}],\"scatter3d\":[{\"line\":{\"colorbar\":{\"outlinewidth\":0,\"tickcolor\":\"rgb(237,237,237)\",\"ticklen\":6,\"ticks\":\"inside\"}},\"marker\":{\"colorbar\":{\"outlinewidth\":0,\"tickcolor\":\"rgb(237,237,237)\",\"ticklen\":6,\"ticks\":\"inside\"}},\"type\":\"scatter3d\"}],\"scattercarpet\":[{\"marker\":{\"colorbar\":{\"outlinewidth\":0,\"tickcolor\":\"rgb(237,237,237)\",\"ticklen\":6,\"ticks\":\"inside\"}},\"type\":\"scattercarpet\"}],\"scattergeo\":[{\"marker\":{\"colorbar\":{\"outlinewidth\":0,\"tickcolor\":\"rgb(237,237,237)\",\"ticklen\":6,\"ticks\":\"inside\"}},\"type\":\"scattergeo\"}],\"scattergl\":[{\"marker\":{\"colorbar\":{\"outlinewidth\":0,\"tickcolor\":\"rgb(237,237,237)\",\"ticklen\":6,\"ticks\":\"inside\"}},\"type\":\"scattergl\"}],\"scattermapbox\":[{\"marker\":{\"colorbar\":{\"outlinewidth\":0,\"tickcolor\":\"rgb(237,237,237)\",\"ticklen\":6,\"ticks\":\"inside\"}},\"type\":\"scattermapbox\"}],\"scatterpolargl\":[{\"marker\":{\"colorbar\":{\"outlinewidth\":0,\"tickcolor\":\"rgb(237,237,237)\",\"ticklen\":6,\"ticks\":\"inside\"}},\"type\":\"scatterpolargl\"}],\"scatterpolar\":[{\"marker\":{\"colorbar\":{\"outlinewidth\":0,\"tickcolor\":\"rgb(237,237,237)\",\"ticklen\":6,\"ticks\":\"inside\"}},\"type\":\"scatterpolar\"}],\"scatter\":[{\"marker\":{\"colorbar\":{\"outlinewidth\":0,\"tickcolor\":\"rgb(237,237,237)\",\"ticklen\":6,\"ticks\":\"inside\"}},\"type\":\"scatter\"}],\"scatterternary\":[{\"marker\":{\"colorbar\":{\"outlinewidth\":0,\"tickcolor\":\"rgb(237,237,237)\",\"ticklen\":6,\"ticks\":\"inside\"}},\"type\":\"scatterternary\"}],\"surface\":[{\"colorbar\":{\"outlinewidth\":0,\"tickcolor\":\"rgb(237,237,237)\",\"ticklen\":6,\"ticks\":\"inside\"},\"colorscale\":[[0,\"rgb(20,44,66)\"],[1,\"rgb(90,179,244)\"]],\"type\":\"surface\"}],\"table\":[{\"cells\":{\"fill\":{\"color\":\"rgb(237,237,237)\"},\"line\":{\"color\":\"white\"}},\"header\":{\"fill\":{\"color\":\"rgb(217,217,217)\"},\"line\":{\"color\":\"white\"}},\"type\":\"table\"}]},\"layout\":{\"annotationdefaults\":{\"arrowhead\":0,\"arrowwidth\":1},\"autotypenumbers\":\"strict\",\"coloraxis\":{\"colorbar\":{\"outlinewidth\":0,\"tickcolor\":\"rgb(237,237,237)\",\"ticklen\":6,\"ticks\":\"inside\"}},\"colorscale\":{\"sequential\":[[0,\"rgb(20,44,66)\"],[1,\"rgb(90,179,244)\"]],\"sequentialminus\":[[0,\"rgb(20,44,66)\"],[1,\"rgb(90,179,244)\"]]},\"colorway\":[\"#F8766D\",\"#A3A500\",\"#00BF7D\",\"#00B0F6\",\"#E76BF3\"],\"font\":{\"color\":\"rgb(51,51,51)\"},\"geo\":{\"bgcolor\":\"white\",\"lakecolor\":\"white\",\"landcolor\":\"rgb(237,237,237)\",\"showlakes\":true,\"showland\":true,\"subunitcolor\":\"white\"},\"hoverlabel\":{\"align\":\"left\"},\"hovermode\":\"closest\",\"paper_bgcolor\":\"white\",\"plot_bgcolor\":\"rgb(237,237,237)\",\"polar\":{\"angularaxis\":{\"gridcolor\":\"white\",\"linecolor\":\"white\",\"showgrid\":true,\"tickcolor\":\"rgb(51,51,51)\",\"ticks\":\"outside\"},\"bgcolor\":\"rgb(237,237,237)\",\"radialaxis\":{\"gridcolor\":\"white\",\"linecolor\":\"white\",\"showgrid\":true,\"tickcolor\":\"rgb(51,51,51)\",\"ticks\":\"outside\"}},\"scene\":{\"xaxis\":{\"backgroundcolor\":\"rgb(237,237,237)\",\"gridcolor\":\"white\",\"gridwidth\":2,\"linecolor\":\"white\",\"showbackground\":true,\"showgrid\":true,\"tickcolor\":\"rgb(51,51,51)\",\"ticks\":\"outside\",\"zerolinecolor\":\"white\"},\"yaxis\":{\"backgroundcolor\":\"rgb(237,237,237)\",\"gridcolor\":\"white\",\"gridwidth\":2,\"linecolor\":\"white\",\"showbackground\":true,\"showgrid\":true,\"tickcolor\":\"rgb(51,51,51)\",\"ticks\":\"outside\",\"zerolinecolor\":\"white\"},\"zaxis\":{\"backgroundcolor\":\"rgb(237,237,237)\",\"gridcolor\":\"white\",\"gridwidth\":2,\"linecolor\":\"white\",\"showbackground\":true,\"showgrid\":true,\"tickcolor\":\"rgb(51,51,51)\",\"ticks\":\"outside\",\"zerolinecolor\":\"white\"}},\"shapedefaults\":{\"fillcolor\":\"black\",\"line\":{\"width\":0},\"opacity\":0.3},\"ternary\":{\"aaxis\":{\"gridcolor\":\"white\",\"linecolor\":\"white\",\"showgrid\":true,\"tickcolor\":\"rgb(51,51,51)\",\"ticks\":\"outside\"},\"baxis\":{\"gridcolor\":\"white\",\"linecolor\":\"white\",\"showgrid\":true,\"tickcolor\":\"rgb(51,51,51)\",\"ticks\":\"outside\"},\"bgcolor\":\"rgb(237,237,237)\",\"caxis\":{\"gridcolor\":\"white\",\"linecolor\":\"white\",\"showgrid\":true,\"tickcolor\":\"rgb(51,51,51)\",\"ticks\":\"outside\"}},\"xaxis\":{\"automargin\":true,\"gridcolor\":\"white\",\"linecolor\":\"white\",\"showgrid\":true,\"tickcolor\":\"rgb(51,51,51)\",\"ticks\":\"outside\",\"title\":{\"standoff\":15},\"zerolinecolor\":\"white\"},\"yaxis\":{\"automargin\":true,\"gridcolor\":\"white\",\"linecolor\":\"white\",\"showgrid\":true,\"tickcolor\":\"rgb(51,51,51)\",\"ticks\":\"outside\",\"title\":{\"standoff\":15},\"zerolinecolor\":\"white\"}}},\"xaxis\":{\"anchor\":\"y\",\"domain\":[0.0,1.0],\"title\":{\"text\":\"MRG\"}},\"yaxis\":{\"anchor\":\"x\",\"domain\":[0.0,1.0],\"title\":{\"text\":\"y\"}},\"legend\":{\"tracegroupgap\":0},\"title\":{\"text\":\"MRG\"},\"barmode\":\"relative\"},                        {\"responsive\": true}                    ).then(function(){\n",
              "                            \n",
              "var gd = document.getElementById('ccf1752c-d85d-47d1-909a-ab1f5d456522');\n",
              "var x = new MutationObserver(function (mutations, observer) {{\n",
              "        var display = window.getComputedStyle(gd).display;\n",
              "        if (!display || display === 'none') {{\n",
              "            console.log([gd, 'removed!']);\n",
              "            Plotly.purge(gd);\n",
              "            observer.disconnect();\n",
              "        }}\n",
              "}});\n",
              "\n",
              "// Listen for the removal of the full notebook cells\n",
              "var notebookContainer = gd.closest('#notebook-container');\n",
              "if (notebookContainer) {{\n",
              "    x.observe(notebookContainer, {childList: true});\n",
              "}}\n",
              "\n",
              "// Listen for the clearing of the current output cell\n",
              "var outputEl = gd.closest('.output');\n",
              "if (outputEl) {{\n",
              "    x.observe(outputEl, {childList: true});\n",
              "}}\n",
              "\n",
              "                        })                };                            </script>        </div>\n",
              "</body>\n",
              "</html>"
            ]
          },
          "metadata": {}
        },
        {
          "output_type": "stream",
          "name": "stdout",
          "text": [
            "Chart for  TOP_PACK  is unavailable due high number of Unique Values \n",
            "Number of Unique Values:  127\n",
            "Number of Missing Values:  450895\n",
            "\n",
            "\n"
          ]
        }
      ],
      "source": [
        "PlotMultiplePie(data)"
      ]
    },
    {
      "cell_type": "code",
      "execution_count": 12,
      "metadata": {
        "colab": {
          "base_uri": "https://localhost:8080/",
          "height": 1000
        },
        "id": "uuXTkAV0KMEd",
        "outputId": "ac259676-20b9-4cf6-af91-01f1fe6048da"
      },
      "outputs": [
        {
          "output_type": "stream",
          "name": "stderr",
          "text": [
            "/usr/local/lib/python3.8/dist-packages/seaborn/distributions.py:2619: FutureWarning:\n",
            "\n",
            "`distplot` is a deprecated function and will be removed in a future version. Please adapt your code to use either `displot` (a figure-level function with similar flexibility) or `histplot` (an axes-level function for histograms).\n",
            "\n",
            "/usr/local/lib/python3.8/dist-packages/seaborn/distributions.py:2619: FutureWarning:\n",
            "\n",
            "`distplot` is a deprecated function and will be removed in a future version. Please adapt your code to use either `displot` (a figure-level function with similar flexibility) or `histplot` (an axes-level function for histograms).\n",
            "\n",
            "/usr/local/lib/python3.8/dist-packages/seaborn/distributions.py:2619: FutureWarning:\n",
            "\n",
            "`distplot` is a deprecated function and will be removed in a future version. Please adapt your code to use either `displot` (a figure-level function with similar flexibility) or `histplot` (an axes-level function for histograms).\n",
            "\n",
            "/usr/local/lib/python3.8/dist-packages/seaborn/distributions.py:2619: FutureWarning:\n",
            "\n",
            "`distplot` is a deprecated function and will be removed in a future version. Please adapt your code to use either `displot` (a figure-level function with similar flexibility) or `histplot` (an axes-level function for histograms).\n",
            "\n",
            "/usr/local/lib/python3.8/dist-packages/seaborn/distributions.py:2619: FutureWarning:\n",
            "\n",
            "`distplot` is a deprecated function and will be removed in a future version. Please adapt your code to use either `displot` (a figure-level function with similar flexibility) or `histplot` (an axes-level function for histograms).\n",
            "\n",
            "/usr/local/lib/python3.8/dist-packages/seaborn/distributions.py:2619: FutureWarning:\n",
            "\n",
            "`distplot` is a deprecated function and will be removed in a future version. Please adapt your code to use either `displot` (a figure-level function with similar flexibility) or `histplot` (an axes-level function for histograms).\n",
            "\n",
            "/usr/local/lib/python3.8/dist-packages/seaborn/distributions.py:2619: FutureWarning:\n",
            "\n",
            "`distplot` is a deprecated function and will be removed in a future version. Please adapt your code to use either `displot` (a figure-level function with similar flexibility) or `histplot` (an axes-level function for histograms).\n",
            "\n",
            "/usr/local/lib/python3.8/dist-packages/seaborn/distributions.py:2619: FutureWarning:\n",
            "\n",
            "`distplot` is a deprecated function and will be removed in a future version. Please adapt your code to use either `displot` (a figure-level function with similar flexibility) or `histplot` (an axes-level function for histograms).\n",
            "\n",
            "/usr/local/lib/python3.8/dist-packages/seaborn/distributions.py:2619: FutureWarning:\n",
            "\n",
            "`distplot` is a deprecated function and will be removed in a future version. Please adapt your code to use either `displot` (a figure-level function with similar flexibility) or `histplot` (an axes-level function for histograms).\n",
            "\n",
            "/usr/local/lib/python3.8/dist-packages/seaborn/distributions.py:2619: FutureWarning:\n",
            "\n",
            "`distplot` is a deprecated function and will be removed in a future version. Please adapt your code to use either `displot` (a figure-level function with similar flexibility) or `histplot` (an axes-level function for histograms).\n",
            "\n",
            "/usr/local/lib/python3.8/dist-packages/seaborn/distributions.py:2619: FutureWarning:\n",
            "\n",
            "`distplot` is a deprecated function and will be removed in a future version. Please adapt your code to use either `displot` (a figure-level function with similar flexibility) or `histplot` (an axes-level function for histograms).\n",
            "\n",
            "/usr/local/lib/python3.8/dist-packages/seaborn/distributions.py:2619: FutureWarning:\n",
            "\n",
            "`distplot` is a deprecated function and will be removed in a future version. Please adapt your code to use either `displot` (a figure-level function with similar flexibility) or `histplot` (an axes-level function for histograms).\n",
            "\n"
          ]
        },
        {
          "output_type": "display_data",
          "data": {
            "text/plain": [
              "<Figure size 432x288 with 1 Axes>"
            ],
            "image/png": "[encoded data removed]"
          },
          "metadata": {
            "needs_background": "light"
          }
        },
        {
          "output_type": "display_data",
          "data": {
            "text/plain": [
              "<Figure size 432x288 with 1 Axes>"
            ],
            "image/png": "[encoded data removed]"
          },
          "metadata": {
            "needs_background": "light"
          }
        },
        {
          "output_type": "display_data",
          "data": {
            "text/plain": [
              "<Figure size 432x288 with 1 Axes>"
            ],
            "image/png": "[encoded data removed]"
          },
          "metadata": {
            "needs_background": "light"
          }
        },
        {
          "output_type": "display_data",
          "data": {
            "text/plain": [
              "<Figure size 432x288 with 1 Axes>"
            ],
            "image/png": "[encoded data removed]"
          },
          "metadata": {
            "needs_background": "light"
          }
        },
        {
          "output_type": "display_data",
          "data": {
            "text/plain": [
              "<Figure size 432x288 with 1 Axes>"
            ],
            "image/png": "[encoded data removed]"
          },
          "metadata": {
            "needs_background": "light"
          }
        },
        {
          "output_type": "display_data",
          "data": {
            "text/plain": [
              "<Figure size 432x288 with 1 Axes>"
            ],
            "image/png": "[encoded data removed]"
          },
          "metadata": {
            "needs_background": "light"
          }
        },
        {
          "output_type": "display_data",
          "data": {
            "text/plain": [
              "<Figure size 432x288 with 1 Axes>"
            ],
            "image/png": "[encoded data removed]"
          },
          "metadata": {
            "needs_background": "light"
          }
        },
        {
          "output_type": "display_data",
          "data": {
            "text/plain": [
              "<Figure size 432x288 with 1 Axes>"
            ],
            "image/png": "[encoded data removed]"
          },
          "metadata": {
            "needs_background": "light"
          }
        },
        {
          "output_type": "display_data",
          "data": {
            "text/plain": [
              "<Figure size 432x288 with 1 Axes>"
            ],
            "image/png": "[encoded data removed]"
          },
          "metadata": {
            "needs_background": "light"
          }
        },
        {
          "output_type": "display_data",
          "data": {
            "text/plain": [
              "<Figure size 432x288 with 1 Axes>"
            ],
            "image/png": "[encoded data removed]"
          },
          "metadata": {
            "needs_background": "light"
          }
        },
        {
          "output_type": "display_data",
          "data": {
            "text/plain": [
              "<Figure size 432x288 with 1 Axes>"
            ],
            "image/png": "[encoded data removed]"
          },
          "metadata": {
            "needs_background": "light"
          }
        },
        {
          "output_type": "display_data",
          "data": {
            "text/plain": [
              "<Figure size 432x288 with 1 Axes>"
            ],
            "image/png": "[encoded data removed]"
          },
          "metadata": {
            "needs_background": "light"
          }
        }
      ],
      "source": [
        "plotForContinousFeaturesInDataSet(data)"
      ]
    },
    {
      "cell_type": "code",
      "execution_count": 13,
      "metadata": {
        "colab": {
          "base_uri": "https://localhost:8080/",
          "height": 662
        },
        "id": "s8_nhdI4KQrx",
        "outputId": "e47fa16d-29aa-459a-dea3-5dd7c6916403"
      },
      "outputs": [
        {
          "output_type": "stream",
          "name": "stderr",
          "text": [
            "/usr/local/lib/python3.8/dist-packages/seaborn/distributions.py:2619: FutureWarning:\n",
            "\n",
            "`distplot` is a deprecated function and will be removed in a future version. Please adapt your code to use either `displot` (a figure-level function with similar flexibility) or `histplot` (an axes-level function for histograms).\n",
            "\n"
          ]
        },
        {
          "output_type": "display_data",
          "data": {
            "text/plain": [
              "<Figure size 432x288 with 1 Axes>"
            ],
            "image/png": "[encoded data removed]"
          },
          "metadata": {
            "needs_background": "light"
          }
        },
        {
          "output_type": "display_data",
          "data": {
            "text/plain": [
              "<Figure size 432x288 with 1 Axes>"
            ],
            "image/png": "[encoded data removed]"
          },
          "metadata": {
            "needs_background": "light"
          }
        }
      ],
      "source": [
        "plotForDiscreteFeaturesInDataSet(data)"
      ]
    },
    {
      "cell_type": "markdown",
      "metadata": {
        "id": "Yf3mBfudv6W5"
      },
      "source": [
        "**Data Preprocessing**"
      ]
    },
    {
      "cell_type": "markdown",
      "metadata": {
        "id": "EOTvLDfAwPwA"
      },
      "source": [
        "Using label encoding for the categorical data"
      ]
    },
    {
      "cell_type": "code",
      "execution_count": 14,
      "metadata": {
        "id": "-5OK3Yn5v5iR"
      },
      "outputs": [],
      "source": [
        "def make_label_encoder(original_feature , new_feature) : \n",
        "    enc  = LabelEncoder()\n",
        "    enc.fit(data[original_feature])\n",
        "    data[new_feature] = enc.transform(data[original_feature])\n",
        "    data.drop([original_feature],axis=1, inplace=True)"
      ]
    },
    {
      "cell_type": "code",
      "execution_count": 15,
      "metadata": {
        "id": "hEsYIkBPwCsT"
      },
      "outputs": [],
      "source": [
        "make_label_encoder('REGION', 'REGION_CODE')"
      ]
    },
    {
      "cell_type": "code",
      "execution_count": 16,
      "metadata": {
        "id": "0lU74Z1MwFN_"
      },
      "outputs": [],
      "source": [
        "make_label_encoder('TOP_PACK', 'TOP_PACK_CODE')"
      ]
    },
    {
      "cell_type": "code",
      "execution_count": 17,
      "metadata": {
        "id": "Tvi-Oa66Ng22"
      },
      "outputs": [],
      "source": [
        "data = data.drop(['MRG','user_id'], axis=1)\n",
        "data['TENURE'] = data['TENURE'].map({'K > 24 month': 24, 'I 18-21 month': 18, 'H 15-18 month': 15, 'G 12-15 month':12,\n",
        "                                             'J 21-24 month': 21, 'F 9-12': 9, 'E 6-9 month':6, 'D 3-6 month':3})"
      ]
    },
    {
      "cell_type": "markdown",
      "metadata": {
        "id": "fZoSDPG8wXV-"
      },
      "source": [
        "Replacing the null values with mean"
      ]
    },
    {
      "cell_type": "code",
      "execution_count": 18,
      "metadata": {
        "id": "o3DK2uvyvheq"
      },
      "outputs": [],
      "source": [
        "def replaceDataNullsWithMean(data):\n",
        "    for item in data:\n",
        "        data[item].replace([np.inf, -np.inf,], np.nan, inplace=True)\n",
        "        if item in list(missing.index[missing['null'] > 0]):\n",
        "            data[item].fillna((data[item].mean()), inplace=True)\n",
        "            \n",
        "    return data"
      ]
    },
    {
      "cell_type": "code",
      "execution_count": 19,
      "metadata": {
        "colab": {
          "base_uri": "https://localhost:8080/",
          "height": 488
        },
        "id": "BXEh1AhxwccW",
        "outputId": "f8f291f0-809d-4ada-b5da-99445809dc31"
      },
      "outputs": [
        {
          "output_type": "execute_result",
          "data": {
            "text/plain": [
              "         TENURE       MONTANT  FREQUENCE_RECH       REVENUE  ARPU_SEGMENT  \\\n",
              "0          24.0  20000.000000       47.000000  21602.000000   7201.000000   \n",
              "1          24.0   5529.210895       11.523756   5506.050798   1835.355961   \n",
              "2          24.0   5529.210895       11.523756   5506.050798   1835.355961   \n",
              "3          24.0   7900.000000       19.000000   7896.000000   2632.000000   \n",
              "4          24.0  12350.000000       21.000000  12351.000000   4117.000000   \n",
              "...         ...           ...             ...           ...           ...   \n",
              "1077019    24.0   5529.210895       11.523756   5506.050798   1835.355961   \n",
              "1077020    24.0   2500.000000        5.000000   2500.000000    833.000000   \n",
              "1077021    24.0   5529.210895       11.523756   5506.050798   1835.355961   \n",
              "1077022    24.0    600.000000        1.000000    600.000000    200.000000   \n",
              "1077023    24.0   1500.000000        4.000000   1499.000000    500.000000   \n",
              "\n",
              "         FREQUENCE  DATA_VOLUME       ON_NET      ORANGE        TIGO  \\\n",
              "0        52.000000  8835.000000  3391.000000  396.000000  185.000000   \n",
              "1        13.974439  3368.801722   277.065798   95.160804   23.105018   \n",
              "2        13.974439  3368.801722   277.065798   95.160804   23.105018   \n",
              "3        25.000000  9385.000000    27.000000   46.000000   20.000000   \n",
              "4        29.000000  9360.000000    66.000000  102.000000   34.000000   \n",
              "...            ...          ...          ...         ...         ...   \n",
              "1077019  13.974439  3368.801722   277.065798   95.160804   23.105018   \n",
              "1077020   5.000000     0.000000    15.000000   77.000000   23.105018   \n",
              "1077021  13.974439  3368.801722   277.065798   95.160804   23.105018   \n",
              "1077022   1.000000   591.000000    11.000000   37.000000    5.000000   \n",
              "1077023   5.000000  1265.000000    30.000000    4.000000   23.105018   \n",
              "\n",
              "            ZONE1     ZONE2  REGULARITY  FREQ_TOP_PACK  CHURN  REGION_CODE  \\\n",
              "0        8.167483  7.709844          62      30.000000      0            0   \n",
              "1        8.167483  7.709844           3       9.262446      0           14   \n",
              "2        8.167483  7.709844           1       9.262446      0           14   \n",
              "3        8.167483  2.000000          61       7.000000      0            9   \n",
              "4        8.167483  7.709844          56      11.000000      0            0   \n",
              "...           ...       ...         ...            ...    ...          ...   \n",
              "1077019  8.167483  7.709844          16       9.262446      0           14   \n",
              "1077020  8.167483  7.709844          34       2.000000      0           11   \n",
              "1077021  8.167483  7.709844           3       9.262446      1           14   \n",
              "1077022  1.000000  7.709844          16       1.000000      0           14   \n",
              "1077023  8.167483  0.000000          50       2.000000      0            2   \n",
              "\n",
              "         TOP_PACK_CODE  \n",
              "0                   96  \n",
              "1                  126  \n",
              "2                  126  \n",
              "3                   43  \n",
              "4                   18  \n",
              "...                ...  \n",
              "1077019            126  \n",
              "1077020             18  \n",
              "1077021            126  \n",
              "1077022             20  \n",
              "1077023             96  \n",
              "\n",
              "[1077024 rows x 17 columns]"
            ],
            "text/html": [
              "\n",
              "  <div id=\"df-15ead644-a7db-49cf-850a-3f30d6ae5b31\">\n",
              "    <div class=\"colab-df-container\">\n",
              "      <div>\n",
              "<style scoped>\n",
              "    .dataframe tbody tr th:only-of-type {\n",
              "        vertical-align: middle;\n",
              "    }\n",
              "\n",
              "    .dataframe tbody tr th {\n",
              "        vertical-align: top;\n",
              "    }\n",
              "\n",
              "    .dataframe thead th {\n",
              "        text-align: right;\n",
              "    }\n",
              "</style>\n",
              "<table border=\"1\" class=\"dataframe\">\n",
              "  <thead>\n",
              "    <tr style=\"text-align: right;\">\n",
              "      <th></th>\n",
              "      <th>TENURE</th>\n",
              "      <th>MONTANT</th>\n",
              "      <th>FREQUENCE_RECH</th>\n",
              "      <th>REVENUE</th>\n",
              "      <th>ARPU_SEGMENT</th>\n",
              "      <th>FREQUENCE</th>\n",
              "      <th>DATA_VOLUME</th>\n",
              "      <th>ON_NET</th>\n",
              "      <th>ORANGE</th>\n",
              "      <th>TIGO</th>\n",
              "      <th>ZONE1</th>\n",
              "      <th>ZONE2</th>\n",
              "      <th>REGULARITY</th>\n",
              "      <th>FREQ_TOP_PACK</th>\n",
              "      <th>CHURN</th>\n",
              "      <th>REGION_CODE</th>\n",
              "      <th>TOP_PACK_CODE</th>\n",
              "    </tr>\n",
              "  </thead>\n",
              "  <tbody>\n",
              "    <tr>\n",
              "      <th>0</th>\n",
              "      <td>24.0</td>\n",
              "      <td>20000.000000</td>\n",
              "      <td>47.000000</td>\n",
              "      <td>21602.000000</td>\n",
              "      <td>7201.000000</td>\n",
              "      <td>52.000000</td>\n",
              "      <td>8835.000000</td>\n",
              "      <td>3391.000000</td>\n",
              "      <td>396.000000</td>\n",
              "      <td>185.000000</td>\n",
              "      <td>8.167483</td>\n",
              "      <td>7.709844</td>\n",
              "      <td>62</td>\n",
              "      <td>30.000000</td>\n",
              "      <td>0</td>\n",
              "      <td>0</td>\n",
              "      <td>96</td>\n",
              "    </tr>\n",
              "    <tr>\n",
              "      <th>1</th>\n",
              "      <td>24.0</td>\n",
              "      <td>5529.210895</td>\n",
              "      <td>11.523756</td>\n",
              "      <td>5506.050798</td>\n",
              "      <td>1835.355961</td>\n",
              "      <td>13.974439</td>\n",
              "      <td>3368.801722</td>\n",
              "      <td>277.065798</td>\n",
              "      <td>95.160804</td>\n",
              "      <td>23.105018</td>\n",
              "      <td>8.167483</td>\n",
              "      <td>7.709844</td>\n",
              "      <td>3</td>\n",
              "      <td>9.262446</td>\n",
              "      <td>0</td>\n",
              "      <td>14</td>\n",
              "      <td>126</td>\n",
              "    </tr>\n",
              "    <tr>\n",
              "      <th>2</th>\n",
              "      <td>24.0</td>\n",
              "      <td>5529.210895</td>\n",
              "      <td>11.523756</td>\n",
              "      <td>5506.050798</td>\n",
              "      <td>1835.355961</td>\n",
              "      <td>13.974439</td>\n",
              "      <td>3368.801722</td>\n",
              "      <td>277.065798</td>\n",
              "      <td>95.160804</td>\n",
              "      <td>23.105018</td>\n",
              "      <td>8.167483</td>\n",
              "      <td>7.709844</td>\n",
              "      <td>1</td>\n",
              "      <td>9.262446</td>\n",
              "      <td>0</td>\n",
              "      <td>14</td>\n",
              "      <td>126</td>\n",
              "    </tr>\n",
              "    <tr>\n",
              "      <th>3</th>\n",
              "      <td>24.0</td>\n",
              "      <td>7900.000000</td>\n",
              "      <td>19.000000</td>\n",
              "      <td>7896.000000</td>\n",
              "      <td>2632.000000</td>\n",
              "      <td>25.000000</td>\n",
              "      <td>9385.000000</td>\n",
              "      <td>27.000000</td>\n",
              "      <td>46.000000</td>\n",
              "      <td>20.000000</td>\n",
              "      <td>8.167483</td>\n",
              "      <td>2.000000</td>\n",
              "      <td>61</td>\n",
              "      <td>7.000000</td>\n",
              "      <td>0</td>\n",
              "      <td>9</td>\n",
              "      <td>43</td>\n",
              "    </tr>\n",
              "    <tr>\n",
              "      <th>4</th>\n",
              "      <td>24.0</td>\n",
              "      <td>12350.000000</td>\n",
              "      <td>21.000000</td>\n",
              "      <td>12351.000000</td>\n",
              "      <td>4117.000000</td>\n",
              "      <td>29.000000</td>\n",
              "      <td>9360.000000</td>\n",
              "      <td>66.000000</td>\n",
              "      <td>102.000000</td>\n",
              "      <td>34.000000</td>\n",
              "      <td>8.167483</td>\n",
              "      <td>7.709844</td>\n",
              "      <td>56</td>\n",
              "      <td>11.000000</td>\n",
              "      <td>0</td>\n",
              "      <td>0</td>\n",
              "      <td>18</td>\n",
              "    </tr>\n",
              "    <tr>\n",
              "      <th>...</th>\n",
              "      <td>...</td>\n",
              "      <td>...</td>\n",
              "      <td>...</td>\n",
              "      <td>...</td>\n",
              "      <td>...</td>\n",
              "      <td>...</td>\n",
              "      <td>...</td>\n",
              "      <td>...</td>\n",
              "      <td>...</td>\n",
              "      <td>...</td>\n",
              "      <td>...</td>\n",
              "      <td>...</td>\n",
              "      <td>...</td>\n",
              "      <td>...</td>\n",
              "      <td>...</td>\n",
              "      <td>...</td>\n",
              "      <td>...</td>\n",
              "    </tr>\n",
              "    <tr>\n",
              "      <th>1077019</th>\n",
              "      <td>24.0</td>\n",
              "      <td>5529.210895</td>\n",
              "      <td>11.523756</td>\n",
              "      <td>5506.050798</td>\n",
              "      <td>1835.355961</td>\n",
              "      <td>13.974439</td>\n",
              "      <td>3368.801722</td>\n",
              "      <td>277.065798</td>\n",
              "      <td>95.160804</td>\n",
              "      <td>23.105018</td>\n",
              "      <td>8.167483</td>\n",
              "      <td>7.709844</td>\n",
              "      <td>16</td>\n",
              "      <td>9.262446</td>\n",
              "      <td>0</td>\n",
              "      <td>14</td>\n",
              "      <td>126</td>\n",
              "    </tr>\n",
              "    <tr>\n",
              "      <th>1077020</th>\n",
              "      <td>24.0</td>\n",
              "      <td>2500.000000</td>\n",
              "      <td>5.000000</td>\n",
              "      <td>2500.000000</td>\n",
              "      <td>833.000000</td>\n",
              "      <td>5.000000</td>\n",
              "      <td>0.000000</td>\n",
              "      <td>15.000000</td>\n",
              "      <td>77.000000</td>\n",
              "      <td>23.105018</td>\n",
              "      <td>8.167483</td>\n",
              "      <td>7.709844</td>\n",
              "      <td>34</td>\n",
              "      <td>2.000000</td>\n",
              "      <td>0</td>\n",
              "      <td>11</td>\n",
              "      <td>18</td>\n",
              "    </tr>\n",
              "    <tr>\n",
              "      <th>1077021</th>\n",
              "      <td>24.0</td>\n",
              "      <td>5529.210895</td>\n",
              "      <td>11.523756</td>\n",
              "      <td>5506.050798</td>\n",
              "      <td>1835.355961</td>\n",
              "      <td>13.974439</td>\n",
              "      <td>3368.801722</td>\n",
              "      <td>277.065798</td>\n",
              "      <td>95.160804</td>\n",
              "      <td>23.105018</td>\n",
              "      <td>8.167483</td>\n",
              "      <td>7.709844</td>\n",
              "      <td>3</td>\n",
              "      <td>9.262446</td>\n",
              "      <td>1</td>\n",
              "      <td>14</td>\n",
              "      <td>126</td>\n",
              "    </tr>\n",
              "    <tr>\n",
              "      <th>1077022</th>\n",
              "      <td>24.0</td>\n",
              "      <td>600.000000</td>\n",
              "      <td>1.000000</td>\n",
              "      <td>600.000000</td>\n",
              "      <td>200.000000</td>\n",
              "      <td>1.000000</td>\n",
              "      <td>591.000000</td>\n",
              "      <td>11.000000</td>\n",
              "      <td>37.000000</td>\n",
              "      <td>5.000000</td>\n",
              "      <td>1.000000</td>\n",
              "      <td>7.709844</td>\n",
              "      <td>16</td>\n",
              "      <td>1.000000</td>\n",
              "      <td>0</td>\n",
              "      <td>14</td>\n",
              "      <td>20</td>\n",
              "    </tr>\n",
              "    <tr>\n",
              "      <th>1077023</th>\n",
              "      <td>24.0</td>\n",
              "      <td>1500.000000</td>\n",
              "      <td>4.000000</td>\n",
              "      <td>1499.000000</td>\n",
              "      <td>500.000000</td>\n",
              "      <td>5.000000</td>\n",
              "      <td>1265.000000</td>\n",
              "      <td>30.000000</td>\n",
              "      <td>4.000000</td>\n",
              "      <td>23.105018</td>\n",
              "      <td>8.167483</td>\n",
              "      <td>0.000000</td>\n",
              "      <td>50</td>\n",
              "      <td>2.000000</td>\n",
              "      <td>0</td>\n",
              "      <td>2</td>\n",
              "      <td>96</td>\n",
              "    </tr>\n",
              "  </tbody>\n",
              "</table>\n",
              "<p>1077024 rows × 17 columns</p>\n",
              "</div>\n",
              "      <button class=\"colab-df-convert\" onclick=\"convertToInteractive('df-15ead644-a7db-49cf-850a-3f30d6ae5b31')\"\n",
              "              title=\"Convert this dataframe to an interactive table.\"\n",
              "              style=\"display:none;\">\n",
              "        \n",
              "  <svg xmlns=\"http://www.w3.org/2000/svg\" height=\"24px\"viewBox=\"0 0 24 24\"\n",
              "       width=\"24px\">\n",
              "    <path d=\"M0 0h24v24H0V0z\" fill=\"none\"/>\n",
              "    <path d=\"M18.56 5.44l.94 2.06.94-2.06 2.06-.94-2.06-.94-.94-2.06-.94 2.06-2.06.94zm-11 1L8.5 8.5l.94-2.06 2.06-.94-2.06-.94L8.5 2.5l-.94 2.06-2.06.94zm10 10l.94 2.06.94-2.06 2.06-.94-2.06-.94-.94-2.06-.94 2.06-2.06.94z\"/><path d=\"M17.41 7.96l-1.37-1.37c-.4-.4-.92-.59-1.43-.59-.52 0-1.04.2-1.43.59L10.3 9.45l-7.72 7.72c-.78.78-.78 2.05 0 2.83L4 21.41c.39.39.9.59 1.41.59.51 0 1.02-.2 1.41-.59l7.78-7.78 2.81-2.81c.8-.78.8-2.07 0-2.86zM5.41 20L4 18.59l7.72-7.72 1.47 1.35L5.41 20z\"/>\n",
              "  </svg>\n",
              "      </button>\n",
              "      \n",
              "  <style>\n",
              "    .colab-df-container {\n",
              "      display:flex;\n",
              "      flex-wrap:wrap;\n",
              "      gap: 12px;\n",
              "    }\n",
              "\n",
              "    .colab-df-convert {\n",
              "      background-color: #E8F0FE;\n",
              "      border: none;\n",
              "      border-radius: 50%;\n",
              "      cursor: pointer;\n",
              "      display: none;\n",
              "      fill: #1967D2;\n",
              "      height: 32px;\n",
              "      padding: 0 0 0 0;\n",
              "      width: 32px;\n",
              "    }\n",
              "\n",
              "    .colab-df-convert:hover {\n",
              "      background-color: #E2EBFA;\n",
              "      box-shadow: 0px 1px 2px rgba(60, 64, 67, 0.3), 0px 1px 3px 1px rgba(60, 64, 67, 0.15);\n",
              "      fill: #174EA6;\n",
              "    }\n",
              "\n",
              "    [theme=dark] .colab-df-convert {\n",
              "      background-color: #3B4455;\n",
              "      fill: #D2E3FC;\n",
              "    }\n",
              "\n",
              "    [theme=dark] .colab-df-convert:hover {\n",
              "      background-color: #434B5C;\n",
              "      box-shadow: 0px 1px 3px 1px rgba(0, 0, 0, 0.15);\n",
              "      filter: drop-shadow(0px 1px 2px rgba(0, 0, 0, 0.3));\n",
              "      fill: #FFFFFF;\n",
              "    }\n",
              "  </style>\n",
              "\n",
              "      <script>\n",
              "        const buttonEl =\n",
              "          document.querySelector('#df-15ead644-a7db-49cf-850a-3f30d6ae5b31 button.colab-df-convert');\n",
              "        buttonEl.style.display =\n",
              "          google.colab.kernel.accessAllowed ? 'block' : 'none';\n",
              "\n",
              "        async function convertToInteractive(key) {\n",
              "          const element = document.querySelector('#df-15ead644-a7db-49cf-850a-3f30d6ae5b31');\n",
              "          const dataTable =\n",
              "            await google.colab.kernel.invokeFunction('convertToInteractive',\n",
              "                                                     [key], {});\n",
              "          if (!dataTable) return;\n",
              "\n",
              "          const docLinkHtml = 'Like what you see? Visit the ' +\n",
              "            '<a target=\"_blank\" href=https://colab.research.google.com/notebooks/data_table.ipynb>data table notebook</a>'\n",
              "            + ' to learn more about interactive tables.';\n",
              "          element.innerHTML = '';\n",
              "          dataTable['output_type'] = 'display_data';\n",
              "          await google.colab.output.renderOutput(dataTable, element);\n",
              "          const docLink = document.createElement('div');\n",
              "          docLink.innerHTML = docLinkHtml;\n",
              "          element.appendChild(docLink);\n",
              "        }\n",
              "      </script>\n",
              "    </div>\n",
              "  </div>\n",
              "  "
            ]
          },
          "metadata": {},
          "execution_count": 19
        }
      ],
      "source": [
        "replaceDataNullsWithMean(data)"
      ]
    },
    {
      "cell_type": "code",
      "execution_count": 20,
      "metadata": {
        "id": "pt0_mxaNwiZ3"
      },
      "outputs": [],
      "source": [
        "data = data.reset_index()"
      ]
    },
    {
      "cell_type": "code",
      "execution_count": 21,
      "metadata": {
        "id": "e9Ilk86LwjMF"
      },
      "outputs": [],
      "source": [
        "def clean_dataset(df):\n",
        "    assert isinstance(df, pd.DataFrame), \"df needs to be a pd.DataFrame\"\n",
        "    df.dropna(inplace=True)\n",
        "    indices_to_keep = ~df.isin([np.nan, np.inf, -np.inf]).any(1)\n",
        "    return df[indices_to_keep].astype(np.float64)"
      ]
    },
    {
      "cell_type": "code",
      "execution_count": 22,
      "metadata": {
        "colab": {
          "base_uri": "https://localhost:8080/",
          "height": 488
        },
        "id": "Cvwfs-mQO9Bc",
        "outputId": "6fdf10e6-3efa-4bf5-84e0-57ad0fc7c571"
      },
      "outputs": [
        {
          "output_type": "execute_result",
          "data": {
            "text/plain": [
              "             index  TENURE       MONTANT  FREQUENCE_RECH       REVENUE  \\\n",
              "0              0.0    24.0  20000.000000       47.000000  21602.000000   \n",
              "1              1.0    24.0   5529.210895       11.523756   5506.050798   \n",
              "2              2.0    24.0   5529.210895       11.523756   5506.050798   \n",
              "3              3.0    24.0   7900.000000       19.000000   7896.000000   \n",
              "4              4.0    24.0  12350.000000       21.000000  12351.000000   \n",
              "...            ...     ...           ...             ...           ...   \n",
              "1077019  1077019.0    24.0   5529.210895       11.523756   5506.050798   \n",
              "1077020  1077020.0    24.0   2500.000000        5.000000   2500.000000   \n",
              "1077021  1077021.0    24.0   5529.210895       11.523756   5506.050798   \n",
              "1077022  1077022.0    24.0    600.000000        1.000000    600.000000   \n",
              "1077023  1077023.0    24.0   1500.000000        4.000000   1499.000000   \n",
              "\n",
              "         ARPU_SEGMENT  FREQUENCE  DATA_VOLUME       ON_NET      ORANGE  \\\n",
              "0         7201.000000  52.000000  8835.000000  3391.000000  396.000000   \n",
              "1         1835.355961  13.974439  3368.801722   277.065798   95.160804   \n",
              "2         1835.355961  13.974439  3368.801722   277.065798   95.160804   \n",
              "3         2632.000000  25.000000  9385.000000    27.000000   46.000000   \n",
              "4         4117.000000  29.000000  9360.000000    66.000000  102.000000   \n",
              "...               ...        ...          ...          ...         ...   \n",
              "1077019   1835.355961  13.974439  3368.801722   277.065798   95.160804   \n",
              "1077020    833.000000   5.000000     0.000000    15.000000   77.000000   \n",
              "1077021   1835.355961  13.974439  3368.801722   277.065798   95.160804   \n",
              "1077022    200.000000   1.000000   591.000000    11.000000   37.000000   \n",
              "1077023    500.000000   5.000000  1265.000000    30.000000    4.000000   \n",
              "\n",
              "               TIGO     ZONE1     ZONE2  REGULARITY  FREQ_TOP_PACK  CHURN  \\\n",
              "0        185.000000  8.167483  7.709844        62.0      30.000000    0.0   \n",
              "1         23.105018  8.167483  7.709844         3.0       9.262446    0.0   \n",
              "2         23.105018  8.167483  7.709844         1.0       9.262446    0.0   \n",
              "3         20.000000  8.167483  2.000000        61.0       7.000000    0.0   \n",
              "4         34.000000  8.167483  7.709844        56.0      11.000000    0.0   \n",
              "...             ...       ...       ...         ...            ...    ...   \n",
              "1077019   23.105018  8.167483  7.709844        16.0       9.262446    0.0   \n",
              "1077020   23.105018  8.167483  7.709844        34.0       2.000000    0.0   \n",
              "1077021   23.105018  8.167483  7.709844         3.0       9.262446    1.0   \n",
              "1077022    5.000000  1.000000  7.709844        16.0       1.000000    0.0   \n",
              "1077023   23.105018  8.167483  0.000000        50.0       2.000000    0.0   \n",
              "\n",
              "         REGION_CODE  TOP_PACK_CODE  \n",
              "0                0.0           96.0  \n",
              "1               14.0          126.0  \n",
              "2               14.0          126.0  \n",
              "3                9.0           43.0  \n",
              "4                0.0           18.0  \n",
              "...              ...            ...  \n",
              "1077019         14.0          126.0  \n",
              "1077020         11.0           18.0  \n",
              "1077021         14.0          126.0  \n",
              "1077022         14.0           20.0  \n",
              "1077023          2.0           96.0  \n",
              "\n",
              "[1072420 rows x 18 columns]"
            ],
            "text/html": [
              "\n",
              "  <div id=\"df-1aaf5a8f-3f4f-4aa5-8bbd-496a6019da22\">\n",
              "    <div class=\"colab-df-container\">\n",
              "      <div>\n",
              "<style scoped>\n",
              "    .dataframe tbody tr th:only-of-type {\n",
              "        vertical-align: middle;\n",
              "    }\n",
              "\n",
              "    .dataframe tbody tr th {\n",
              "        vertical-align: top;\n",
              "    }\n",
              "\n",
              "    .dataframe thead th {\n",
              "        text-align: right;\n",
              "    }\n",
              "</style>\n",
              "<table border=\"1\" class=\"dataframe\">\n",
              "  <thead>\n",
              "    <tr style=\"text-align: right;\">\n",
              "      <th></th>\n",
              "      <th>index</th>\n",
              "      <th>TENURE</th>\n",
              "      <th>MONTANT</th>\n",
              "      <th>FREQUENCE_RECH</th>\n",
              "      <th>REVENUE</th>\n",
              "      <th>ARPU_SEGMENT</th>\n",
              "      <th>FREQUENCE</th>\n",
              "      <th>DATA_VOLUME</th>\n",
              "      <th>ON_NET</th>\n",
              "      <th>ORANGE</th>\n",
              "      <th>TIGO</th>\n",
              "      <th>ZONE1</th>\n",
              "      <th>ZONE2</th>\n",
              "      <th>REGULARITY</th>\n",
              "      <th>FREQ_TOP_PACK</th>\n",
              "      <th>CHURN</th>\n",
              "      <th>REGION_CODE</th>\n",
              "      <th>TOP_PACK_CODE</th>\n",
              "    </tr>\n",
              "  </thead>\n",
              "  <tbody>\n",
              "    <tr>\n",
              "      <th>0</th>\n",
              "      <td>0.0</td>\n",
              "      <td>24.0</td>\n",
              "      <td>20000.000000</td>\n",
              "      <td>47.000000</td>\n",
              "      <td>21602.000000</td>\n",
              "      <td>7201.000000</td>\n",
              "      <td>52.000000</td>\n",
              "      <td>8835.000000</td>\n",
              "      <td>3391.000000</td>\n",
              "      <td>396.000000</td>\n",
              "      <td>185.000000</td>\n",
              "      <td>8.167483</td>\n",
              "      <td>7.709844</td>\n",
              "      <td>62.0</td>\n",
              "      <td>30.000000</td>\n",
              "      <td>0.0</td>\n",
              "      <td>0.0</td>\n",
              "      <td>96.0</td>\n",
              "    </tr>\n",
              "    <tr>\n",
              "      <th>1</th>\n",
              "      <td>1.0</td>\n",
              "      <td>24.0</td>\n",
              "      <td>5529.210895</td>\n",
              "      <td>11.523756</td>\n",
              "      <td>5506.050798</td>\n",
              "      <td>1835.355961</td>\n",
              "      <td>13.974439</td>\n",
              "      <td>3368.801722</td>\n",
              "      <td>277.065798</td>\n",
              "      <td>95.160804</td>\n",
              "      <td>23.105018</td>\n",
              "      <td>8.167483</td>\n",
              "      <td>7.709844</td>\n",
              "      <td>3.0</td>\n",
              "      <td>9.262446</td>\n",
              "      <td>0.0</td>\n",
              "      <td>14.0</td>\n",
              "      <td>126.0</td>\n",
              "    </tr>\n",
              "    <tr>\n",
              "      <th>2</th>\n",
              "      <td>2.0</td>\n",
              "      <td>24.0</td>\n",
              "      <td>5529.210895</td>\n",
              "      <td>11.523756</td>\n",
              "      <td>5506.050798</td>\n",
              "      <td>1835.355961</td>\n",
              "      <td>13.974439</td>\n",
              "      <td>3368.801722</td>\n",
              "      <td>277.065798</td>\n",
              "      <td>95.160804</td>\n",
              "      <td>23.105018</td>\n",
              "      <td>8.167483</td>\n",
              "      <td>7.709844</td>\n",
              "      <td>1.0</td>\n",
              "      <td>9.262446</td>\n",
              "      <td>0.0</td>\n",
              "      <td>14.0</td>\n",
              "      <td>126.0</td>\n",
              "    </tr>\n",
              "    <tr>\n",
              "      <th>3</th>\n",
              "      <td>3.0</td>\n",
              "      <td>24.0</td>\n",
              "      <td>7900.000000</td>\n",
              "      <td>19.000000</td>\n",
              "      <td>7896.000000</td>\n",
              "      <td>2632.000000</td>\n",
              "      <td>25.000000</td>\n",
              "      <td>9385.000000</td>\n",
              "      <td>27.000000</td>\n",
              "      <td>46.000000</td>\n",
              "      <td>20.000000</td>\n",
              "      <td>8.167483</td>\n",
              "      <td>2.000000</td>\n",
              "      <td>61.0</td>\n",
              "      <td>7.000000</td>\n",
              "      <td>0.0</td>\n",
              "      <td>9.0</td>\n",
              "      <td>43.0</td>\n",
              "    </tr>\n",
              "    <tr>\n",
              "      <th>4</th>\n",
              "      <td>4.0</td>\n",
              "      <td>24.0</td>\n",
              "      <td>12350.000000</td>\n",
              "      <td>21.000000</td>\n",
              "      <td>12351.000000</td>\n",
              "      <td>4117.000000</td>\n",
              "      <td>29.000000</td>\n",
              "      <td>9360.000000</td>\n",
              "      <td>66.000000</td>\n",
              "      <td>102.000000</td>\n",
              "      <td>34.000000</td>\n",
              "      <td>8.167483</td>\n",
              "      <td>7.709844</td>\n",
              "      <td>56.0</td>\n",
              "      <td>11.000000</td>\n",
              "      <td>0.0</td>\n",
              "      <td>0.0</td>\n",
              "      <td>18.0</td>\n",
              "    </tr>\n",
              "    <tr>\n",
              "      <th>...</th>\n",
              "      <td>...</td>\n",
              "      <td>...</td>\n",
              "      <td>...</td>\n",
              "      <td>...</td>\n",
              "      <td>...</td>\n",
              "      <td>...</td>\n",
              "      <td>...</td>\n",
              "      <td>...</td>\n",
              "      <td>...</td>\n",
              "      <td>...</td>\n",
              "      <td>...</td>\n",
              "      <td>...</td>\n",
              "      <td>...</td>\n",
              "      <td>...</td>\n",
              "      <td>...</td>\n",
              "      <td>...</td>\n",
              "      <td>...</td>\n",
              "      <td>...</td>\n",
              "    </tr>\n",
              "    <tr>\n",
              "      <th>1077019</th>\n",
              "      <td>1077019.0</td>\n",
              "      <td>24.0</td>\n",
              "      <td>5529.210895</td>\n",
              "      <td>11.523756</td>\n",
              "      <td>5506.050798</td>\n",
              "      <td>1835.355961</td>\n",
              "      <td>13.974439</td>\n",
              "      <td>3368.801722</td>\n",
              "      <td>277.065798</td>\n",
              "      <td>95.160804</td>\n",
              "      <td>23.105018</td>\n",
              "      <td>8.167483</td>\n",
              "      <td>7.709844</td>\n",
              "      <td>16.0</td>\n",
              "      <td>9.262446</td>\n",
              "      <td>0.0</td>\n",
              "      <td>14.0</td>\n",
              "      <td>126.0</td>\n",
              "    </tr>\n",
              "    <tr>\n",
              "      <th>1077020</th>\n",
              "      <td>1077020.0</td>\n",
              "      <td>24.0</td>\n",
              "      <td>2500.000000</td>\n",
              "      <td>5.000000</td>\n",
              "      <td>2500.000000</td>\n",
              "      <td>833.000000</td>\n",
              "      <td>5.000000</td>\n",
              "      <td>0.000000</td>\n",
              "      <td>15.000000</td>\n",
              "      <td>77.000000</td>\n",
              "      <td>23.105018</td>\n",
              "      <td>8.167483</td>\n",
              "      <td>7.709844</td>\n",
              "      <td>34.0</td>\n",
              "      <td>2.000000</td>\n",
              "      <td>0.0</td>\n",
              "      <td>11.0</td>\n",
              "      <td>18.0</td>\n",
              "    </tr>\n",
              "    <tr>\n",
              "      <th>1077021</th>\n",
              "      <td>1077021.0</td>\n",
              "      <td>24.0</td>\n",
              "      <td>5529.210895</td>\n",
              "      <td>11.523756</td>\n",
              "      <td>5506.050798</td>\n",
              "      <td>1835.355961</td>\n",
              "      <td>13.974439</td>\n",
              "      <td>3368.801722</td>\n",
              "      <td>277.065798</td>\n",
              "      <td>95.160804</td>\n",
              "      <td>23.105018</td>\n",
              "      <td>8.167483</td>\n",
              "      <td>7.709844</td>\n",
              "      <td>3.0</td>\n",
              "      <td>9.262446</td>\n",
              "      <td>1.0</td>\n",
              "      <td>14.0</td>\n",
              "      <td>126.0</td>\n",
              "    </tr>\n",
              "    <tr>\n",
              "      <th>1077022</th>\n",
              "      <td>1077022.0</td>\n",
              "      <td>24.0</td>\n",
              "      <td>600.000000</td>\n",
              "      <td>1.000000</td>\n",
              "      <td>600.000000</td>\n",
              "      <td>200.000000</td>\n",
              "      <td>1.000000</td>\n",
              "      <td>591.000000</td>\n",
              "      <td>11.000000</td>\n",
              "      <td>37.000000</td>\n",
              "      <td>5.000000</td>\n",
              "      <td>1.000000</td>\n",
              "      <td>7.709844</td>\n",
              "      <td>16.0</td>\n",
              "      <td>1.000000</td>\n",
              "      <td>0.0</td>\n",
              "      <td>14.0</td>\n",
              "      <td>20.0</td>\n",
              "    </tr>\n",
              "    <tr>\n",
              "      <th>1077023</th>\n",
              "      <td>1077023.0</td>\n",
              "      <td>24.0</td>\n",
              "      <td>1500.000000</td>\n",
              "      <td>4.000000</td>\n",
              "      <td>1499.000000</td>\n",
              "      <td>500.000000</td>\n",
              "      <td>5.000000</td>\n",
              "      <td>1265.000000</td>\n",
              "      <td>30.000000</td>\n",
              "      <td>4.000000</td>\n",
              "      <td>23.105018</td>\n",
              "      <td>8.167483</td>\n",
              "      <td>0.000000</td>\n",
              "      <td>50.0</td>\n",
              "      <td>2.000000</td>\n",
              "      <td>0.0</td>\n",
              "      <td>2.0</td>\n",
              "      <td>96.0</td>\n",
              "    </tr>\n",
              "  </tbody>\n",
              "</table>\n",
              "<p>1072420 rows × 18 columns</p>\n",
              "</div>\n",
              "      <button class=\"colab-df-convert\" onclick=\"convertToInteractive('df-1aaf5a8f-3f4f-4aa5-8bbd-496a6019da22')\"\n",
              "              title=\"Convert this dataframe to an interactive table.\"\n",
              "              style=\"display:none;\">\n",
              "        \n",
              "  <svg xmlns=\"http://www.w3.org/2000/svg\" height=\"24px\"viewBox=\"0 0 24 24\"\n",
              "       width=\"24px\">\n",
              "    <path d=\"M0 0h24v24H0V0z\" fill=\"none\"/>\n",
              "    <path d=\"M18.56 5.44l.94 2.06.94-2.06 2.06-.94-2.06-.94-.94-2.06-.94 2.06-2.06.94zm-11 1L8.5 8.5l.94-2.06 2.06-.94-2.06-.94L8.5 2.5l-.94 2.06-2.06.94zm10 10l.94 2.06.94-2.06 2.06-.94-2.06-.94-.94-2.06-.94 2.06-2.06.94z\"/><path d=\"M17.41 7.96l-1.37-1.37c-.4-.4-.92-.59-1.43-.59-.52 0-1.04.2-1.43.59L10.3 9.45l-7.72 7.72c-.78.78-.78 2.05 0 2.83L4 21.41c.39.39.9.59 1.41.59.51 0 1.02-.2 1.41-.59l7.78-7.78 2.81-2.81c.8-.78.8-2.07 0-2.86zM5.41 20L4 18.59l7.72-7.72 1.47 1.35L5.41 20z\"/>\n",
              "  </svg>\n",
              "      </button>\n",
              "      \n",
              "  <style>\n",
              "    .colab-df-container {\n",
              "      display:flex;\n",
              "      flex-wrap:wrap;\n",
              "      gap: 12px;\n",
              "    }\n",
              "\n",
              "    .colab-df-convert {\n",
              "      background-color: #E8F0FE;\n",
              "      border: none;\n",
              "      border-radius: 50%;\n",
              "      cursor: pointer;\n",
              "      display: none;\n",
              "      fill: #1967D2;\n",
              "      height: 32px;\n",
              "      padding: 0 0 0 0;\n",
              "      width: 32px;\n",
              "    }\n",
              "\n",
              "    .colab-df-convert:hover {\n",
              "      background-color: #E2EBFA;\n",
              "      box-shadow: 0px 1px 2px rgba(60, 64, 67, 0.3), 0px 1px 3px 1px rgba(60, 64, 67, 0.15);\n",
              "      fill: #174EA6;\n",
              "    }\n",
              "\n",
              "    [theme=dark] .colab-df-convert {\n",
              "      background-color: #3B4455;\n",
              "      fill: #D2E3FC;\n",
              "    }\n",
              "\n",
              "    [theme=dark] .colab-df-convert:hover {\n",
              "      background-color: #434B5C;\n",
              "      box-shadow: 0px 1px 3px 1px rgba(0, 0, 0, 0.15);\n",
              "      filter: drop-shadow(0px 1px 2px rgba(0, 0, 0, 0.3));\n",
              "      fill: #FFFFFF;\n",
              "    }\n",
              "  </style>\n",
              "\n",
              "      <script>\n",
              "        const buttonEl =\n",
              "          document.querySelector('#df-1aaf5a8f-3f4f-4aa5-8bbd-496a6019da22 button.colab-df-convert');\n",
              "        buttonEl.style.display =\n",
              "          google.colab.kernel.accessAllowed ? 'block' : 'none';\n",
              "\n",
              "        async function convertToInteractive(key) {\n",
              "          const element = document.querySelector('#df-1aaf5a8f-3f4f-4aa5-8bbd-496a6019da22');\n",
              "          const dataTable =\n",
              "            await google.colab.kernel.invokeFunction('convertToInteractive',\n",
              "                                                     [key], {});\n",
              "          if (!dataTable) return;\n",
              "\n",
              "          const docLinkHtml = 'Like what you see? Visit the ' +\n",
              "            '<a target=\"_blank\" href=https://colab.research.google.com/notebooks/data_table.ipynb>data table notebook</a>'\n",
              "            + ' to learn more about interactive tables.';\n",
              "          element.innerHTML = '';\n",
              "          dataTable['output_type'] = 'display_data';\n",
              "          await google.colab.output.renderOutput(dataTable, element);\n",
              "          const docLink = document.createElement('div');\n",
              "          docLink.innerHTML = docLinkHtml;\n",
              "          element.appendChild(docLink);\n",
              "        }\n",
              "      </script>\n",
              "    </div>\n",
              "  </div>\n",
              "  "
            ]
          },
          "metadata": {},
          "execution_count": 22
        }
      ],
      "source": [
        "clean_dataset(data)"
      ]
    },
    {
      "cell_type": "code",
      "execution_count": 23,
      "metadata": {
        "colab": {
          "base_uri": "https://localhost:8080/",
          "height": 486
        },
        "id": "Du-cjqDtLF0l",
        "outputId": "cd371c93-3cdf-4c5d-bc28-378c19d97118"
      },
      "outputs": [
        {
          "output_type": "stream",
          "name": "stdout",
          "text": [
            "Data Information Table\n",
            "<class 'pandas.core.frame.DataFrame'>\n",
            "Int64Index: 1072420 entries, 0 to 1077023\n",
            "Data columns (total 18 columns):\n",
            " #   Column          Non-Null Count    Dtype  \n",
            "---  ------          --------------    -----  \n",
            " 0   index           1072420 non-null  int64  \n",
            " 1   TENURE          1072420 non-null  float64\n",
            " 2   MONTANT         1072420 non-null  float64\n",
            " 3   FREQUENCE_RECH  1072420 non-null  float64\n",
            " 4   REVENUE         1072420 non-null  float64\n",
            " 5   ARPU_SEGMENT    1072420 non-null  float64\n",
            " 6   FREQUENCE       1072420 non-null  float64\n",
            " 7   DATA_VOLUME     1072420 non-null  float64\n",
            " 8   ON_NET          1072420 non-null  float64\n",
            " 9   ORANGE          1072420 non-null  float64\n",
            " 10  TIGO            1072420 non-null  float64\n",
            " 11  ZONE1           1072420 non-null  float64\n",
            " 12  ZONE2           1072420 non-null  float64\n",
            " 13  REGULARITY      1072420 non-null  int64  \n",
            " 14  FREQ_TOP_PACK   1072420 non-null  float64\n",
            " 15  CHURN           1072420 non-null  int64  \n",
            " 16  REGION_CODE     1072420 non-null  int64  \n",
            " 17  TOP_PACK_CODE   1072420 non-null  int64  \n",
            "dtypes: float64(13), int64(5)\n",
            "memory usage: 155.5 MB\n"
          ]
        },
        {
          "output_type": "display_data",
          "data": {
            "text/plain": [
              "None"
            ]
          },
          "metadata": {}
        }
      ],
      "source": [
        "print('Data Information Table')\n",
        "display(data.info(verbose = True,show_counts=True))"
      ]
    },
    {
      "cell_type": "markdown",
      "metadata": {
        "id": "GroWN_Kiwwyt"
      },
      "source": [
        "Splitting data into train set(75%) and test set (25%)"
      ]
    },
    {
      "cell_type": "code",
      "execution_count": 24,
      "metadata": {
        "id": "ziKpT-hMweZN"
      },
      "outputs": [],
      "source": [
        "xData = data.drop(['CHURN'], axis = 1)\n",
        "yData = data.CHURN\n",
        "x_train,x_test,y_train,y_test = train_test_split(xData, yData,test_size=0.25, random_state=42, shuffle=True, stratify=yData)"
      ]
    },
    {
      "cell_type": "code",
      "execution_count": 25,
      "metadata": {
        "id": "NYAYeew7LSDK"
      },
      "outputs": [],
      "source": [
        "stdScaler = StandardScaler()\n",
        "x_train_scaled = stdScaler.fit_transform(x_train)\n",
        "x_test_scaled = stdScaler.transform(x_test)"
      ]
    },
    {
      "cell_type": "code",
      "execution_count": 26,
      "metadata": {
        "id": "BTW4cWw5wLAv"
      },
      "outputs": [],
      "source": [
        "#undersampler = RandomUnderSampler()\n",
        "#oversampler = RandomOverSampler()\n",
        "#smote = SMOTE()\n",
        "sme = SMOTEENN(random_state=42)\n",
        "smt = SMOTETomek(random_state=42)\n",
        "#samplers = [undersampler, oversampler, smote]\n",
        "samplers = [smt,sme]\n",
        "model = LogisticRegression()\n",
        "def train_model_on_sampling_techniques(model, samplers, x_train, y_train):\n",
        "    for sampler in samplers:\n",
        "        x_train_samp, y_train_samp = sampler.fit_resample(x_train, y_train)\n",
        "        pipeline = make_pipeline(StandardScaler(), model)\n",
        "        scores = cross_val_score(pipeline, x_train_samp, y_train_samp, scoring='recall')\n",
        "        print(\"The recall score for LR using {0} is {1} (+/- {2})\".format(str(sampler), round(scores.mean(), 3), round(scores.std(), 2)))"
      ]
    },
    {
      "cell_type": "code",
      "execution_count": 27,
      "metadata": {
        "id": "PfNCfgI_wmnN"
      },
      "outputs": [],
      "source": [
        "#train_model_on_sampling_techniques(model, samplers, x_train, y_train)"
      ]
    },
    {
      "cell_type": "code",
      "execution_count": 28,
      "metadata": {
        "id": "U20-MGyPwpP9"
      },
      "outputs": [],
      "source": [
        "#x_train_samp, y_train_samp = smote.fit_resample(x_train, y_train)\n",
        "#x_train_ovr, y_train_ovr = oversampler.fit_resample(x_train, y_train)\n",
        "#x_train_und, y_train_und = undersampler.fit_resample(x_train, y_train)\n",
        "\n",
        "#x_train_sme, y_train_sme = sme.fit_resample(x_train, y_train)\n",
        "#x_train_smt, y_train_smt = smt.fit_resample(x_train, y_train)"
      ]
    },
    {
      "cell_type": "markdown",
      "source": [
        "## Feature Importance \n",
        "\n",
        "Before fitting the training dataset, we need to identify the most important feature in our dataset.\n",
        "\n",
        "We will use Random Forest Classifier to determine the most important feature."
      ],
      "metadata": {
        "id": "S6-3J76WEwo2"
      }
    },
    {
      "cell_type": "code",
      "source": [
        "# import Random Forest classifier\n",
        "\n",
        "from sklearn.ensemble import RandomForestClassifier\n",
        "\n",
        "# instantiate the classifier \n",
        "# create the classifier with n_estimators = 100\n",
        "\n",
        "clf = RandomForestClassifier(n_estimators=100,random_state=0)\n"
      ],
      "metadata": {
        "id": "TPusR5mcGI_k"
      },
      "execution_count": 29,
      "outputs": []
    },
    {
      "cell_type": "code",
      "source": [
        "# fit the model to the training set\n",
        "\n",
        "clf.fit(x_train, y_train)"
      ],
      "metadata": {
        "id": "CzkpbpJsGVTU"
      },
      "execution_count": null,
      "outputs": []
    },
    {
      "cell_type": "markdown",
      "source": [
        "Now, I will use the feature importance variable to see feature importance scores."
      ],
      "metadata": {
        "id": "1wTKvps_GXsC"
      }
    },
    {
      "cell_type": "code",
      "source": [
        "# view the feature scores\n",
        "\n",
        "feature_scores = pd.Series(clf.feature_importances_, index=x_train.columns).sort_values(ascending=False)\n",
        "\n",
        "feature_scores\n",
        "     "
      ],
      "metadata": {
        "id": "Kz1SYw0ZGaoh"
      },
      "execution_count": null,
      "outputs": []
    },
    {
      "cell_type": "code",
      "source": [
        "df = pd.DataFrame(feature_scores)\n",
        "df.plot(kind='bar')\n",
        "plt.title(\"Feature Importance Bar Chart\")\n",
        "plt.xlabel(\"Feature Name\")\n",
        "plt.ylabel(\"Feature Score\")\n",
        "plt.show()"
      ],
      "metadata": {
        "id": "wKhlTg1JGgP9"
      },
      "execution_count": null,
      "outputs": []
    },
    {
      "cell_type": "markdown",
      "metadata": {
        "id": "whXyStuWxhBo"
      },
      "source": [
        "## Model Building\n",
        "\n",
        "We will implimant the following models. We will first implement them first without using any sampling algorithms. Then implememnt them through using the \n",
        "SMOTEENN and the SMOTETomek.\n",
        "\n",
        "- Grid Search\n",
        "- Decesion Tree\n"
      ]
    },
    {
      "cell_type": "markdown",
      "source": [
        "## a) Without Sampling Algorithm\n",
        "### 1. Decesion Tree"
      ],
      "metadata": {
        "id": "pOAfyPgGLGf2"
      }
    },
    {
      "cell_type": "code",
      "source": [
        "# Instantiate the grid search model\n",
        "dtree_model = DecisionTreeClassifier()"
      ],
      "metadata": {
        "id": "L3fT8Zz1LKWS"
      },
      "execution_count": null,
      "outputs": []
    },
    {
      "cell_type": "code",
      "source": [
        "dtree_model.fit(x_train,y_train)"
      ],
      "metadata": {
        "id": "OAaLoclFLbO9"
      },
      "execution_count": null,
      "outputs": []
    },
    {
      "cell_type": "code",
      "source": [
        "pred_dtree=dtree_model.predict(x_test)\n",
        "pred_dtree"
      ],
      "metadata": {
        "id": "hhF3Uc0uLmIF"
      },
      "execution_count": null,
      "outputs": []
    },
    {
      "cell_type": "markdown",
      "source": [
        "#### Evaluation Metrics For Decision Tree"
      ],
      "metadata": {
        "id": "vS0JjfCDLxj2"
      }
    },
    {
      "cell_type": "code",
      "source": [
        "print('MAE:', metrics.mean_absolute_error(y_test,pred_dtree))\n",
        "print('MSE:', metrics.mean_squared_error(y_test,pred_dtree))\n",
        "print('RMSE:', np.sqrt(metrics.mean_squared_error(y_test,pred_dtree)))"
      ],
      "metadata": {
        "id": "jrt5NlnIL3wE"
      },
      "execution_count": null,
      "outputs": []
    },
    {
      "cell_type": "markdown",
      "source": [
        "#### Accuracy Score For Decesion Tree\n",
        "\n",
        "\n",
        "Now calculate how accurate our predictions are by calculating the accuracy."
      ],
      "metadata": {
        "id": "UU_sdZ0PMFo0"
      }
    },
    {
      "cell_type": "code",
      "source": [
        "score_dtree =accuracy_score(pred_dtree,y_test)*100 \n",
        "score_dtree"
      ],
      "metadata": {
        "id": "_caAC86MMQHy"
      },
      "execution_count": null,
      "outputs": []
    },
    {
      "cell_type": "markdown",
      "source": [
        "#### Confusion Metrix For Decision"
      ],
      "metadata": {
        "id": "39LpuLaxMb7A"
      }
    },
    {
      "cell_type": "code",
      "source": [
        "cm = confusion_matrix(y_test,pred_dtree)\n",
        "plt.figure(figsize=(5,5))\n",
        "sns.heatmap(data=cm,linewidths=.5, annot=True,square = True,  cmap = 'Blues')\n",
        "plt.ylabel('Actual label')\n",
        "plt.xlabel('Predicted label')\n",
        "all_sample_title = 'Accuracy Score: {0} %'.format(dtree_model.score(x_test,y_test)*100)\n",
        "plt.title(all_sample_title, size = 15)"
      ],
      "metadata": {
        "id": "KjpAo-iuMh4k"
      },
      "execution_count": null,
      "outputs": []
    },
    {
      "cell_type": "markdown",
      "source": [
        "### 2. Grid Search Algorithm"
      ],
      "metadata": {
        "id": "rCWl4iX5OWex"
      }
    },
    {
      "cell_type": "code",
      "execution_count": null,
      "metadata": {
        "id": "qCHV6yzawz10"
      },
      "outputs": [],
      "source": [
        "param_grid = {\n",
        "    'max_depth': range(5, 15, 5),\n",
        "    'min_samples_leaf': range(50, 150, 50),\n",
        "    'min_samples_split': range(50, 150, 50),\n",
        "}\n",
        "\n",
        "grid_search = GridSearchCV(estimator = dtree_model, \n",
        "                           param_grid = param_grid, \n",
        "                           scoring='roc_auc',\n",
        "                           cv = 5, \n",
        "                           verbose = 1)\n"
      ]
    },
    {
      "cell_type": "code",
      "source": [
        "grid_search.fit(x_train,y_train)"
      ],
      "metadata": {
        "id": "C_kJnf7pOiKs"
      },
      "execution_count": null,
      "outputs": []
    },
    {
      "cell_type": "code",
      "source": [
        "pred_gsearch=grid_search.predict(x_test)\n",
        "pred_gsearch"
      ],
      "metadata": {
        "id": "nckLALHoOrde"
      },
      "execution_count": null,
      "outputs": []
    },
    {
      "cell_type": "markdown",
      "source": [
        "#### Evaluation Metrics For Grid Search Algorithm"
      ],
      "metadata": {
        "id": "bZFJUEI7O3-H"
      }
    },
    {
      "cell_type": "code",
      "source": [
        "print('MAE:', metrics.mean_absolute_error(y_test,pred_gsearch))\n",
        "print('MSE:', metrics.mean_squared_error(y_test,pred_gsearch))\n",
        "print('RMSE:', np.sqrt(metrics.mean_squared_error(y_test,pred_gsearch)))"
      ],
      "metadata": {
        "id": "7hJCL-t1PFou"
      },
      "execution_count": null,
      "outputs": []
    },
    {
      "cell_type": "markdown",
      "source": [
        "#### Accuracy Score For Grid Search\n",
        "\n",
        "Now calculate how accurate our predictions are by calculating the accuracy."
      ],
      "metadata": {
        "id": "-zrckzrEPVYk"
      }
    },
    {
      "cell_type": "code",
      "source": [
        "score_gsearch =accuracy_score(pred_gsearch,y_test)*100 \n",
        "score_gsearch"
      ],
      "metadata": {
        "id": "rHxy3mqNPni4"
      },
      "execution_count": null,
      "outputs": []
    },
    {
      "cell_type": "markdown",
      "source": [
        "#### Confusion Metrix For Grid Search"
      ],
      "metadata": {
        "id": "5xAseIOqPyaG"
      }
    },
    {
      "cell_type": "code",
      "source": [
        "cm = confusion_matrix(y_test,pred_gsearch)\n",
        "plt.figure(figsize=(5,5))\n",
        "sns.heatmap(data=cm,linewidths=.5, annot=True,square = True,  cmap = 'Blues')\n",
        "plt.ylabel('Actual label')\n",
        "plt.xlabel('Predicted label')\n",
        "all_sample_title = 'Accuracy Score: {0} %'.format(grid_search.score(x_test,y_test)*100)\n",
        "plt.title(all_sample_title, size =15)"
      ],
      "metadata": {
        "id": "oicY-26iP47E"
      },
      "execution_count": null,
      "outputs": []
    },
    {
      "cell_type": "markdown",
      "source": [
        "## b) Sampling Algorithms"
      ],
      "metadata": {
        "id": "FfU19XQvbN4Q"
      }
    },
    {
      "cell_type": "code",
      "source": [
        "x_train_sme, y_train_sme = sme.fit_resample(x_train, y_train)\n",
        "x_train_smt, y_train_smt = smt.fit_resample(x_train, y_train)"
      ],
      "metadata": {
        "id": "C3_tgNhfbJnd"
      },
      "execution_count": null,
      "outputs": []
    },
    {
      "cell_type": "markdown",
      "source": [
        "## SMOTEENN Sampling Algorithm"
      ],
      "metadata": {
        "id": "ywYUMq2_IQJB"
      }
    },
    {
      "cell_type": "markdown",
      "source": [
        "### 1. Decision Tree"
      ],
      "metadata": {
        "id": "tGOc3VlBh7y2"
      }
    },
    {
      "cell_type": "code",
      "source": [
        "# Instantiate the grid search model\n",
        "dtree_model1 = DecisionTreeClassifier()\n",
        "dtree_model1.fit(x_train_sme,y_train_sme)\n"
      ],
      "metadata": {
        "id": "la6sUBuIh0P8"
      },
      "execution_count": null,
      "outputs": []
    },
    {
      "cell_type": "code",
      "source": [
        "pred_dtree1=dtree_model.predict(x_test)\n",
        "pred_dtree1"
      ],
      "metadata": {
        "id": "jYd8eCj2iSFA"
      },
      "execution_count": null,
      "outputs": []
    },
    {
      "cell_type": "markdown",
      "source": [
        "### Evaluation Metrics For Decision Tree"
      ],
      "metadata": {
        "id": "eabveD3RHEaV"
      }
    },
    {
      "cell_type": "code",
      "source": [
        "print('MAE:', metrics.mean_absolute_error(y_test,pred_dtree1))\n",
        "print('MSE:', metrics.mean_squared_error(y_test,pred_dtree1))\n",
        "print('RMSE:', np.sqrt(metrics.mean_squared_error(y_test,pred_dtree1)))"
      ],
      "metadata": {
        "id": "QzrYKKsRHLZu"
      },
      "execution_count": null,
      "outputs": []
    },
    {
      "cell_type": "markdown",
      "source": [
        "### Accuracy Score For Decesion\n",
        "\n",
        "Now calculate how accurate our predictions are by calculating the accuracy."
      ],
      "metadata": {
        "id": "gg7ZC2w6HdYe"
      }
    },
    {
      "cell_type": "code",
      "source": [
        "score_dtree1 =accuracy_score(pred_dtree1,y_test)*100 \n",
        "score_dtree1"
      ],
      "metadata": {
        "id": "Sty15Gu2HrQZ"
      },
      "execution_count": null,
      "outputs": []
    },
    {
      "cell_type": "markdown",
      "source": [
        "### Confusion Metrix For Decision"
      ],
      "metadata": {
        "id": "En0TJCefH1SB"
      }
    },
    {
      "cell_type": "code",
      "source": [
        "cm = confusion_matrix(y_test,pred_dtree1)\n",
        "plt.figure(figsize=(5,5))\n",
        "sns.heatmap(data=cm,linewidths=.5, annot=True,square = True,  cmap = 'Blues')\n",
        "plt.ylabel('Actual label')\n",
        "plt.xlabel('Predicted label')\n",
        "all_sample_title = 'Accuracy Score: {0} %'.format(dtree_model.score(x_test,y_test)*100)\n",
        "plt.title(all_sample_title, size = 15)"
      ],
      "metadata": {
        "id": "d0e42bWhH7u5"
      },
      "execution_count": null,
      "outputs": []
    },
    {
      "cell_type": "markdown",
      "source": [
        "### 2. Grid Search Algorithm"
      ],
      "metadata": {
        "id": "PmAyssWZJzcO"
      }
    },
    {
      "cell_type": "code",
      "execution_count": null,
      "metadata": {
        "id": "o5TlJKyQJzcP"
      },
      "outputs": [],
      "source": [
        "param_grid = {\n",
        "    'max_depth': range(5, 15, 5),\n",
        "    'min_samples_leaf': range(50, 150, 50),\n",
        "    'min_samples_split': range(50, 150, 50),\n",
        "}\n",
        "\n",
        "grid_search1 = GridSearchCV(estimator = dtree_model, \n",
        "                           param_grid = param_grid, \n",
        "                           scoring='roc_auc',\n",
        "                           cv = 5, \n",
        "                           verbose = 1)\n"
      ]
    },
    {
      "cell_type": "code",
      "source": [
        "grid_search1.fit(x_train_sme,y_train_sme)"
      ],
      "metadata": {
        "id": "RH-EziELJzcQ"
      },
      "execution_count": null,
      "outputs": []
    },
    {
      "cell_type": "code",
      "source": [
        "pred_gsearch1=grid_search1.predict(x_test)\n",
        "pred_gsearch1"
      ],
      "metadata": {
        "id": "luR4Ry0iJzcR"
      },
      "execution_count": null,
      "outputs": []
    },
    {
      "cell_type": "markdown",
      "source": [
        "#### Evaluation Metrics For Grid Search Algorithm"
      ],
      "metadata": {
        "id": "kbPOY9R5JzcR"
      }
    },
    {
      "cell_type": "code",
      "source": [
        "print('MAE:', metrics.mean_absolute_error(y_test,pred_gsearch1))\n",
        "print('MSE:', metrics.mean_squared_error(y_test,pred_gsearch1))\n",
        "print('RMSE:', np.sqrt(metrics.mean_squared_error(y_test,pred_gsearch1)))"
      ],
      "metadata": {
        "id": "XOfdNeGAJzcS"
      },
      "execution_count": null,
      "outputs": []
    },
    {
      "cell_type": "markdown",
      "source": [
        "#### Accuracy Score For Grid Search\n",
        "\n",
        "Now calculate how accurate our predictions are by calculating the accuracy."
      ],
      "metadata": {
        "id": "R8f8wr5iJzcS"
      }
    },
    {
      "cell_type": "code",
      "source": [
        "score_gsearch1 =accuracy_score(pred_gsearch1,y_test)*100 \n",
        "score_gsearch1"
      ],
      "metadata": {
        "id": "R3KmF4JoJzcS"
      },
      "execution_count": null,
      "outputs": []
    },
    {
      "cell_type": "markdown",
      "source": [
        "#### Confusion Metrix For Grid Search"
      ],
      "metadata": {
        "id": "tcpzR5cpJzcT"
      }
    },
    {
      "cell_type": "code",
      "source": [
        "cm = confusion_matrix(y_test,pred_gsearch1)\n",
        "plt.figure(figsize=(5,5))\n",
        "sns.heatmap(data=cm,linewidths=.5, annot=True,square = True,  cmap = 'Blues')\n",
        "plt.ylabel('Actual label')\n",
        "plt.xlabel('Predicted label')\n",
        "all_sample_title = 'Accuracy Score: {0} %'.format(grid_search.score(x_test,y_test)*100)\n",
        "plt.title(all_sample_title, size =15)"
      ],
      "metadata": {
        "id": "eE55OUnnJzcT"
      },
      "execution_count": null,
      "outputs": []
    },
    {
      "cell_type": "markdown",
      "source": [
        "## SMOTETomek Sampling Algorithm"
      ],
      "metadata": {
        "id": "Q85RtjyiKcb9"
      }
    },
    {
      "cell_type": "markdown",
      "source": [
        "### 1. Decision Tree"
      ],
      "metadata": {
        "id": "sRpjG973KzRN"
      }
    },
    {
      "cell_type": "code",
      "source": [
        "# Instantiate the grid search model\n",
        "dtree_model2 = DecisionTreeClassifier()\n",
        "dtree_model2.fit(x_train_smt,y_train_smt)\n"
      ],
      "metadata": {
        "id": "hO_3FOmNKzRO"
      },
      "execution_count": null,
      "outputs": []
    },
    {
      "cell_type": "code",
      "source": [
        "pred_dtree2=dtree_model.predict(x_test)\n",
        "pred_dtree2"
      ],
      "metadata": {
        "id": "E5Z559fKKzRP"
      },
      "execution_count": null,
      "outputs": []
    },
    {
      "cell_type": "markdown",
      "source": [
        "### Evaluation Metrics For Decision Tree"
      ],
      "metadata": {
        "id": "mJxsWORaKzRP"
      }
    },
    {
      "cell_type": "code",
      "source": [
        "print('MAE:', metrics.mean_absolute_error(y_test,pred_dtree2))\n",
        "print('MSE:', metrics.mean_squared_error(y_test,pred_dtree2))\n",
        "print('RMSE:', np.sqrt(metrics.mean_squared_error(y_test,pred_dtree2)))"
      ],
      "metadata": {
        "id": "XboCMfnTKzRP"
      },
      "execution_count": null,
      "outputs": []
    },
    {
      "cell_type": "markdown",
      "source": [
        "### Accuracy Score For Decesion\n",
        "\n",
        "Now calculate how accurate our predictions are by calculating the accuracy."
      ],
      "metadata": {
        "id": "aUla3e4UKzRQ"
      }
    },
    {
      "cell_type": "code",
      "source": [
        "score_dtree2 =accuracy_score(pred_dtree2,y_test)*100 \n",
        "score_dtree2"
      ],
      "metadata": {
        "id": "qGQnM6grKzRQ"
      },
      "execution_count": null,
      "outputs": []
    },
    {
      "cell_type": "markdown",
      "source": [
        "### Confusion Metrix For Decision"
      ],
      "metadata": {
        "id": "QP93MgWwKzRR"
      }
    },
    {
      "cell_type": "code",
      "source": [
        "cm = confusion_matrix(y_test,pred_dtree2)\n",
        "plt.figure(figsize=(5,5))\n",
        "sns.heatmap(data=cm,linewidths=.5, annot=True,square = True,  cmap = 'Blues')\n",
        "plt.ylabel('Actual label')\n",
        "plt.xlabel('Predicted label')\n",
        "all_sample_title = 'Accuracy Score: {0} %'.format(dtree_model2.score(x_test,y_test)*100)\n",
        "plt.title(all_sample_title, size = 15)"
      ],
      "metadata": {
        "id": "TY278ZBMKzRR"
      },
      "execution_count": null,
      "outputs": []
    },
    {
      "cell_type": "markdown",
      "source": [
        "### 2. Grid Search Algorithm"
      ],
      "metadata": {
        "id": "30QFY4HVKzRS"
      }
    },
    {
      "cell_type": "code",
      "execution_count": null,
      "metadata": {
        "id": "7tJdTDHxKzRS"
      },
      "outputs": [],
      "source": [
        "param_grid = {\n",
        "    'max_depth': range(5, 15, 5),\n",
        "    'min_samples_leaf': range(50, 150, 50),\n",
        "    'min_samples_split': range(50, 150, 50),\n",
        "}\n",
        "\n",
        "grid_search2 = GridSearchCV(estimator = dtree_model, \n",
        "                           param_grid = param_grid, \n",
        "                           scoring='roc_auc',\n",
        "                           cv = 5, \n",
        "                           verbose = 1)\n"
      ]
    },
    {
      "cell_type": "code",
      "source": [
        "grid_search2.fit(x_train_smt,y_train_smt)"
      ],
      "metadata": {
        "id": "Q4ybSJNjKzRT"
      },
      "execution_count": null,
      "outputs": []
    },
    {
      "cell_type": "code",
      "source": [
        "pred_gsearch2=grid_search2.predict(x_test)\n",
        "pred_gsearch2"
      ],
      "metadata": {
        "id": "MMLzMB2FKzRT"
      },
      "execution_count": null,
      "outputs": []
    },
    {
      "cell_type": "markdown",
      "source": [
        "#### Evaluation Metrics For Grid Search Algorithm"
      ],
      "metadata": {
        "id": "MpKroU0KKzRU"
      }
    },
    {
      "cell_type": "code",
      "source": [
        "print('MAE:', metrics.mean_absolute_error(y_test,pred_gsearch2))\n",
        "print('MSE:', metrics.mean_squared_error(y_test,pred_gsearch2))\n",
        "print('RMSE:', np.sqrt(metrics.mean_squared_error(y_test,pred_gsearch2)))"
      ],
      "metadata": {
        "id": "VYFqxmLlKzRV"
      },
      "execution_count": null,
      "outputs": []
    },
    {
      "cell_type": "markdown",
      "source": [
        "#### Accuracy Score For Grid Search\n",
        "\n",
        "Now calculate how accurate our predictions are by calculating the accuracy."
      ],
      "metadata": {
        "id": "iFfm3NLqKzRW"
      }
    },
    {
      "cell_type": "code",
      "source": [
        "score_gsearch2 =accuracy_score(pred_gsearch2,y_test)*100 \n",
        "score_gsearch2"
      ],
      "metadata": {
        "id": "3-w0KRWEKzRX"
      },
      "execution_count": null,
      "outputs": []
    },
    {
      "cell_type": "markdown",
      "source": [
        "#### Confusion Metrix For Grid Search"
      ],
      "metadata": {
        "id": "5RYza_F0KzRY"
      }
    },
    {
      "cell_type": "code",
      "source": [
        "cm = confusion_matrix(y_test,pred_gsearch2)\n",
        "plt.figure(figsize=(5,5))\n",
        "sns.heatmap(data=cm,linewidths=.5, annot=True,square = True,  cmap = 'Blues')\n",
        "plt.ylabel('Actual label')\n",
        "plt.xlabel('Predicted label')\n",
        "all_sample_title = 'Accuracy Score: {0} %'.format(grid_search.score(x_test,y_test)*100)\n",
        "plt.title(all_sample_title, size =15)"
      ],
      "metadata": {
        "id": "AVVySNIXKzRY"
      },
      "execution_count": null,
      "outputs": []
    }
  ],
  "metadata": {
    "colab": {
      "provenance": [],
      "include_colab_link": true
    },
    "kernelspec": {
      "display_name": "Python 3",
      "name": "python3"
    },
    "language_info": {
      "name": "python"
    }
  },
  "nbformat": 4,
  "nbformat_minor": 0
}