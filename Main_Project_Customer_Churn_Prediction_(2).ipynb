{
  "cells": [
    {
      "cell_type": "markdown",
      "metadata": {
        "id": "view-in-github",
        "colab_type": "text"
      },
      "source": [
        "<a href=\"https://colab.research.google.com/github/Khuks/Customer-Churn-Prediction/blob/main/Main_Project_Customer_Churn_Prediction_(2).ipynb\" target=\"_parent\"><img src=\"https://colab.research.google.com/assets/colab-badge.svg\" alt=\"Open In Colab\"/></a>"
      ]
    },
    {
      "cell_type": "markdown",
      "metadata": {
        "id": "VphQAs_vt1Zc"
      },
      "source": [
        "**Churn Classification** \n",
        "By Nokwanda Sihlongonyane\n",
        "\n",
        "This is a machine learning project for the prediction if a User would churn or not. The data set contain several features, with a need application of a classification model."
      ]
    },
    {
      "cell_type": "markdown",
      "metadata": {
        "id": "kt2-HVRouej9"
      },
      "source": [
        "so let's start importing needed libraries"
      ]
    },
    {
      "cell_type": "code",
      "execution_count": 67,
      "metadata": {
        "id": "IQRVS3OGF8-H"
      },
      "outputs": [],
      "source": [
        "import numpy as np # linear algebra\n",
        "import pandas as pd # data processing, CSV file I/O (e.g. pd.read_csv)\n",
        "from IPython.display import display\n",
        "import plotly.express as px \n",
        "import seaborn as sns\n",
        "import matplotlib.pyplot as plt\n",
        "%matplotlib inline\n",
        "import plotly.express as px\n",
        "from sklearn.preprocessing import StandardScaler\n",
        "from joblib import dump, load\n",
        "from sklearn.model_selection import train_test_split\n",
        "from sklearn.tree import DecisionTreeClassifier\n",
        "from sklearn.metrics import classification_report, accuracy_score,recall_score \n",
        "from sklearn.model_selection import cross_val_score\n",
        "from sklearn.pipeline import make_pipeline\n",
        "from sklearn.linear_model import LogisticRegression\n",
        "from sklearn.model_selection import train_test_split, cross_val_score, GridSearchCV, StratifiedKFold\n",
        "from sklearn.preprocessing import LabelEncoder\n",
        "from imblearn.combine import SMOTEENN \n",
        "from imblearn.combine import SMOTETomek \n",
        "from google.colab import files\n",
        "import io\n",
        "from sklearn import metrics\n",
        "from sklearn.metrics import classification_report, confusion_matrix"
      ]
    },
    {
      "cell_type": "code",
      "execution_count": null,
      "metadata": {
        "id": "13xHkzuNdSQp"
      },
      "outputs": [],
      "source": [
        "from google.colab import drive\n",
        "drive.mount('/content/drive')"
      ]
    },
    {
      "cell_type": "code",
      "execution_count": null,
      "metadata": {
        "id": "PGd1SCAzl6SX"
      },
      "outputs": [],
      "source": [
        "data = pd.read_csv('/content/drive/MyDrive/Train.csv')"
      ]
    },
    {
      "cell_type": "markdown",
      "metadata": {
        "id": "37z_dG0MvMcs"
      },
      "source": [
        "Data Exploration"
      ]
    },
    {
      "cell_type": "code",
      "execution_count": null,
      "metadata": {
        "id": "m-oKBmWNGN4R"
      },
      "outputs": [],
      "source": [
        "print('Data Information Table')\n",
        "display(data.info(verbose = True,show_counts=True))\n",
        "print('Data Head Table')\n",
        "display(data.head())\n",
        "print('Data Describe Information Table')\n",
        "display(data.describe())\n",
        "print(f'\\n Data Shape: {data.shape}')\n",
        "print(f'Data Columns {data.columns}')"
      ]
    },
    {
      "cell_type": "code",
      "execution_count": null,
      "metadata": {
        "id": "gt-K1bnzGdGQ"
      },
      "outputs": [],
      "source": [
        "missing = (round(((data.isnull().sum()/len(data.index))*100),2).to_frame('null')).sort_values('null', ascending=False)"
      ]
    },
    {
      "cell_type": "code",
      "execution_count": null,
      "metadata": {
        "id": "irLth29jHPKj"
      },
      "outputs": [],
      "source": [
        "missing"
      ]
    },
    {
      "cell_type": "markdown",
      "metadata": {
        "id": "a2MgrTOUvVTH"
      },
      "source": [
        "**Unique Values**"
      ]
    },
    {
      "cell_type": "code",
      "execution_count": null,
      "metadata": {
        "id": "AGafFxc8vYeA"
      },
      "outputs": [],
      "source": [
        "for column in data.columns : \n",
        "    print('Number of unique data for {0} is {1}'.format(column , len(data[column].unique())))\n",
        "    print('unique data for {0} is {1}'.format(column , data[column].unique()))\n",
        "    print('=====================================')"
      ]
    },
    {
      "cell_type": "markdown",
      "metadata": {
        "id": "dPnxIduMviaz"
      },
      "source": [
        "**Needed Functions For Visualization**"
      ]
    },
    {
      "cell_type": "code",
      "execution_count": null,
      "metadata": {
        "id": "r-6YWjM9JA5T"
      },
      "outputs": [],
      "source": [
        "def PlotMultiplePie(df,categorical_features = None,dropna = False):\n",
        "    # set a threshold of 30 unique variables, more than 50 can lead to ugly pie charts \n",
        "    threshold = 30\n",
        "    \n",
        "    # if user did not set categorical_features \n",
        "    if categorical_features == None: \n",
        "        categorical_features = df.select_dtypes(['object','category']).columns.to_list()\n",
        "        print(categorical_features)\n",
        "    \n",
        "    # loop through the list of categorical_features \n",
        "    for cat_feature in categorical_features: \n",
        "        num_unique = df[cat_feature].nunique(dropna = dropna)\n",
        "        num_missing = df[cat_feature].isna().sum()\n",
        "        if num_unique <= threshold:\n",
        "            print('Chart for: ', cat_feature)\n",
        "            print('Number of Unique Values: ', num_unique)\n",
        "            print('Number of Missing Values: ', num_missing)\n",
        "            fig = px.bar(df[cat_feature].value_counts(dropna = dropna), x=cat_feature, \n",
        "                 y = df[cat_feature].value_counts(dropna = dropna).index,title = cat_feature,template='ggplot2')\n",
        "    \n",
        "            fig.show()\n",
        "        else: \n",
        "            print('Chart for ',cat_feature,' is unavailable due high number of Unique Values ')\n",
        "            print('Number of Unique Values: ', num_unique)\n",
        "            print('Number of Missing Values: ', num_missing)\n",
        "            print('\\n')\n",
        "    return\n",
        "\n",
        "def plotForContinousFeaturesInDataSet(data):\n",
        "    continous_features = data.select_dtypes(['float64']).columns.to_list()\n",
        "    for cont_feature in continous_features: \n",
        "        plt.figure()\n",
        "        plt.title(cont_feature)\n",
        "        ax = sns.distplot(data[cont_feature])\n",
        "    return\n",
        "        \n",
        "def plotForDiscreteFeaturesInDataSet(data):\n",
        "    discrete_features = data.select_dtypes(['int64']).columns.to_list()\n",
        "    for disc_feature in discrete_features: \n",
        "        plt.figure()\n",
        "        plt.title(disc_feature)\n",
        "        ax = sns.distplot(data[disc_feature],kde = False)\n",
        "    return"
      ]
    },
    {
      "cell_type": "markdown",
      "metadata": {
        "id": "H9_IdiO-vtEE"
      },
      "source": [
        "**Visualization**"
      ]
    },
    {
      "cell_type": "code",
      "execution_count": null,
      "metadata": {
        "id": "ZkX_eGZzJC5F"
      },
      "outputs": [],
      "source": [
        "PlotMultiplePie(data)"
      ]
    },
    {
      "cell_type": "code",
      "execution_count": null,
      "metadata": {
        "id": "uuXTkAV0KMEd"
      },
      "outputs": [],
      "source": [
        "plotForContinousFeaturesInDataSet(data)"
      ]
    },
    {
      "cell_type": "code",
      "execution_count": null,
      "metadata": {
        "id": "s8_nhdI4KQrx"
      },
      "outputs": [],
      "source": [
        "plotForDiscreteFeaturesInDataSet(data)"
      ]
    },
    {
      "cell_type": "markdown",
      "metadata": {
        "id": "Yf3mBfudv6W5"
      },
      "source": [
        "**Data Preprocessing**"
      ]
    },
    {
      "cell_type": "markdown",
      "metadata": {
        "id": "EOTvLDfAwPwA"
      },
      "source": [
        "Using label encoding for the categorical data"
      ]
    },
    {
      "cell_type": "code",
      "execution_count": null,
      "metadata": {
        "id": "-5OK3Yn5v5iR"
      },
      "outputs": [],
      "source": [
        "def make_label_encoder(original_feature , new_feature) : \n",
        "    enc  = LabelEncoder()\n",
        "    enc.fit(data[original_feature])\n",
        "    data[new_feature] = enc.transform(data[original_feature])\n",
        "    data.drop([original_feature],axis=1, inplace=True)"
      ]
    },
    {
      "cell_type": "code",
      "execution_count": null,
      "metadata": {
        "id": "hEsYIkBPwCsT"
      },
      "outputs": [],
      "source": [
        "make_label_encoder('REGION', 'REGION_CODE')"
      ]
    },
    {
      "cell_type": "code",
      "execution_count": null,
      "metadata": {
        "id": "0lU74Z1MwFN_"
      },
      "outputs": [],
      "source": [
        "make_label_encoder('TOP_PACK', 'TOP_PACK_CODE')"
      ]
    },
    {
      "cell_type": "code",
      "execution_count": null,
      "metadata": {
        "id": "Tvi-Oa66Ng22"
      },
      "outputs": [],
      "source": [
        "data = data.drop(['MRG','user_id'], axis=1)\n",
        "data['TENURE'] = data['TENURE'].map({'K > 24 month': 24, 'I 18-21 month': 18, 'H 15-18 month': 15, 'G 12-15 month':12,\n",
        "                                             'J 21-24 month': 21, 'F 9-12': 9, 'E 6-9 month':6, 'D 3-6 month':3})"
      ]
    },
    {
      "cell_type": "markdown",
      "metadata": {
        "id": "fZoSDPG8wXV-"
      },
      "source": [
        "Replacing the null values with mean"
      ]
    },
    {
      "cell_type": "code",
      "execution_count": null,
      "metadata": {
        "id": "o3DK2uvyvheq"
      },
      "outputs": [],
      "source": [
        "def replaceDataNullsWithMean(data):\n",
        "    for item in data:\n",
        "        data[item].replace([np.inf, -np.inf,], np.nan, inplace=True)\n",
        "        if item in list(missing.index[missing['null'] > 0]):\n",
        "            data[item].fillna((data[item].mean()), inplace=True)\n",
        "            \n",
        "    return data"
      ]
    },
    {
      "cell_type": "code",
      "execution_count": null,
      "metadata": {
        "id": "BXEh1AhxwccW"
      },
      "outputs": [],
      "source": [
        "replaceDataNullsWithMean(data)"
      ]
    },
    {
      "cell_type": "code",
      "execution_count": null,
      "metadata": {
        "id": "pt0_mxaNwiZ3"
      },
      "outputs": [],
      "source": [
        "data = data.reset_index()"
      ]
    },
    {
      "cell_type": "code",
      "execution_count": null,
      "metadata": {
        "id": "e9Ilk86LwjMF"
      },
      "outputs": [],
      "source": [
        "def clean_dataset(df):\n",
        "    assert isinstance(df, pd.DataFrame), \"df needs to be a pd.DataFrame\"\n",
        "    df.dropna(inplace=True)\n",
        "    indices_to_keep = ~df.isin([np.nan, np.inf, -np.inf]).any(1)\n",
        "    return df[indices_to_keep].astype(np.float64)"
      ]
    },
    {
      "cell_type": "code",
      "execution_count": null,
      "metadata": {
        "id": "Cvwfs-mQO9Bc"
      },
      "outputs": [],
      "source": [
        "clean_dataset(data)"
      ]
    },
    {
      "cell_type": "code",
      "execution_count": null,
      "metadata": {
        "id": "Du-cjqDtLF0l"
      },
      "outputs": [],
      "source": [
        "print('Data Information Table')\n",
        "display(data.info(verbose = True,show_counts=True))"
      ]
    },
    {
      "cell_type": "markdown",
      "metadata": {
        "id": "GroWN_Kiwwyt"
      },
      "source": [
        "Splitting data into train set(75%) and test set (25%)"
      ]
    },
    {
      "cell_type": "code",
      "execution_count": null,
      "metadata": {
        "id": "ziKpT-hMweZN"
      },
      "outputs": [],
      "source": [
        "xData = data.drop(['CHURN'], axis = 1)\n",
        "yData = data.CHURN\n",
        "x_train,x_test,y_train,y_test = train_test_split(xData, yData,test_size=0.25, random_state=42, shuffle=True, stratify=yData)"
      ]
    },
    {
      "cell_type": "code",
      "execution_count": null,
      "metadata": {
        "id": "NYAYeew7LSDK"
      },
      "outputs": [],
      "source": [
        "stdScaler = StandardScaler()\n",
        "x_train_scaled = stdScaler.fit_transform(x_train)\n",
        "x_test_scaled = stdScaler.transform(x_test)"
      ]
    },
    {
      "cell_type": "code",
      "execution_count": null,
      "metadata": {
        "id": "BTW4cWw5wLAv"
      },
      "outputs": [],
      "source": [
        "#undersampler = RandomUnderSampler()\n",
        "#oversampler = RandomOverSampler()\n",
        "#smote = SMOTE()\n",
        "sme = SMOTEENN(random_state=42)\n",
        "smt = SMOTETomek(random_state=42)\n",
        "#samplers = [undersampler, oversampler, smote]\n",
        "samplers = [smt,sme]\n",
        "model = LogisticRegression()\n",
        "def train_model_on_sampling_techniques(model, samplers, x_train, y_train):\n",
        "    for sampler in samplers:\n",
        "        x_train_samp, y_train_samp = sampler.fit_resample(x_train, y_train)\n",
        "        pipeline = make_pipeline(StandardScaler(), model)\n",
        "        scores = cross_val_score(pipeline, x_train_samp, y_train_samp, scoring='recall')\n",
        "        print(\"The recall score for LR using {0} is {1} (+/- {2})\".format(str(sampler), round(scores.mean(), 3), round(scores.std(), 2)))"
      ]
    },
    {
      "cell_type": "code",
      "execution_count": null,
      "metadata": {
        "id": "PfNCfgI_wmnN"
      },
      "outputs": [],
      "source": [
        "#train_model_on_sampling_techniques(model, samplers, x_train, y_train)"
      ]
    },
    {
      "cell_type": "code",
      "execution_count": null,
      "metadata": {
        "id": "U20-MGyPwpP9"
      },
      "outputs": [],
      "source": [
        "#x_train_samp, y_train_samp = smote.fit_resample(x_train, y_train)\n",
        "#x_train_ovr, y_train_ovr = oversampler.fit_resample(x_train, y_train)\n",
        "#x_train_und, y_train_und = undersampler.fit_resample(x_train, y_train)\n",
        "\n",
        "#x_train_sme, y_train_sme = sme.fit_resample(x_train, y_train)\n",
        "#x_train_smt, y_train_smt = smt.fit_resample(x_train, y_train)"
      ]
    },
    {
      "cell_type": "markdown",
      "source": [
        "## Feature Importance \n",
        "\n",
        "Before fitting the training dataset, we need to identify the most important feature in our dataset.\n",
        "\n",
        "We will use Random Forest Classifier to determine the most important feature."
      ],
      "metadata": {
        "id": "S6-3J76WEwo2"
      }
    },
    {
      "cell_type": "code",
      "source": [
        "# import Random Forest classifier\n",
        "\n",
        "from sklearn.ensemble import RandomForestClassifier\n",
        "\n",
        "# instantiate the classifier \n",
        "# create the classifier with n_estimators = 100\n",
        "\n",
        "clf = RandomForestClassifier(n_estimators=100,random_state=0)\n"
      ],
      "metadata": {
        "id": "TPusR5mcGI_k"
      },
      "execution_count": null,
      "outputs": []
    },
    {
      "cell_type": "code",
      "source": [
        "# fit the model to the training set\n",
        "\n",
        "clf.fit(x_train, y_train)"
      ],
      "metadata": {
        "colab": {
          "base_uri": "https://localhost:8080/"
        },
        "id": "CzkpbpJsGVTU",
        "outputId": "1fa2be99-db2e-4f0a-d7e9-2a4e23d52fe9"
      },
      "execution_count": 57,
      "outputs": [
        {
          "output_type": "execute_result",
          "data": {
            "text/plain": [
              "RandomForestClassifier(random_state=0)"
            ]
          },
          "metadata": {},
          "execution_count": 57
        }
      ]
    },
    {
      "cell_type": "markdown",
      "source": [
        "Now, I will use the feature importance variable to see feature importance scores."
      ],
      "metadata": {
        "id": "1wTKvps_GXsC"
      }
    },
    {
      "cell_type": "code",
      "source": [
        "# view the feature scores\n",
        "\n",
        "feature_scores = pd.Series(clf.feature_importances_, index=x_train.columns).sort_values(ascending=False)\n",
        "\n",
        "feature_scores\n",
        "     "
      ],
      "metadata": {
        "colab": {
          "base_uri": "https://localhost:8080/"
        },
        "id": "Kz1SYw0ZGaoh",
        "outputId": "6694a754-97ba-4ae4-e15b-5155736da8ac"
      },
      "execution_count": 58,
      "outputs": [
        {
          "output_type": "execute_result",
          "data": {
            "text/plain": [
              "index             0.369827\n",
              "REGULARITY        0.171725\n",
              "REGION_CODE       0.155739\n",
              "TOP_PACK_CODE     0.067797\n",
              "ON_NET            0.040280\n",
              "DATA_VOLUME       0.031478\n",
              "ORANGE            0.030829\n",
              "REVENUE           0.027086\n",
              "ARPU_SEGMENT      0.021682\n",
              "MONTANT           0.019215\n",
              "FREQUENCE_RECH    0.015786\n",
              "FREQ_TOP_PACK     0.014911\n",
              "FREQUENCE         0.013521\n",
              "TIGO              0.009366\n",
              "TENURE            0.004556\n",
              "ZONE1             0.003583\n",
              "ZONE2             0.002619\n",
              "dtype: float64"
            ]
          },
          "metadata": {},
          "execution_count": 58
        }
      ]
    },
    {
      "cell_type": "code",
      "source": [
        "df = pd.DataFrame(feature_scores)\n",
        "df.plot(kind='bar')\n",
        "plt.title(\"Feature Importance Bar Chart\")\n",
        "plt.xlabel(\"Feature Name\")\n",
        "plt.ylabel(\"Feature Score\")\n",
        "plt.show()"
      ],
      "metadata": {
        "colab": {
          "base_uri": "https://localhost:8080/",
          "height": 379
        },
        "id": "wKhlTg1JGgP9",
        "outputId": "0bcbbbe3-5243-4f65-b402-8163bcb21338"
      },
      "execution_count": 59,
      "outputs": [
        {
          "output_type": "display_data",
          "data": {
            "text/plain": [
              "<Figure size 432x288 with 1 Axes>"
            ],
            "image/png": "[encoded data removed]"
          },
          "metadata": {
            "needs_background": "light"
          }
        }
      ]
    },
    {
      "cell_type": "markdown",
      "metadata": {
        "id": "whXyStuWxhBo"
      },
      "source": [
        "## Model Building\n",
        "\n",
        "We will implimant the following models. We will first implement them first without using any sampling algorithms. Then implememnt them through using the \n",
        "SMOTEENN and the SMOTETomek.\n",
        "\n",
        "- Grid Search\n",
        "- Decesion Tree\n"
      ]
    },
    {
      "cell_type": "markdown",
      "source": [
        "## a) Without Sampling Algorithm\n",
        "### 1. Decesion Tree"
      ],
      "metadata": {
        "id": "pOAfyPgGLGf2"
      }
    },
    {
      "cell_type": "code",
      "source": [
        "# Instantiate the grid search model\n",
        "dtree_model = DecisionTreeClassifier()"
      ],
      "metadata": {
        "id": "L3fT8Zz1LKWS"
      },
      "execution_count": 60,
      "outputs": []
    },
    {
      "cell_type": "code",
      "source": [
        "dtree_model.fit(x_train,y_train)"
      ],
      "metadata": {
        "id": "OAaLoclFLbO9",
        "outputId": "0a364873-4039-47cf-ae68-d84254e6fef9",
        "colab": {
          "base_uri": "https://localhost:8080/"
        }
      },
      "execution_count": 61,
      "outputs": [
        {
          "output_type": "execute_result",
          "data": {
            "text/plain": [
              "DecisionTreeClassifier()"
            ]
          },
          "metadata": {},
          "execution_count": 61
        }
      ]
    },
    {
      "cell_type": "code",
      "source": [
        "pred_dtree=dtree_model.predict(x_test)\n",
        "pred_dtree"
      ],
      "metadata": {
        "id": "hhF3Uc0uLmIF",
        "outputId": "7c586bc3-6653-4b1b-f9b1-1da76720d5bb",
        "colab": {
          "base_uri": "https://localhost:8080/"
        }
      },
      "execution_count": 62,
      "outputs": [
        {
          "output_type": "execute_result",
          "data": {
            "text/plain": [
              "array([0, 0, 0, ..., 0, 0, 0])"
            ]
          },
          "metadata": {},
          "execution_count": 62
        }
      ]
    },
    {
      "cell_type": "markdown",
      "source": [
        "#### Evaluation Metrics For Decision Tree"
      ],
      "metadata": {
        "id": "vS0JjfCDLxj2"
      }
    },
    {
      "cell_type": "code",
      "source": [
        "print('MAE:', metrics.mean_absolute_error(y_test,pred_dtree))\n",
        "print('MSE:', metrics.mean_squared_error(y_test,pred_dtree))\n",
        "print('RMSE:', np.sqrt(metrics.mean_squared_error(y_test,pred_dtree)))"
      ],
      "metadata": {
        "id": "jrt5NlnIL3wE",
        "outputId": "6315fff8-6b42-47dc-9f2c-06171032a610",
        "colab": {
          "base_uri": "https://localhost:8080/"
        }
      },
      "execution_count": 63,
      "outputs": [
        {
          "output_type": "stream",
          "name": "stdout",
          "text": [
            "MAE: 0.1647638052255646\n",
            "MSE: 0.1647638052255646\n",
            "RMSE: 0.4059110804419665\n"
          ]
        }
      ]
    },
    {
      "cell_type": "markdown",
      "source": [
        "#### Accuracy Score For Decesion Tree\n",
        "\n",
        "\n",
        "Now calculate how accurate our predictions are by calculating the accuracy."
      ],
      "metadata": {
        "id": "UU_sdZ0PMFo0"
      }
    },
    {
      "cell_type": "code",
      "source": [
        "score_dtree =accuracy_score(pred_dtree,y_test)*100 \n",
        "score_dtree"
      ],
      "metadata": {
        "id": "_caAC86MMQHy",
        "outputId": "28e9b35d-209d-4d8d-ec91-0d250e64cf48",
        "colab": {
          "base_uri": "https://localhost:8080/"
        }
      },
      "execution_count": 64,
      "outputs": [
        {
          "output_type": "execute_result",
          "data": {
            "text/plain": [
              "83.52361947744353"
            ]
          },
          "metadata": {},
          "execution_count": 64
        }
      ]
    },
    {
      "cell_type": "markdown",
      "source": [
        "#### Confusion Metrix For Decision"
      ],
      "metadata": {
        "id": "39LpuLaxMb7A"
      }
    },
    {
      "cell_type": "code",
      "source": [
        "cm = confusion_matrix(y_test,pred_dtree)\n",
        "plt.figure(figsize=(5,5))\n",
        "sns.heatmap(data=cm,linewidths=.5, annot=True,square = True,  cmap = 'Blues')\n",
        "plt.ylabel('Actual label')\n",
        "plt.xlabel('Predicted label')\n",
        "all_sample_title = 'Accuracy Score: {0} %'.format(dtree_model.score(x_test,y_test)*100)\n",
        "plt.title(all_sample_title, size = 15)"
      ],
      "metadata": {
        "id": "KjpAo-iuMh4k",
        "outputId": "efd30444-87b0-4d7f-a37c-6f3c920c0b08",
        "colab": {
          "base_uri": "https://localhost:8080/",
          "height": 326
        }
      },
      "execution_count": 68,
      "outputs": [
        {
          "output_type": "execute_result",
          "data": {
            "text/plain": [
              "Text(0.5, 1.0, 'Accuracy Score: 83.52361947744353 %')"
            ]
          },
          "metadata": {},
          "execution_count": 68
        },
        {
          "output_type": "display_data",
          "data": {
            "text/plain": [
              "<Figure size 360x360 with 2 Axes>"
            ],
            "image/png": "[encoded data removed]"
          },
          "metadata": {
            "needs_background": "light"
          }
        }
      ]
    },
    {
      "cell_type": "markdown",
      "source": [
        "### 2. Grid Search Algorithm"
      ],
      "metadata": {
        "id": "rCWl4iX5OWex"
      }
    },
    {
      "cell_type": "code",
      "execution_count": 80,
      "metadata": {
        "id": "qCHV6yzawz10"
      },
      "outputs": [],
      "source": [
        "param_grid = {\n",
        "    'max_depth': range(5, 15, 5),\n",
        "    'min_samples_leaf': range(50, 150, 50),\n",
        "    'min_samples_split': range(50, 150, 50),\n",
        "}\n",
        "\n",
        "grid_search = GridSearchCV(estimator = dtree_model, \n",
        "                           param_grid = param_grid, \n",
        "                           scoring='roc_auc',\n",
        "                           cv = 5, \n",
        "                           verbose = 1)\n"
      ]
    },
    {
      "cell_type": "code",
      "source": [
        "grid_search.fit(x_train,y_train)"
      ],
      "metadata": {
        "colab": {
          "base_uri": "https://localhost:8080/"
        },
        "id": "C_kJnf7pOiKs",
        "outputId": "f60fcc11-23ff-48d2-af44-fa2768d6ec5a"
      },
      "execution_count": 81,
      "outputs": [
        {
          "output_type": "stream",
          "name": "stdout",
          "text": [
            "Fitting 5 folds for each of 8 candidates, totalling 40 fits\n"
          ]
        },
        {
          "output_type": "execute_result",
          "data": {
            "text/plain": [
              "GridSearchCV(cv=5, estimator=DecisionTreeClassifier(),\n",
              "             param_grid={'max_depth': range(5, 15, 5),\n",
              "                         'min_samples_leaf': range(50, 150, 50),\n",
              "                         'min_samples_split': range(50, 150, 50)},\n",
              "             scoring='roc_auc', verbose=1)"
            ]
          },
          "metadata": {},
          "execution_count": 81
        }
      ]
    },
    {
      "cell_type": "code",
      "source": [
        "pred_gsearch=grid_search.predict(x_test)\n",
        "pred_gsearch"
      ],
      "metadata": {
        "colab": {
          "base_uri": "https://localhost:8080/"
        },
        "id": "nckLALHoOrde",
        "outputId": "e63c012a-261e-4ea6-bafa-4c36f9ed673e"
      },
      "execution_count": 82,
      "outputs": [
        {
          "output_type": "execute_result",
          "data": {
            "text/plain": [
              "array([0, 0, 1, ..., 0, 0, 0])"
            ]
          },
          "metadata": {},
          "execution_count": 82
        }
      ]
    },
    {
      "cell_type": "markdown",
      "source": [
        "#### Evaluation Metrics For Grid Search Algorithm"
      ],
      "metadata": {
        "id": "bZFJUEI7O3-H"
      }
    },
    {
      "cell_type": "code",
      "source": [
        "print('MAE:', metrics.mean_absolute_error(y_test,pred_gsearch))\n",
        "print('MSE:', metrics.mean_squared_error(y_test,pred_gsearch))\n",
        "print('RMSE:', np.sqrt(metrics.mean_squared_error(y_test,pred_gsearch)))"
      ],
      "metadata": {
        "colab": {
          "base_uri": "https://localhost:8080/"
        },
        "id": "7hJCL-t1PFou",
        "outputId": "9c8d6dc0-2d62-477b-8a5b-f5b6a3bef14d"
      },
      "execution_count": 83,
      "outputs": [
        {
          "output_type": "stream",
          "name": "stdout",
          "text": [
            "MAE: 0.12204546726096119\n",
            "MSE: 0.12204546726096119\n",
            "RMSE: 0.3493500640631989\n"
          ]
        }
      ]
    },
    {
      "cell_type": "markdown",
      "source": [
        "#### Accuracy Score For Grid Search\n",
        "\n",
        "Now calculate how accurate our predictions are by calculating the accuracy."
      ],
      "metadata": {
        "id": "-zrckzrEPVYk"
      }
    },
    {
      "cell_type": "code",
      "source": [
        "score_gsearch =accuracy_score(pred_gsearch,y_test)*100 \n",
        "score_gsearch"
      ],
      "metadata": {
        "colab": {
          "base_uri": "https://localhost:8080/"
        },
        "id": "rHxy3mqNPni4",
        "outputId": "8999a07e-33ae-4681-cede-c065d65fd4ab"
      },
      "execution_count": 84,
      "outputs": [
        {
          "output_type": "execute_result",
          "data": {
            "text/plain": [
              "87.79545327390387"
            ]
          },
          "metadata": {},
          "execution_count": 84
        }
      ]
    },
    {
      "cell_type": "markdown",
      "source": [
        "#### Confusion Metrix For Grid Search"
      ],
      "metadata": {
        "id": "5xAseIOqPyaG"
      }
    },
    {
      "cell_type": "code",
      "source": [
        "cm = confusion_matrix(y_test,pred_gsearch)\n",
        "plt.figure(figsize=(5,5))\n",
        "sns.heatmap(data=cm,linewidths=.5, annot=True,square = True,  cmap = 'Blues')\n",
        "plt.ylabel('Actual label')\n",
        "plt.xlabel('Predicted label')\n",
        "all_sample_title = 'Accuracy Score: {0} %'.format(grid_search.score(x_test,y_test)*100)\n",
        "plt.title(all_sample_title, size =15)"
      ],
      "metadata": {
        "colab": {
          "base_uri": "https://localhost:8080/",
          "height": 326
        },
        "id": "oicY-26iP47E",
        "outputId": "f6d09544-a143-4370-dc44-d8b901ec1f4a"
      },
      "execution_count": 90,
      "outputs": [
        {
          "output_type": "execute_result",
          "data": {
            "text/plain": [
              "Text(0.5, 1.0, 'Accuracy Score: 92.8952351930382 %')"
            ]
          },
          "metadata": {},
          "execution_count": 90
        },
        {
          "output_type": "display_data",
          "data": {
            "text/plain": [
              "<Figure size 360x360 with 2 Axes>"
            ],
            "image/png": "[encoded data removed]"
          },
          "metadata": {
            "needs_background": "light"
          }
        }
      ]
    },
    {
      "cell_type": "markdown",
      "source": [
        "## b) Sampling Algorithms"
      ],
      "metadata": {
        "id": "FfU19XQvbN4Q"
      }
    },
    {
      "cell_type": "code",
      "source": [
        "x_train_sme, y_train_sme = sme.fit_resample(x_train, y_train)\n",
        "x_train_smt, y_train_smt = smt.fit_resample(x_train, y_train)"
      ],
      "metadata": {
        "id": "C3_tgNhfbJnd"
      },
      "execution_count": null,
      "outputs": []
    },
    {
      "cell_type": "markdown",
      "source": [
        "## SMOTEENN Sampling Algorithm"
      ],
      "metadata": {
        "id": "ywYUMq2_IQJB"
      }
    },
    {
      "cell_type": "markdown",
      "source": [
        "### 1. Decision Tree"
      ],
      "metadata": {
        "id": "tGOc3VlBh7y2"
      }
    },
    {
      "cell_type": "code",
      "source": [
        "# Instantiate the grid search model\n",
        "dtree_model1 = DecisionTreeClassifier()\n",
        "dtree_model1.fit(x_train_sme,y_train_sme)\n"
      ],
      "metadata": {
        "id": "la6sUBuIh0P8"
      },
      "execution_count": null,
      "outputs": []
    },
    {
      "cell_type": "code",
      "source": [
        "pred_dtree1=dtree_model.predict(x_test_sme)\n",
        "pred_dtree1"
      ],
      "metadata": {
        "id": "jYd8eCj2iSFA"
      },
      "execution_count": null,
      "outputs": []
    },
    {
      "cell_type": "markdown",
      "source": [
        "### Evaluation Metrics For Decision Tree"
      ],
      "metadata": {
        "id": "eabveD3RHEaV"
      }
    },
    {
      "cell_type": "code",
      "source": [
        "print('MAE:', metrics.mean_absolute_error(y_test_sme,pred_dtree1))\n",
        "print('MSE:', metrics.mean_squared_error(y_test_sme,pred_dtree1))\n",
        "print('RMSE:', np.sqrt(metrics.mean_squared_error(y_test_sme,pred_dtree1)))"
      ],
      "metadata": {
        "id": "QzrYKKsRHLZu"
      },
      "execution_count": null,
      "outputs": []
    },
    {
      "cell_type": "markdown",
      "source": [
        "### Accuracy Score For Decesion\n",
        "\n",
        "Now calculate how accurate our predictions are by calculating the accuracy."
      ],
      "metadata": {
        "id": "gg7ZC2w6HdYe"
      }
    },
    {
      "cell_type": "code",
      "source": [
        "score_dtree1 =accuracy_score(pred_dtree1,y_test_sme)*100 \n",
        "score_dtree1"
      ],
      "metadata": {
        "id": "Sty15Gu2HrQZ"
      },
      "execution_count": null,
      "outputs": []
    },
    {
      "cell_type": "markdown",
      "source": [
        "### Confusion Metrix For Decision"
      ],
      "metadata": {
        "id": "En0TJCefH1SB"
      }
    },
    {
      "cell_type": "code",
      "source": [
        "cm = confusion_matrix(y_test_sme,pred_dtree1)\n",
        "plt.figure(figsize=(5,5))\n",
        "sns.heatmap(data=cm,linewidths=.5, annot=True,square = True,  cmap = 'Blues')\n",
        "plt.ylabel('Actual label')\n",
        "plt.xlabel('Predicted label')\n",
        "all_sample_title = 'Accuracy Score: {0} %'.format(dtree_model.score(x_test_sme,y_test_sme)*100)\n",
        "plt.title(all_sample_title, size = 15)"
      ],
      "metadata": {
        "id": "d0e42bWhH7u5"
      },
      "execution_count": null,
      "outputs": []
    },
    {
      "cell_type": "markdown",
      "source": [
        "### 2. Grid Search Algorithm"
      ],
      "metadata": {
        "id": "PmAyssWZJzcO"
      }
    },
    {
      "cell_type": "code",
      "execution_count": null,
      "metadata": {
        "id": "o5TlJKyQJzcP"
      },
      "outputs": [],
      "source": [
        "param_grid = {\n",
        "    'max_depth': range(5, 15, 5),\n",
        "    'min_samples_leaf': range(50, 150, 50),\n",
        "    'min_samples_split': range(50, 150, 50),\n",
        "}\n",
        "\n",
        "grid_search1 = GridSearchCV(estimator = dtree_model, \n",
        "                           param_grid = param_grid, \n",
        "                           scoring='roc_auc',\n",
        "                           cv = 5, \n",
        "                           verbose = 1)\n"
      ]
    },
    {
      "cell_type": "code",
      "source": [
        "grid_search1.fit(x_train_sme,y_train_sme)"
      ],
      "metadata": {
        "colab": {
          "base_uri": "https://localhost:8080/"
        },
        "outputId": "f60fcc11-23ff-48d2-af44-fa2768d6ec5a",
        "id": "RH-EziELJzcQ"
      },
      "execution_count": null,
      "outputs": [
        {
          "output_type": "stream",
          "name": "stdout",
          "text": [
            "Fitting 5 folds for each of 8 candidates, totalling 40 fits\n"
          ]
        },
        {
          "output_type": "execute_result",
          "data": {
            "text/plain": [
              "GridSearchCV(cv=5, estimator=DecisionTreeClassifier(),\n",
              "             param_grid={'max_depth': range(5, 15, 5),\n",
              "                         'min_samples_leaf': range(50, 150, 50),\n",
              "                         'min_samples_split': range(50, 150, 50)},\n",
              "             scoring='roc_auc', verbose=1)"
            ]
          },
          "metadata": {},
          "execution_count": 81
        }
      ]
    },
    {
      "cell_type": "code",
      "source": [
        "pred_gsearch1=grid_search1.predict(x_test_sme)\n",
        "pred_gsearch1"
      ],
      "metadata": {
        "colab": {
          "base_uri": "https://localhost:8080/"
        },
        "outputId": "e63c012a-261e-4ea6-bafa-4c36f9ed673e",
        "id": "luR4Ry0iJzcR"
      },
      "execution_count": null,
      "outputs": [
        {
          "output_type": "execute_result",
          "data": {
            "text/plain": [
              "array([0, 0, 1, ..., 0, 0, 0])"
            ]
          },
          "metadata": {},
          "execution_count": 82
        }
      ]
    },
    {
      "cell_type": "markdown",
      "source": [
        "#### Evaluation Metrics For Grid Search Algorithm"
      ],
      "metadata": {
        "id": "kbPOY9R5JzcR"
      }
    },
    {
      "cell_type": "code",
      "source": [
        "print('MAE:', metrics.mean_absolute_error(y_test_sme,pred_gsearch1))\n",
        "print('MSE:', metrics.mean_squared_error(y_test_sme,pred_gsearch1))\n",
        "print('RMSE:', np.sqrt(metrics.mean_squared_error(y_test_sme,pred_gsearch1)))"
      ],
      "metadata": {
        "colab": {
          "base_uri": "https://localhost:8080/"
        },
        "outputId": "9c8d6dc0-2d62-477b-8a5b-f5b6a3bef14d",
        "id": "XOfdNeGAJzcS"
      },
      "execution_count": null,
      "outputs": [
        {
          "output_type": "stream",
          "name": "stdout",
          "text": [
            "MAE: 0.12204546726096119\n",
            "MSE: 0.12204546726096119\n",
            "RMSE: 0.3493500640631989\n"
          ]
        }
      ]
    },
    {
      "cell_type": "markdown",
      "source": [
        "#### Accuracy Score For Grid Search\n",
        "\n",
        "Now calculate how accurate our predictions are by calculating the accuracy."
      ],
      "metadata": {
        "id": "R8f8wr5iJzcS"
      }
    },
    {
      "cell_type": "code",
      "source": [
        "score_gsearch1 =accuracy_score(pred_gsearch1,y_test_sme)*100 \n",
        "score_gsearch1"
      ],
      "metadata": {
        "colab": {
          "base_uri": "https://localhost:8080/"
        },
        "outputId": "8999a07e-33ae-4681-cede-c065d65fd4ab",
        "id": "R3KmF4JoJzcS"
      },
      "execution_count": null,
      "outputs": [
        {
          "output_type": "execute_result",
          "data": {
            "text/plain": [
              "87.79545327390387"
            ]
          },
          "metadata": {},
          "execution_count": 84
        }
      ]
    },
    {
      "cell_type": "markdown",
      "source": [
        "#### Confusion Metrix For Grid Search"
      ],
      "metadata": {
        "id": "tcpzR5cpJzcT"
      }
    },
    {
      "cell_type": "code",
      "source": [
        "cm = confusion_matrix(y_test_sme,pred_gsearch1)\n",
        "plt.figure(figsize=(5,5))\n",
        "sns.heatmap(data=cm,linewidths=.5, annot=True,square = True,  cmap = 'Blues')\n",
        "plt.ylabel('Actual label')\n",
        "plt.xlabel('Predicted label')\n",
        "all_sample_title = 'Accuracy Score: {0} %'.format(grid_search.score(x_test_sme,y_test_sme)*100)\n",
        "plt.title(all_sample_title, size =15)"
      ],
      "metadata": {
        "colab": {
          "base_uri": "https://localhost:8080/",
          "height": 326
        },
        "outputId": "f6d09544-a143-4370-dc44-d8b901ec1f4a",
        "id": "eE55OUnnJzcT"
      },
      "execution_count": null,
      "outputs": [
        {
          "output_type": "execute_result",
          "data": {
            "text/plain": [
              "Text(0.5, 1.0, 'Accuracy Score: 92.8952351930382 %')"
            ]
          },
          "metadata": {},
          "execution_count": 90
        },
        {
          "output_type": "display_data",
          "data": {
            "text/plain": [
              "<Figure size 360x360 with 2 Axes>"
            ],
            "image/png": "[encoded data removed]"
          },
          "metadata": {
            "needs_background": "light"
          }
        }
      ]
    },
    {
      "cell_type": "markdown",
      "source": [
        "## SMOTETomek Sampling Algorithm"
      ],
      "metadata": {
        "id": "Q85RtjyiKcb9"
      }
    },
    {
      "cell_type": "markdown",
      "source": [
        "### 1. Decision Tree"
      ],
      "metadata": {
        "id": "sRpjG973KzRN"
      }
    },
    {
      "cell_type": "code",
      "source": [
        "# Instantiate the grid search model\n",
        "dtree_model2 = DecisionTreeClassifier()\n",
        "dtree_model2.fit(x_train_smt,y_train_smt)\n"
      ],
      "metadata": {
        "id": "hO_3FOmNKzRO"
      },
      "execution_count": null,
      "outputs": []
    },
    {
      "cell_type": "code",
      "source": [
        "pred_dtree2=dtree_model.predict(x_test_smt)\n",
        "pred_dtree2"
      ],
      "metadata": {
        "id": "E5Z559fKKzRP"
      },
      "execution_count": null,
      "outputs": []
    },
    {
      "cell_type": "markdown",
      "source": [
        "### Evaluation Metrics For Decision Tree"
      ],
      "metadata": {
        "id": "mJxsWORaKzRP"
      }
    },
    {
      "cell_type": "code",
      "source": [
        "print('MAE:', metrics.mean_absolute_error(y_test_smt,pred_dtree2))\n",
        "print('MSE:', metrics.mean_squared_error(y_test_smt,pred_dtree2))\n",
        "print('RMSE:', np.sqrt(metrics.mean_squared_error(y_test_smt,pred_dtree2)))"
      ],
      "metadata": {
        "id": "XboCMfnTKzRP"
      },
      "execution_count": null,
      "outputs": []
    },
    {
      "cell_type": "markdown",
      "source": [
        "### Accuracy Score For Decesion\n",
        "\n",
        "Now calculate how accurate our predictions are by calculating the accuracy."
      ],
      "metadata": {
        "id": "aUla3e4UKzRQ"
      }
    },
    {
      "cell_type": "code",
      "source": [
        "score_dtree2 =accuracy_score(pred_dtree2,y_test_smt)*100 \n",
        "score_dtree2"
      ],
      "metadata": {
        "id": "qGQnM6grKzRQ"
      },
      "execution_count": null,
      "outputs": []
    },
    {
      "cell_type": "markdown",
      "source": [
        "### Confusion Metrix For Decision"
      ],
      "metadata": {
        "id": "QP93MgWwKzRR"
      }
    },
    {
      "cell_type": "code",
      "source": [
        "cm = confusion_matrix(y_test_smt,pred_dtree2)\n",
        "plt.figure(figsize=(5,5))\n",
        "sns.heatmap(data=cm,linewidths=.5, annot=True,square = True,  cmap = 'Blues')\n",
        "plt.ylabel('Actual label')\n",
        "plt.xlabel('Predicted label')\n",
        "all_sample_title = 'Accuracy Score: {0} %'.format(dtree_model2.score(x_test_smt,y_test_smt)*100)\n",
        "plt.title(all_sample_title, size = 15)"
      ],
      "metadata": {
        "id": "TY278ZBMKzRR"
      },
      "execution_count": null,
      "outputs": []
    },
    {
      "cell_type": "markdown",
      "source": [
        "### 2. Grid Search Algorithm"
      ],
      "metadata": {
        "id": "30QFY4HVKzRS"
      }
    },
    {
      "cell_type": "code",
      "execution_count": null,
      "metadata": {
        "id": "7tJdTDHxKzRS"
      },
      "outputs": [],
      "source": [
        "param_grid = {\n",
        "    'max_depth': range(5, 15, 5),\n",
        "    'min_samples_leaf': range(50, 150, 50),\n",
        "    'min_samples_split': range(50, 150, 50),\n",
        "}\n",
        "\n",
        "grid_search2 = GridSearchCV(estimator = dtree_model, \n",
        "                           param_grid = param_grid, \n",
        "                           scoring='roc_auc',\n",
        "                           cv = 5, \n",
        "                           verbose = 1)\n"
      ]
    },
    {
      "cell_type": "code",
      "source": [
        "grid_search2.fit(x_train_smt,y_train_smt)"
      ],
      "metadata": {
        "colab": {
          "base_uri": "https://localhost:8080/"
        },
        "outputId": "f60fcc11-23ff-48d2-af44-fa2768d6ec5a",
        "id": "Q4ybSJNjKzRT"
      },
      "execution_count": null,
      "outputs": [
        {
          "output_type": "stream",
          "name": "stdout",
          "text": [
            "Fitting 5 folds for each of 8 candidates, totalling 40 fits\n"
          ]
        },
        {
          "output_type": "execute_result",
          "data": {
            "text/plain": [
              "GridSearchCV(cv=5, estimator=DecisionTreeClassifier(),\n",
              "             param_grid={'max_depth': range(5, 15, 5),\n",
              "                         'min_samples_leaf': range(50, 150, 50),\n",
              "                         'min_samples_split': range(50, 150, 50)},\n",
              "             scoring='roc_auc', verbose=1)"
            ]
          },
          "metadata": {},
          "execution_count": 81
        }
      ]
    },
    {
      "cell_type": "code",
      "source": [
        "pred_gsearch2=grid_search2.predict(x_test_smt)\n",
        "pred_gsearch2"
      ],
      "metadata": {
        "colab": {
          "base_uri": "https://localhost:8080/"
        },
        "outputId": "e63c012a-261e-4ea6-bafa-4c36f9ed673e",
        "id": "MMLzMB2FKzRT"
      },
      "execution_count": null,
      "outputs": [
        {
          "output_type": "execute_result",
          "data": {
            "text/plain": [
              "array([0, 0, 1, ..., 0, 0, 0])"
            ]
          },
          "metadata": {},
          "execution_count": 82
        }
      ]
    },
    {
      "cell_type": "markdown",
      "source": [
        "#### Evaluation Metrics For Grid Search Algorithm"
      ],
      "metadata": {
        "id": "MpKroU0KKzRU"
      }
    },
    {
      "cell_type": "code",
      "source": [
        "print('MAE:', metrics.mean_absolute_error(y_test_smt,pred_gsearch2))\n",
        "print('MSE:', metrics.mean_squared_error(y_test_smt,pred_gsearch2))\n",
        "print('RMSE:', np.sqrt(metrics.mean_squared_error(y_test_smt,pred_gsearch2)))"
      ],
      "metadata": {
        "colab": {
          "base_uri": "https://localhost:8080/"
        },
        "outputId": "9c8d6dc0-2d62-477b-8a5b-f5b6a3bef14d",
        "id": "VYFqxmLlKzRV"
      },
      "execution_count": null,
      "outputs": [
        {
          "output_type": "stream",
          "name": "stdout",
          "text": [
            "MAE: 0.12204546726096119\n",
            "MSE: 0.12204546726096119\n",
            "RMSE: 0.3493500640631989\n"
          ]
        }
      ]
    },
    {
      "cell_type": "markdown",
      "source": [
        "#### Accuracy Score For Grid Search\n",
        "\n",
        "Now calculate how accurate our predictions are by calculating the accuracy."
      ],
      "metadata": {
        "id": "iFfm3NLqKzRW"
      }
    },
    {
      "cell_type": "code",
      "source": [
        "score_gsearch2 =accuracy_score(pred_gsearch2,y_test_smt)*100 \n",
        "score_gsearch2"
      ],
      "metadata": {
        "colab": {
          "base_uri": "https://localhost:8080/"
        },
        "outputId": "8999a07e-33ae-4681-cede-c065d65fd4ab",
        "id": "3-w0KRWEKzRX"
      },
      "execution_count": null,
      "outputs": [
        {
          "output_type": "execute_result",
          "data": {
            "text/plain": [
              "87.79545327390387"
            ]
          },
          "metadata": {},
          "execution_count": 84
        }
      ]
    },
    {
      "cell_type": "markdown",
      "source": [
        "#### Confusion Metrix For Grid Search"
      ],
      "metadata": {
        "id": "5RYza_F0KzRY"
      }
    },
    {
      "cell_type": "code",
      "source": [
        "cm = confusion_matrix(y_test_smt,pred_gsearch2)\n",
        "plt.figure(figsize=(5,5))\n",
        "sns.heatmap(data=cm,linewidths=.5, annot=True,square = True,  cmap = 'Blues')\n",
        "plt.ylabel('Actual label')\n",
        "plt.xlabel('Predicted label')\n",
        "all_sample_title = 'Accuracy Score: {0} %'.format(grid_search.score(x_test_smt,y_test_smt)*100)\n",
        "plt.title(all_sample_title, size =15)"
      ],
      "metadata": {
        "colab": {
          "base_uri": "https://localhost:8080/",
          "height": 326
        },
        "outputId": "f6d09544-a143-4370-dc44-d8b901ec1f4a",
        "id": "AVVySNIXKzRY"
      },
      "execution_count": null,
      "outputs": [
        {
          "output_type": "execute_result",
          "data": {
            "text/plain": [
              "Text(0.5, 1.0, 'Accuracy Score: 92.8952351930382 %')"
            ]
          },
          "metadata": {},
          "execution_count": 90
        },
        {
          "output_type": "display_data",
          "data": {
            "text/plain": [
              "<Figure size 360x360 with 2 Axes>"
            ],
            "image/png": "[encoded data removed]"
          },
          "metadata": {
            "needs_background": "light"
          }
        }
      ]
    }
  ],
  "metadata": {
    "colab": {
      "provenance": [],
      "include_colab_link": true
    },
    "kernelspec": {
      "display_name": "Python 3",
      "name": "python3"
    },
    "language_info": {
      "name": "python"
    }
  },
  "nbformat": 4,
  "nbformat_minor": 0
}